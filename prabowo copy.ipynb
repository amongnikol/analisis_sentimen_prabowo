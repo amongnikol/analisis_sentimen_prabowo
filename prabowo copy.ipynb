{
 "cells": [
  {
   "cell_type": "code",
   "execution_count": 2,
   "id": "05ef299a",
   "metadata": {},
   "outputs": [
    {
     "name": "stderr",
     "output_type": "stream",
     "text": [
      "[nltk_data] Downloading package stopwords to\n",
      "[nltk_data]     C:\\Users\\akmal\\AppData\\Roaming\\nltk_data...\n",
      "[nltk_data]   Package stopwords is already up-to-date!\n",
      "[nltk_data] Downloading package punkt to\n",
      "[nltk_data]     C:\\Users\\akmal\\AppData\\Roaming\\nltk_data...\n",
      "[nltk_data]   Package punkt is already up-to-date!\n",
      "[nltk_data] Downloading package punkt_tab to\n",
      "[nltk_data]     C:\\Users\\akmal\\AppData\\Roaming\\nltk_data...\n",
      "[nltk_data]   Package punkt_tab is already up-to-date!\n"
     ]
    }
   ],
   "source": [
    "import nltk\n",
    "import pandas as pd\n",
    "import numpy as np\n",
    "import re\n",
    "\n",
    "import matplotlib.pyplot as plt\n",
    "import seaborn as sns\n",
    "\n",
    "from nltk.corpus import stopwords\n",
    "from nltk.tokenize import word_tokenize\n",
    "from Sastrawi.Stemmer.StemmerFactory import StemmerFactory\n",
    "import string\n",
    "\n",
    "nltk.download('stopwords')\n",
    "nltk.download('punkt')\n",
    "nltk.download('punkt_tab')\n",
    "\n",
    "import tensorflow as tf\n",
    "from sklearn.model_selection import train_test_split\n",
    "from sklearn.feature_extraction.text import CountVectorizer\n",
    "from tensorflow.keras.optimizers import Adam\n",
    "from tensorflow.keras.layers import Input\n",
    "from tensorflow.keras.callbacks import EarlyStopping\n",
    "from tensorflow.keras import regularizers\n",
    "from tensorflow.keras.models import load_model\n",
    "from tensorflow.keras.layers import TextVectorization, Embedding\n",
    "from tensorflow.keras.utils import to_categorical"
   ]
  },
  {
   "cell_type": "code",
   "execution_count": 9,
   "id": "014970c3",
   "metadata": {},
   "outputs": [
    {
     "data": {
      "text/html": [
       "<div>\n",
       "<style scoped>\n",
       "    .dataframe tbody tr th:only-of-type {\n",
       "        vertical-align: middle;\n",
       "    }\n",
       "\n",
       "    .dataframe tbody tr th {\n",
       "        vertical-align: top;\n",
       "    }\n",
       "\n",
       "    .dataframe thead th {\n",
       "        text-align: right;\n",
       "    }\n",
       "</style>\n",
       "<table border=\"1\" class=\"dataframe\">\n",
       "  <thead>\n",
       "    <tr style=\"text-align: right;\">\n",
       "      <th></th>\n",
       "      <th>conversation_id_str</th>\n",
       "      <th>created_at</th>\n",
       "      <th>favorite_count</th>\n",
       "      <th>full_text</th>\n",
       "      <th>id_str</th>\n",
       "      <th>image_url</th>\n",
       "      <th>in_reply_to_screen_name</th>\n",
       "      <th>lang</th>\n",
       "      <th>location</th>\n",
       "      <th>quote_count</th>\n",
       "      <th>reply_count</th>\n",
       "      <th>retweet_count</th>\n",
       "      <th>tweet_url</th>\n",
       "      <th>user_id_str</th>\n",
       "      <th>username</th>\n",
       "    </tr>\n",
       "  </thead>\n",
       "  <tbody>\n",
       "    <tr>\n",
       "      <th>0</th>\n",
       "      <td>1917264334755094745</td>\n",
       "      <td>Tue Apr 29 17:06:53 +0000 2025</td>\n",
       "      <td>213</td>\n",
       "      <td>Anggota DPR Komisi II Komarudin WatoBun menila...</td>\n",
       "      <td>1917264334755094745</td>\n",
       "      <td>https://pbs.twimg.com/ext_tw_video_thumb/19172...</td>\n",
       "      <td>NaN</td>\n",
       "      <td>in</td>\n",
       "      <td>NaN</td>\n",
       "      <td>3</td>\n",
       "      <td>15</td>\n",
       "      <td>85</td>\n",
       "      <td>https://x.com/Nobody_2811/status/1917264334755...</td>\n",
       "      <td>1787788662295683072</td>\n",
       "      <td>Nobody_2811</td>\n",
       "    </tr>\n",
       "    <tr>\n",
       "      <th>1</th>\n",
       "      <td>1917231645486354588</td>\n",
       "      <td>Tue Apr 29 14:56:59 +0000 2025</td>\n",
       "      <td>137</td>\n",
       "      <td>Senin sore (28/4) saya menghadiri undangan per...</td>\n",
       "      <td>1917231645486354588</td>\n",
       "      <td>https://pbs.twimg.com/ext_tw_video_thumb/19172...</td>\n",
       "      <td>NaN</td>\n",
       "      <td>in</td>\n",
       "      <td>NaN</td>\n",
       "      <td>3</td>\n",
       "      <td>25</td>\n",
       "      <td>40</td>\n",
       "      <td>https://x.com/AgusYudhoyono/status/19172316454...</td>\n",
       "      <td>842986784</td>\n",
       "      <td>AgusYudhoyono</td>\n",
       "    </tr>\n",
       "    <tr>\n",
       "      <th>2</th>\n",
       "      <td>1917227526818316489</td>\n",
       "      <td>Tue Apr 29 14:40:37 +0000 2025</td>\n",
       "      <td>2361</td>\n",
       "      <td>Dulu LBP bgitu kejam ke Presiden @prabowo bahk...</td>\n",
       "      <td>1917227526818316489</td>\n",
       "      <td>https://pbs.twimg.com/media/GptcRQ7bgAAuKLZ.jpg</td>\n",
       "      <td>NaN</td>\n",
       "      <td>in</td>\n",
       "      <td>NaN</td>\n",
       "      <td>29</td>\n",
       "      <td>177</td>\n",
       "      <td>1010</td>\n",
       "      <td>https://x.com/bachrum_achmadi/status/191722752...</td>\n",
       "      <td>105085302</td>\n",
       "      <td>bachrum_achmadi</td>\n",
       "    </tr>\n",
       "    <tr>\n",
       "      <th>3</th>\n",
       "      <td>1917222387415945710</td>\n",
       "      <td>Tue Apr 29 14:20:12 +0000 2025</td>\n",
       "      <td>113</td>\n",
       "      <td>Karena saya cinta Polri makanya saya kritik. U...</td>\n",
       "      <td>1917222387415945710</td>\n",
       "      <td>https://pbs.twimg.com/ext_tw_video_thumb/19172...</td>\n",
       "      <td>NaN</td>\n",
       "      <td>in</td>\n",
       "      <td>NaN</td>\n",
       "      <td>1</td>\n",
       "      <td>1</td>\n",
       "      <td>45</td>\n",
       "      <td>https://x.com/_riverheaven/status/191722238741...</td>\n",
       "      <td>975389335775199232</td>\n",
       "      <td>_riverheaven</td>\n",
       "    </tr>\n",
       "    <tr>\n",
       "      <th>4</th>\n",
       "      <td>1917207823710388289</td>\n",
       "      <td>Tue Apr 29 13:22:19 +0000 2025</td>\n",
       "      <td>252</td>\n",
       "      <td>Setuju untuk mas Angga Raka Prabowo menjadi Ju...</td>\n",
       "      <td>1917207823710388289</td>\n",
       "      <td>NaN</td>\n",
       "      <td>NaN</td>\n",
       "      <td>in</td>\n",
       "      <td>NaN</td>\n",
       "      <td>1</td>\n",
       "      <td>22</td>\n",
       "      <td>54</td>\n",
       "      <td>https://x.com/PartaiSocmed/status/191720782371...</td>\n",
       "      <td>869327120</td>\n",
       "      <td>PartaiSocmed</td>\n",
       "    </tr>\n",
       "  </tbody>\n",
       "</table>\n",
       "</div>"
      ],
      "text/plain": [
       "   conversation_id_str                      created_at  favorite_count  \\\n",
       "0  1917264334755094745  Tue Apr 29 17:06:53 +0000 2025             213   \n",
       "1  1917231645486354588  Tue Apr 29 14:56:59 +0000 2025             137   \n",
       "2  1917227526818316489  Tue Apr 29 14:40:37 +0000 2025            2361   \n",
       "3  1917222387415945710  Tue Apr 29 14:20:12 +0000 2025             113   \n",
       "4  1917207823710388289  Tue Apr 29 13:22:19 +0000 2025             252   \n",
       "\n",
       "                                           full_text               id_str  \\\n",
       "0  Anggota DPR Komisi II Komarudin WatoBun menila...  1917264334755094745   \n",
       "1  Senin sore (28/4) saya menghadiri undangan per...  1917231645486354588   \n",
       "2  Dulu LBP bgitu kejam ke Presiden @prabowo bahk...  1917227526818316489   \n",
       "3  Karena saya cinta Polri makanya saya kritik. U...  1917222387415945710   \n",
       "4  Setuju untuk mas Angga Raka Prabowo menjadi Ju...  1917207823710388289   \n",
       "\n",
       "                                           image_url in_reply_to_screen_name  \\\n",
       "0  https://pbs.twimg.com/ext_tw_video_thumb/19172...                     NaN   \n",
       "1  https://pbs.twimg.com/ext_tw_video_thumb/19172...                     NaN   \n",
       "2    https://pbs.twimg.com/media/GptcRQ7bgAAuKLZ.jpg                     NaN   \n",
       "3  https://pbs.twimg.com/ext_tw_video_thumb/19172...                     NaN   \n",
       "4                                                NaN                     NaN   \n",
       "\n",
       "  lang  location  quote_count  reply_count  retweet_count  \\\n",
       "0   in       NaN            3           15             85   \n",
       "1   in       NaN            3           25             40   \n",
       "2   in       NaN           29          177           1010   \n",
       "3   in       NaN            1            1             45   \n",
       "4   in       NaN            1           22             54   \n",
       "\n",
       "                                           tweet_url          user_id_str  \\\n",
       "0  https://x.com/Nobody_2811/status/1917264334755...  1787788662295683072   \n",
       "1  https://x.com/AgusYudhoyono/status/19172316454...            842986784   \n",
       "2  https://x.com/bachrum_achmadi/status/191722752...            105085302   \n",
       "3  https://x.com/_riverheaven/status/191722238741...   975389335775199232   \n",
       "4  https://x.com/PartaiSocmed/status/191720782371...            869327120   \n",
       "\n",
       "          username  \n",
       "0      Nobody_2811  \n",
       "1    AgusYudhoyono  \n",
       "2  bachrum_achmadi  \n",
       "3     _riverheaven  \n",
       "4     PartaiSocmed  "
      ]
     },
     "execution_count": 9,
     "metadata": {},
     "output_type": "execute_result"
    }
   ],
   "source": [
    "df1 = pd.read_csv('dataset/df_prabowo_april_2025.csv', sep=';')\n",
    "df1.head()"
   ]
  },
  {
   "cell_type": "markdown",
   "id": "c81e0e83",
   "metadata": {},
   "source": [
    "# Text Preprocessing"
   ]
  },
  {
   "cell_type": "code",
   "execution_count": 6,
   "id": "d03153e4",
   "metadata": {},
   "outputs": [
    {
     "name": "stdout",
     "output_type": "stream",
     "text": [
      "<class 'pandas.core.frame.DataFrame'>\n",
      "RangeIndex: 10931 entries, 0 to 10930\n",
      "Data columns (total 2 columns):\n",
      " #   Column      Non-Null Count  Dtype \n",
      "---  ------      --------------  ----- \n",
      " 0   Unnamed: 0  10931 non-null  int64 \n",
      " 1   full_text   10931 non-null  object\n",
      "dtypes: int64(1), object(1)\n",
      "memory usage: 170.9+ KB\n"
     ]
    }
   ],
   "source": [
    "df = pd.read_csv('dataset/text/prabowo_text11000.csv')\n",
    "df.info()"
   ]
  },
  {
   "cell_type": "code",
   "execution_count": 8,
   "id": "7204e30a",
   "metadata": {},
   "outputs": [
    {
     "data": {
      "text/plain": [
       "label\n",
       "neutral     1971\n",
       "negative    1450\n",
       "positive     714\n",
       "Name: count, dtype: int64"
      ]
     },
     "execution_count": 8,
     "metadata": {},
     "output_type": "execute_result"
    }
   ],
   "source": [
    "df['label'].value_counts()"
   ]
  },
  {
   "cell_type": "code",
   "execution_count": 9,
   "id": "88c2ce6f",
   "metadata": {},
   "outputs": [],
   "source": [
    "import re\n",
    "from Sastrawi.Stemmer.StemmerFactory import StemmerFactory\n",
    "from nltk.tokenize import RegexpTokenizer\n",
    "from nltk.corpus import stopwords\n",
    "\n",
    "# Setup stemmer dan stopwords hanya sekali\n",
    "factory = StemmerFactory()\n",
    "stemmer = factory.create_stemmer()\n",
    "stpwds_id = set(stopwords.words(\"indonesian\"))\n",
    "tokenizer = RegexpTokenizer(r\"\\b[^\\d\\W]+\\b\")  # hanya ambil kata (bukan angka/simbol)\n",
    "\n",
    "def text_proses_efisien(teks):\n",
    "    teks = teks.lower()\n",
    "    teks = re.sub(r'(@\\w+|#\\w+|http\\S+|www.\\S+|\\\\n|rt)', ' ', teks)\n",
    "    teks = re.sub(r\"[^a-zA-Z\\s']\", ' ', teks)  # hanya huruf dan spasi\n",
    "    tokens = tokenizer.tokenize(teks)  # tokenizer cepat\n",
    "    tokens = [t for t in tokens if t not in stpwds_id]\n",
    "    stemmed_tokens = [stemmer.stem(t) for t in tokens]\n",
    "    return ' '.join(stemmed_tokens)\n"
   ]
  },
  {
   "cell_type": "code",
   "execution_count": 7,
   "id": "67685b6f",
   "metadata": {},
   "outputs": [],
   "source": [
    "import re\n",
    "from Sastrawi.Stemmer.StemmerFactory import StemmerFactory\n",
    "from nltk.tokenize import RegexpTokenizer\n",
    "from nltk.corpus import stopwords\n",
    "\n",
    "# Inisialisasi hanya sekali\n",
    "factory = StemmerFactory()\n",
    "stemmer = factory.create_stemmer()\n",
    "stpwds_id = set(stopwords.words(\"indonesian\"))\n",
    "tokenizer = RegexpTokenizer(r\"\\b[^\\d\\W]+\\b\")\n",
    "\n",
    "# Kompilasi regex untuk performa\n",
    "re_pattern1 = re.compile(r'(@\\w+|#\\w+|http\\S+|www.\\S+|\\\\n|rt)')\n",
    "re_pattern2 = re.compile(r\"[^a-zA-Z\\s']\")\n",
    "\n",
    "def preprocess_text(teks):\n",
    "    teks = teks.lower()\n",
    "    teks = re_pattern1.sub(' ', teks)\n",
    "    teks = re_pattern2.sub(' ', teks)\n",
    "    tokens = tokenizer.tokenize(teks)\n",
    "    filtered = [t for t in tokens if t not in stpwds_id]\n",
    "    stemmed = stemmer.stem(' '.join(filtered))  # stem sekaligus (lebih cepat!)\n",
    "    return stemmed\n"
   ]
  },
  {
   "cell_type": "code",
   "execution_count": 8,
   "id": "2fb93f59",
   "metadata": {},
   "outputs": [
    {
     "name": "stderr",
     "output_type": "stream",
     "text": [
      "Pandas Apply: 100%|██████████| 10931/10931 [37:33<00:00,  4.85it/s] \n"
     ]
    },
    {
     "data": {
      "text/html": [
       "<div>\n",
       "<style scoped>\n",
       "    .dataframe tbody tr th:only-of-type {\n",
       "        vertical-align: middle;\n",
       "    }\n",
       "\n",
       "    .dataframe tbody tr th {\n",
       "        vertical-align: top;\n",
       "    }\n",
       "\n",
       "    .dataframe thead th {\n",
       "        text-align: right;\n",
       "    }\n",
       "</style>\n",
       "<table border=\"1\" class=\"dataframe\">\n",
       "  <thead>\n",
       "    <tr style=\"text-align: right;\">\n",
       "      <th></th>\n",
       "      <th>Unnamed: 0</th>\n",
       "      <th>full_text</th>\n",
       "      <th>text_processed</th>\n",
       "    </tr>\n",
       "  </thead>\n",
       "  <tbody>\n",
       "    <tr>\n",
       "      <th>0</th>\n",
       "      <td>0</td>\n",
       "      <td>OK gas ...Indonesia Emas nih pak @prabowo @gib...</td>\n",
       "      <td>ok gas indonesia emas nih l berkas kerja keras...</td>\n",
       "    </tr>\n",
       "    <tr>\n",
       "      <th>1</th>\n",
       "      <td>1</td>\n",
       "      <td>@uglygrunge1798 @Heraloebss @prabowo @gibran_t...</td>\n",
       "      <td>ngga hubung pilih presiden wapres puas pilih e...</td>\n",
       "    </tr>\n",
       "    <tr>\n",
       "      <th>2</th>\n",
       "      <td>2</td>\n",
       "      <td>@DedynurPalakka Kinerja? Emang pernah dikasih ...</td>\n",
       "      <td>kerja emang kasih tugas misi sm prabowo</td>\n",
       "    </tr>\n",
       "    <tr>\n",
       "      <th>3</th>\n",
       "      <td>3</td>\n",
       "      <td>@txtdrimedia Kinerja?? Emang dikasi tugas apa ...</td>\n",
       "      <td>kerja emang kasi tugas sm prabowo</td>\n",
       "    </tr>\n",
       "    <tr>\n",
       "      <th>4</th>\n",
       "      <td>4</td>\n",
       "      <td>@uglygrunge1798 @Heraloebss @prabowo @gibran_t...</td>\n",
       "      <td>demokrasi tupoksi kerja ndasmu pimpin yg tdk m...</td>\n",
       "    </tr>\n",
       "  </tbody>\n",
       "</table>\n",
       "</div>"
      ],
      "text/plain": [
       "   Unnamed: 0                                          full_text  \\\n",
       "0           0  OK gas ...Indonesia Emas nih pak @prabowo @gib...   \n",
       "1           1  @uglygrunge1798 @Heraloebss @prabowo @gibran_t...   \n",
       "2           2  @DedynurPalakka Kinerja? Emang pernah dikasih ...   \n",
       "3           3  @txtdrimedia Kinerja?? Emang dikasi tugas apa ...   \n",
       "4           4  @uglygrunge1798 @Heraloebss @prabowo @gibran_t...   \n",
       "\n",
       "                                      text_processed  \n",
       "0  ok gas indonesia emas nih l berkas kerja keras...  \n",
       "1  ngga hubung pilih presiden wapres puas pilih e...  \n",
       "2            kerja emang kasih tugas misi sm prabowo  \n",
       "3                  kerja emang kasi tugas sm prabowo  \n",
       "4  demokrasi tupoksi kerja ndasmu pimpin yg tdk m...  "
      ]
     },
     "execution_count": 8,
     "metadata": {},
     "output_type": "execute_result"
    }
   ],
   "source": [
    "import swifter\n",
    "\n",
    "df['text_processed'] = df['full_text'].swifter.apply(preprocess_text)\n",
    "df.head()"
   ]
  },
  {
   "cell_type": "code",
   "execution_count": 9,
   "id": "8da72bd5",
   "metadata": {},
   "outputs": [],
   "source": [
    "df.to_csv(\"dataset/text/prabowo_text_processed.csv\", index=False)"
   ]
  },
  {
   "cell_type": "code",
   "execution_count": 12,
   "id": "6e3542e4",
   "metadata": {},
   "outputs": [
    {
     "data": {
      "text/html": [
       "<div>\n",
       "<style scoped>\n",
       "    .dataframe tbody tr th:only-of-type {\n",
       "        vertical-align: middle;\n",
       "    }\n",
       "\n",
       "    .dataframe tbody tr th {\n",
       "        vertical-align: top;\n",
       "    }\n",
       "\n",
       "    .dataframe thead th {\n",
       "        text-align: right;\n",
       "    }\n",
       "</style>\n",
       "<table border=\"1\" class=\"dataframe\">\n",
       "  <thead>\n",
       "    <tr style=\"text-align: right;\">\n",
       "      <th></th>\n",
       "      <th>full_text</th>\n",
       "      <th>label</th>\n",
       "      <th>text_processed</th>\n",
       "      <th>label_num</th>\n",
       "    </tr>\n",
       "  </thead>\n",
       "  <tbody>\n",
       "    <tr>\n",
       "      <th>0</th>\n",
       "      <td>So sweet Pak Prabowo dapat hadiah patung kucin...</td>\n",
       "      <td>positive</td>\n",
       "      <td>so sweet prabowo hadiah patung kucing perdana ...</td>\n",
       "      <td>1</td>\n",
       "    </tr>\n",
       "    <tr>\n",
       "      <th>1</th>\n",
       "      <td>@jilulisme Dari pas doi dki 1 udah kerasa pend...</td>\n",
       "      <td>positive</td>\n",
       "      <td>pas doi dki udah rasa dukung vibes nya dgn duk...</td>\n",
       "      <td>1</td>\n",
       "    </tr>\n",
       "    <tr>\n",
       "      <th>2</th>\n",
       "      <td>@AnKiiim_ Mohon Perhatiannya Pak @prabowo Bang...</td>\n",
       "      <td>positive</td>\n",
       "      <td>mohon perhati bang proses hukum sepe i patut n...</td>\n",
       "      <td>1</td>\n",
       "    </tr>\n",
       "    <tr>\n",
       "      <th>3</th>\n",
       "      <td>@prabowo Kami senang-bangga Bpk Presiden di sa...</td>\n",
       "      <td>positive</td>\n",
       "      <td>senang bangga bpk presiden sambut hangat kepal...</td>\n",
       "      <td>1</td>\n",
       "    </tr>\n",
       "    <tr>\n",
       "      <th>4</th>\n",
       "      <td>@hipohan Kami sbg warga Jabar masih percaya ko...</td>\n",
       "      <td>positive</td>\n",
       "      <td>sbg warga jabar percaya konsistensi kerja aing...</td>\n",
       "      <td>1</td>\n",
       "    </tr>\n",
       "  </tbody>\n",
       "</table>\n",
       "</div>"
      ],
      "text/plain": [
       "                                           full_text     label  \\\n",
       "0  So sweet Pak Prabowo dapat hadiah patung kucin...  positive   \n",
       "1  @jilulisme Dari pas doi dki 1 udah kerasa pend...  positive   \n",
       "2  @AnKiiim_ Mohon Perhatiannya Pak @prabowo Bang...  positive   \n",
       "3  @prabowo Kami senang-bangga Bpk Presiden di sa...  positive   \n",
       "4  @hipohan Kami sbg warga Jabar masih percaya ko...  positive   \n",
       "\n",
       "                                      text_processed  label_num  \n",
       "0  so sweet prabowo hadiah patung kucing perdana ...          1  \n",
       "1  pas doi dki udah rasa dukung vibes nya dgn duk...          1  \n",
       "2  mohon perhati bang proses hukum sepe i patut n...          1  \n",
       "3  senang bangga bpk presiden sambut hangat kepal...          1  \n",
       "4  sbg warga jabar percaya konsistensi kerja aing...          1  "
      ]
     },
     "execution_count": 12,
     "metadata": {},
     "output_type": "execute_result"
    }
   ],
   "source": [
    "df_prabowo = pd.read_csv('prabowo_text_processed.csv')\n",
    "df_prabowo['label_num'] = df_prabowo['label'].replace({'neutral' : 0, 'positive' : 1, 'negative' : 2})\n",
    "df_prabowo.head()"
   ]
  },
  {
   "cell_type": "code",
   "execution_count": 13,
   "id": "d667d885",
   "metadata": {},
   "outputs": [
    {
     "name": "stdout",
     "output_type": "stream",
     "text": [
      "<class 'pandas.core.frame.DataFrame'>\n",
      "RangeIndex: 4135 entries, 0 to 4134\n",
      "Data columns (total 4 columns):\n",
      " #   Column          Non-Null Count  Dtype \n",
      "---  ------          --------------  ----- \n",
      " 0   full_text       4135 non-null   object\n",
      " 1   label           4135 non-null   object\n",
      " 2   text_processed  4135 non-null   object\n",
      " 3   label_num       4135 non-null   int64 \n",
      "dtypes: int64(1), object(3)\n",
      "memory usage: 129.3+ KB\n"
     ]
    }
   ],
   "source": [
    "df_prabowo.info()"
   ]
  },
  {
   "cell_type": "code",
   "execution_count": 18,
   "id": "2ea7a098",
   "metadata": {},
   "outputs": [
    {
     "name": "stdout",
     "output_type": "stream",
     "text": [
      "Jumlah kata unik: 8803\n",
      "MAX_WORDS yang digunakan: 8803\n"
     ]
    }
   ],
   "source": [
    "from tensorflow.keras.preprocessing.text import Tokenizer\n",
    "from tensorflow.keras.preprocessing.sequence import pad_sequences\n",
    "import numpy as np\n",
    "import matplotlib.pyplot as plt\n",
    "\n",
    "# 1. Inisialisasi dan fit tokenizer\n",
    "tokenizer = Tokenizer()\n",
    "tokenizer.fit_on_texts(df['text_processed'])\n",
    "\n",
    "# 2. Tentukan MAX_WORDS berdasarkan jumlah kata unik\n",
    "total_kata_unik = len(tokenizer.word_index)\n",
    "print(\"Jumlah kata unik:\", total_kata_unik)\n",
    "\n",
    "# Atur MAX_WORDS agar tidak terlalu besar\n",
    "if total_kata_unik > 20000:\n",
    "    MAX_WORDS = 15000\n",
    "elif total_kata_unik > 10000:\n",
    "    MAX_WORDS = 10000\n",
    "else:\n",
    "    MAX_WORDS = total_kata_unik\n",
    "\n",
    "print(\"MAX_WORDS yang digunakan:\", MAX_WORDS)"
   ]
  },
  {
   "cell_type": "code",
   "execution_count": 19,
   "id": "149769e0",
   "metadata": {},
   "outputs": [
    {
     "data": {
      "image/png": "[encoded data removed]",
      "text/plain": [
       "<Figure size 640x480 with 1 Axes>"
      ]
     },
     "metadata": {},
     "output_type": "display_data"
    },
    {
     "name": "stdout",
     "output_type": "stream",
     "text": [
      "MAX_LEN (persentil 95): 31\n"
     ]
    }
   ],
   "source": [
    "# 3. Hitung panjang tiap kalimat\n",
    "sequences = tokenizer.texts_to_sequences(df_prabowo['text_processed'])\n",
    "panjang_kalimat = [len(seq) for seq in sequences]\n",
    "\n",
    "# 4. Tentukan MAX_LEN berdasarkan distribusi panjang\n",
    "plt.hist(panjang_kalimat, bins=50)\n",
    "plt.title('Distribusi Panjang Kalimat')\n",
    "plt.xlabel('Jumlah Kata')\n",
    "plt.ylabel('Jumlah Teks')\n",
    "plt.show()\n",
    "\n",
    "MAX_LEN = int(np.percentile(panjang_kalimat, 95))\n",
    "print(\"MAX_LEN (persentil 95):\", MAX_LEN)"
   ]
  },
  {
   "cell_type": "code",
   "execution_count": 20,
   "id": "c88df6e4",
   "metadata": {},
   "outputs": [],
   "source": [
    "# 5. Lakukan ulang tokenizer dengan batasan MAX_WORDS\n",
    "tokenizer = Tokenizer(num_words=MAX_WORDS, oov_token=\"<OOV>\")\n",
    "tokenizer.fit_on_texts(df_prabowo['text_processed'])\n",
    "sequences = tokenizer.texts_to_sequences(df_prabowo['text_processed'])\n",
    "\n",
    "# 6. Padding sequences\n",
    "padded = pad_sequences(sequences, maxlen=MAX_LEN, padding='post', truncating='post')"
   ]
  },
  {
   "cell_type": "markdown",
   "id": "e325608f",
   "metadata": {},
   "source": [
    "# Feature Engineering"
   ]
  },
  {
   "cell_type": "code",
   "execution_count": 22,
   "id": "ddea4679",
   "metadata": {},
   "outputs": [
    {
     "data": {
      "text/plain": [
       "(label_num\n",
       " 0    1379\n",
       " 2    1015\n",
       " 1     500\n",
       " Name: count, dtype: int64,\n",
       " label_num\n",
       " 0    592\n",
       " 2    435\n",
       " 1    214\n",
       " Name: count, dtype: int64)"
      ]
     },
     "execution_count": 22,
     "metadata": {},
     "output_type": "execute_result"
    }
   ],
   "source": [
    "X_train, X_test, y_train, y_test = train_test_split(\n",
    "    padded, df_prabowo['label_num'], test_size=0.3, random_state=42, stratify=df_prabowo['label_num']\n",
    ")\n",
    "y_train.value_counts(), y_test.value_counts()"
   ]
  },
  {
   "cell_type": "markdown",
   "id": "7f8e0c8c",
   "metadata": {},
   "source": [
    "# Model Architecture Definition"
   ]
  },
  {
   "cell_type": "markdown",
   "id": "9966967b",
   "metadata": {},
   "source": [
    "# Training Model"
   ]
  },
  {
   "cell_type": "code",
   "execution_count": 25,
   "id": "2c1e976c",
   "metadata": {},
   "outputs": [
    {
     "name": "stdout",
     "output_type": "stream",
     "text": [
      "(array([0, 1, 2], dtype=int64), array([1379,  500, 1015], dtype=int64))\n"
     ]
    }
   ],
   "source": [
    "import numpy as np\n",
    "print(np.unique(y_train, return_counts=True))  # Cek distribusi kelas"
   ]
  },
  {
   "cell_type": "code",
   "execution_count": 26,
   "id": "54f15ff8",
   "metadata": {},
   "outputs": [
    {
     "data": {
      "text/plain": [
       "{0: 0.6995407299975828, 1: 1.9293333333333333, 2: 0.9504105090311987}"
      ]
     },
     "execution_count": 26,
     "metadata": {},
     "output_type": "execute_result"
    }
   ],
   "source": [
    "from sklearn.utils.class_weight import compute_class_weight\n",
    "class_weights = compute_class_weight('balanced', classes=np.unique(y_train), y=y_train)\n",
    "class_weights = dict(enumerate(class_weights))\n",
    "class_weights"
   ]
  },
  {
   "cell_type": "code",
   "execution_count": 38,
   "id": "44d628d4",
   "metadata": {},
   "outputs": [
    {
     "name": "stdout",
     "output_type": "stream",
     "text": [
      "Epoch 1/100\n",
      "91/91 [==============================] - 18s 119ms/step - loss: 1.3528 - accuracy: 0.4147 - val_loss: 1.0631 - val_accuracy: 0.6293\n",
      "Epoch 2/100\n",
      "91/91 [==============================] - 10s 114ms/step - loss: 0.8362 - accuracy: 0.6928 - val_loss: 0.8041 - val_accuracy: 0.6873\n",
      "Epoch 3/100\n",
      "91/91 [==============================] - 10s 112ms/step - loss: 0.4790 - accuracy: 0.8552 - val_loss: 0.8617 - val_accuracy: 0.6873\n",
      "Epoch 4/100\n",
      "91/91 [==============================] - 11s 120ms/step - loss: 0.2942 - accuracy: 0.9171 - val_loss: 0.8928 - val_accuracy: 0.6922\n",
      "Epoch 5/100\n",
      "91/91 [==============================] - 13s 138ms/step - loss: 0.2165 - accuracy: 0.9457 - val_loss: 0.9689 - val_accuracy: 0.7043\n",
      "Epoch 6/100\n",
      "91/91 [==============================] - 12s 134ms/step - loss: 0.1597 - accuracy: 0.9644 - val_loss: 1.0628 - val_accuracy: 0.7147\n",
      "Epoch 7/100\n",
      "91/91 [==============================] - 11s 124ms/step - loss: 0.1376 - accuracy: 0.9710 - val_loss: 1.1600 - val_accuracy: 0.6882\n",
      "Epoch 8/100\n",
      "91/91 [==============================] - 11s 117ms/step - loss: 0.1235 - accuracy: 0.9765 - val_loss: 1.2224 - val_accuracy: 0.7035\n",
      "Epoch 9/100\n",
      "91/91 [==============================] - 10s 109ms/step - loss: 0.1004 - accuracy: 0.9806 - val_loss: 1.6048 - val_accuracy: 0.6849\n",
      "Epoch 10/100\n",
      "91/91 [==============================] - 10s 114ms/step - loss: 0.0918 - accuracy: 0.9838 - val_loss: 1.4047 - val_accuracy: 0.6825\n",
      "Epoch 11/100\n",
      "91/91 [==============================] - 10s 115ms/step - loss: 0.0831 - accuracy: 0.9872 - val_loss: 1.2356 - val_accuracy: 0.6906\n",
      "Epoch 12/100\n",
      "91/91 [==============================] - 10s 112ms/step - loss: 0.0933 - accuracy: 0.9851 - val_loss: 1.4589 - val_accuracy: 0.7027\n"
     ]
    }
   ],
   "source": [
    "from keras.layers import Embedding, LSTM, Dense, Dropout\n",
    "from keras.models import Sequential\n",
    "from keras.layers import Input, Dense, Dropout, LSTM, Bidirectional  \n",
    "from keras import regularizers  \n",
    "from keras.optimizers import Adam\n",
    "from tensorflow.keras.metrics import Recall, Precision\n",
    "from keras.layers import BatchNormalization\n",
    "\n",
    "\n",
    "model = Sequential()\n",
    "model.add(Embedding(input_dim=MAX_WORDS, output_dim=64, input_length=MAX_LEN))\n",
    "\n",
    "model.add(Bidirectional(LSTM(64, return_sequences=False, dropout=0.4, recurrent_dropout=0.2)))\n",
    "model.add(Dense(32, activation='relu', kernel_regularizer=regularizers.l2(0.01)))\n",
    "model.add(Dropout(0.5))\n",
    "\n",
    "# Output layer\n",
    "model.add(Dense(3, activation='softmax'))\n",
    "\n",
    "# Kompilasi model dengan learning rate yang lebih kecil\n",
    "model.compile(\n",
    "    loss='sparse_categorical_crossentropy',\n",
    "    optimizer= Adam(learning_rate=0.001),\n",
    "    metrics=['accuracy']\n",
    ")\n",
    "\n",
    "# Callback EarlyStopping\n",
    "early_stopping = EarlyStopping(\n",
    "    monitor='val_loss',\n",
    "    patience=10,  \n",
    "    restore_best_weights=True\n",
    ")\n",
    "history = model.fit(\n",
    "    X_train,\n",
    "    y_train,\n",
    "    epochs=100,\n",
    "    validation_data=(X_test, y_test),\n",
    "    batch_size=32,\n",
    "    callbacks=[early_stopping],\n",
    "    class_weight=class_weights  \n",
    ")"
   ]
  },
  {
   "cell_type": "code",
   "execution_count": 35,
   "id": "d82771eb",
   "metadata": {},
   "outputs": [
    {
     "data": {
      "image/png": "[encoded data removed]",
      "text/plain": [
       "<Figure size 1200x500 with 2 Axes>"
      ]
     },
     "metadata": {},
     "output_type": "display_data"
    }
   ],
   "source": [
    "import matplotlib.pyplot as plt\n",
    "\n",
    "# Ambil data dari history\n",
    "history_dict = history.history\n",
    "\n",
    "# --- Plot Accuracy ---\n",
    "plt.figure(figsize=(12, 5))\n",
    "\n",
    "plt.subplot(1, 2, 1)\n",
    "plt.plot(history_dict['accuracy'], label='Train Accuracy')\n",
    "plt.plot(history_dict['val_accuracy'], label='Val Accuracy')\n",
    "plt.title('Akurasi Training dan Validasi')\n",
    "plt.xlabel('Epoch')\n",
    "plt.ylabel('Akurasi')\n",
    "plt.legend()\n",
    "plt.grid(True)\n",
    "\n",
    "# --- Plot Loss ---\n",
    "plt.subplot(1, 2, 2)\n",
    "plt.plot(history_dict['loss'], label='Train Loss')\n",
    "plt.plot(history_dict['val_loss'], label='Val Loss')\n",
    "plt.title('Loss Training dan Validasi')\n",
    "plt.xlabel('Epoch')\n",
    "plt.ylabel('Loss')\n",
    "plt.legend()\n",
    "plt.grid(True)\n",
    "\n",
    "plt.tight_layout()\n",
    "plt.show()\n"
   ]
  },
  {
   "cell_type": "code",
   "execution_count": 37,
   "id": "4b55d555",
   "metadata": {},
   "outputs": [
    {
     "name": "stdout",
     "output_type": "stream",
     "text": [
      "39/39 [==============================] - 1s 11ms/step\n"
     ]
    },
    {
     "data": {
      "image/png": "[encoded data removed]",
      "text/plain": [
       "<Figure size 800x600 with 2 Axes>"
      ]
     },
     "metadata": {},
     "output_type": "display_data"
    },
    {
     "name": "stdout",
     "output_type": "stream",
     "text": [
      "              precision    recall  f1-score   support\n",
      "\n",
      "           0       0.70      0.80      0.74       592\n",
      "           1       0.77      0.46      0.58       214\n",
      "           2       0.69      0.68      0.69       435\n",
      "\n",
      "    accuracy                           0.70      1241\n",
      "   macro avg       0.72      0.65      0.67      1241\n",
      "weighted avg       0.71      0.70      0.70      1241\n",
      "\n"
     ]
    }
   ],
   "source": [
    "from sklearn.metrics import confusion_matrix, classification_report\n",
    "import seaborn as sns\n",
    "import matplotlib.pyplot as plt\n",
    "import numpy as np\n",
    "\n",
    "# 1. Prediksi\n",
    "y_pred_probs = model.predict(X_test)\n",
    "y_pred = np.argmax(y_pred_probs, axis=1)  # Mengambil indeks dengan probabilitas tertinggi\n",
    "\n",
    "# 2. Confusion Matrix\n",
    "cm = confusion_matrix(y_test, y_pred)\n",
    "class_names = ['Netral', 'Positif', 'Negatif']\n",
    "\n",
    "# 3. Visualisasi Confusion Matrix\n",
    "plt.figure(figsize=(8, 6))\n",
    "sns.heatmap(cm, annot=True, fmt='d', cmap='Blues', xticklabels=[0,1,2], yticklabels=[0,1,2])\n",
    "plt.xlabel('Predicted Labels')\n",
    "plt.ylabel('True Labels')\n",
    "plt.title('Confusion Matrix')\n",
    "plt.show()\n",
    "\n",
    "# 4. Laporan klasifikasi (opsional tapi berguna)\n",
    "print(classification_report(y_test, y_pred))\n"
   ]
  },
  {
   "cell_type": "code",
   "execution_count": 31,
   "id": "3824eff6",
   "metadata": {},
   "outputs": [
    {
     "data": {
      "text/plain": [
       "2251    0\n",
       "226     1\n",
       "3991    0\n",
       "670     0\n",
       "66      1\n",
       "Name: label_num, dtype: int64"
      ]
     },
     "execution_count": 31,
     "metadata": {},
     "output_type": "execute_result"
    }
   ],
   "source": [
    "y_train[:5]"
   ]
  }
 ],
 "metadata": {
  "kernelspec": {
   "display_name": "Python 3",
   "language": "python",
   "name": "python3"
  },
  "language_info": {
   "codemirror_mode": {
    "name": "ipython",
    "version": 3
   },
   "file_extension": ".py",
   "mimetype": "text/x-python",
   "name": "python",
   "nbconvert_exporter": "python",
   "pygments_lexer": "ipython3",
   "version": "3.8.18"
  }
 },
 "nbformat": 4,
 "nbformat_minor": 5
}
