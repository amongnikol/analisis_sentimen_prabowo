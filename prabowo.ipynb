{
 "cells": [
  {
   "cell_type": "code",
   "execution_count": 2,
   "id": "05ef299a",
   "metadata": {},
   "outputs": [
    {
     "name": "stderr",
     "output_type": "stream",
     "text": [
      "[nltk_data] Downloading package stopwords to\n",
      "[nltk_data]     C:\\Users\\akmal\\AppData\\Roaming\\nltk_data...\n",
      "[nltk_data]   Package stopwords is already up-to-date!\n",
      "[nltk_data] Downloading package punkt to\n",
      "[nltk_data]     C:\\Users\\akmal\\AppData\\Roaming\\nltk_data...\n",
      "[nltk_data]   Package punkt is already up-to-date!\n",
      "[nltk_data] Downloading package punkt_tab to\n",
      "[nltk_data]     C:\\Users\\akmal\\AppData\\Roaming\\nltk_data...\n",
      "[nltk_data]   Package punkt_tab is already up-to-date!\n"
     ]
    }
   ],
   "source": [
    "import nltk\n",
    "import pandas as pd\n",
    "import numpy as np\n",
    "import re\n",
    "\n",
    "import matplotlib.pyplot as plt\n",
    "import seaborn as sns\n",
    "\n",
    "from nltk.corpus import stopwords\n",
    "from nltk.tokenize import word_tokenize\n",
    "from Sastrawi.Stemmer.StemmerFactory import StemmerFactory\n",
    "import string\n",
    "\n",
    "nltk.download('stopwords')\n",
    "nltk.download('punkt')\n",
    "nltk.download('punkt_tab')\n",
    "\n",
    "import tensorflow as tf\n",
    "from sklearn.model_selection import train_test_split\n",
    "from sklearn.feature_extraction.text import CountVectorizer\n",
    "from tensorflow.keras.optimizers import Adam\n",
    "from tensorflow.keras.layers import Input\n",
    "from tensorflow.keras.callbacks import EarlyStopping\n",
    "from tensorflow.keras import regularizers\n",
    "from tensorflow.keras.models import load_model\n",
    "from tensorflow.keras.layers import TextVectorization, Embedding\n",
    "from tensorflow.keras.utils import to_categorical"
   ]
  },
  {
   "cell_type": "markdown",
   "id": "c81e0e83",
   "metadata": {},
   "source": [
    "# Text Preprocessing"
   ]
  },
  {
   "cell_type": "code",
   "execution_count": 31,
   "id": "d03153e4",
   "metadata": {},
   "outputs": [
    {
     "name": "stdout",
     "output_type": "stream",
     "text": [
      "<class 'pandas.core.frame.DataFrame'>\n",
      "RangeIndex: 10931 entries, 0 to 10930\n",
      "Data columns (total 7 columns):\n",
      " #   Column          Non-Null Count  Dtype  \n",
      "---  ------          --------------  -----  \n",
      " 0   Unnamed: 0.2    10931 non-null  int64  \n",
      " 1   Unnamed: 0.1    10931 non-null  int64  \n",
      " 2   Unnamed: 0      10931 non-null  int64  \n",
      " 3   full_text       10931 non-null  object \n",
      " 4   label           10931 non-null  object \n",
      " 5   score           10931 non-null  float64\n",
      " 6   text_processed  10930 non-null  object \n",
      "dtypes: float64(1), int64(3), object(3)\n",
      "memory usage: 597.9+ KB\n"
     ]
    }
   ],
   "source": [
    "df = pd.read_csv('dataset/text/prabowo_clean_text.csv')\n",
    "df.info()"
   ]
  },
  {
   "cell_type": "code",
   "execution_count": 32,
   "id": "8f1c544e",
   "metadata": {},
   "outputs": [],
   "source": [
    "df = df.dropna()"
   ]
  },
  {
   "cell_type": "code",
   "execution_count": 33,
   "id": "7204e30a",
   "metadata": {},
   "outputs": [
    {
     "data": {
      "text/plain": [
       "label\n",
       "neutral     7127\n",
       "negative    2478\n",
       "positive    1325\n",
       "Name: count, dtype: int64"
      ]
     },
     "execution_count": 33,
     "metadata": {},
     "output_type": "execute_result"
    }
   ],
   "source": [
    "df['label'].value_counts()"
   ]
  },
  {
   "cell_type": "code",
   "execution_count": 34,
   "id": "6e3542e4",
   "metadata": {},
   "outputs": [
    {
     "data": {
      "text/html": [
       "<div>\n",
       "<style scoped>\n",
       "    .dataframe tbody tr th:only-of-type {\n",
       "        vertical-align: middle;\n",
       "    }\n",
       "\n",
       "    .dataframe tbody tr th {\n",
       "        vertical-align: top;\n",
       "    }\n",
       "\n",
       "    .dataframe thead th {\n",
       "        text-align: right;\n",
       "    }\n",
       "</style>\n",
       "<table border=\"1\" class=\"dataframe\">\n",
       "  <thead>\n",
       "    <tr style=\"text-align: right;\">\n",
       "      <th></th>\n",
       "      <th>Unnamed: 0.2</th>\n",
       "      <th>Unnamed: 0.1</th>\n",
       "      <th>Unnamed: 0</th>\n",
       "      <th>full_text</th>\n",
       "      <th>label</th>\n",
       "      <th>score</th>\n",
       "      <th>text_processed</th>\n",
       "      <th>label_num</th>\n",
       "    </tr>\n",
       "  </thead>\n",
       "  <tbody>\n",
       "    <tr>\n",
       "      <th>0</th>\n",
       "      <td>0</td>\n",
       "      <td>0</td>\n",
       "      <td>0</td>\n",
       "      <td>OK gas ...Indonesia Emas nih pak @prabowo @gib...</td>\n",
       "      <td>neutral</td>\n",
       "      <td>0.989646</td>\n",
       "      <td>ok gas indonesia emas nih l berkas kerja keras...</td>\n",
       "      <td>0</td>\n",
       "    </tr>\n",
       "    <tr>\n",
       "      <th>1</th>\n",
       "      <td>1</td>\n",
       "      <td>1</td>\n",
       "      <td>1</td>\n",
       "      <td>@uglygrunge1798 @Heraloebss @prabowo @gibran_t...</td>\n",
       "      <td>neutral</td>\n",
       "      <td>0.771030</td>\n",
       "      <td>ngga hubung pilih presiden wapres puas pilih e...</td>\n",
       "      <td>0</td>\n",
       "    </tr>\n",
       "    <tr>\n",
       "      <th>2</th>\n",
       "      <td>2</td>\n",
       "      <td>2</td>\n",
       "      <td>2</td>\n",
       "      <td>@DedynurPalakka Kinerja? Emang pernah dikasih ...</td>\n",
       "      <td>neutral</td>\n",
       "      <td>0.997472</td>\n",
       "      <td>kerja emang kasih tugas misi sm prabowo</td>\n",
       "      <td>0</td>\n",
       "    </tr>\n",
       "    <tr>\n",
       "      <th>3</th>\n",
       "      <td>3</td>\n",
       "      <td>3</td>\n",
       "      <td>3</td>\n",
       "      <td>@txtdrimedia Kinerja?? Emang dikasi tugas apa ...</td>\n",
       "      <td>neutral</td>\n",
       "      <td>0.991776</td>\n",
       "      <td>kerja emang kasi tugas sm prabowo</td>\n",
       "      <td>0</td>\n",
       "    </tr>\n",
       "    <tr>\n",
       "      <th>4</th>\n",
       "      <td>4</td>\n",
       "      <td>4</td>\n",
       "      <td>4</td>\n",
       "      <td>@uglygrunge1798 @Heraloebss @prabowo @gibran_t...</td>\n",
       "      <td>neutral</td>\n",
       "      <td>0.858848</td>\n",
       "      <td>demokrasi tupoksi kerja ndasmu pimpin yg tdk m...</td>\n",
       "      <td>0</td>\n",
       "    </tr>\n",
       "  </tbody>\n",
       "</table>\n",
       "</div>"
      ],
      "text/plain": [
       "   Unnamed: 0.2  Unnamed: 0.1  Unnamed: 0  \\\n",
       "0             0             0           0   \n",
       "1             1             1           1   \n",
       "2             2             2           2   \n",
       "3             3             3           3   \n",
       "4             4             4           4   \n",
       "\n",
       "                                           full_text    label     score  \\\n",
       "0  OK gas ...Indonesia Emas nih pak @prabowo @gib...  neutral  0.989646   \n",
       "1  @uglygrunge1798 @Heraloebss @prabowo @gibran_t...  neutral  0.771030   \n",
       "2  @DedynurPalakka Kinerja? Emang pernah dikasih ...  neutral  0.997472   \n",
       "3  @txtdrimedia Kinerja?? Emang dikasi tugas apa ...  neutral  0.991776   \n",
       "4  @uglygrunge1798 @Heraloebss @prabowo @gibran_t...  neutral  0.858848   \n",
       "\n",
       "                                      text_processed  label_num  \n",
       "0  ok gas indonesia emas nih l berkas kerja keras...          0  \n",
       "1  ngga hubung pilih presiden wapres puas pilih e...          0  \n",
       "2            kerja emang kasih tugas misi sm prabowo          0  \n",
       "3                  kerja emang kasi tugas sm prabowo          0  \n",
       "4  demokrasi tupoksi kerja ndasmu pimpin yg tdk m...          0  "
      ]
     },
     "execution_count": 34,
     "metadata": {},
     "output_type": "execute_result"
    }
   ],
   "source": [
    "df['label_num'] = df['label'].replace({'neutral' : 0, 'positive' : 1, 'negative' : 2})\n",
    "df.head()"
   ]
  },
  {
   "cell_type": "code",
   "execution_count": 7,
   "id": "caf57ea2",
   "metadata": {},
   "outputs": [],
   "source": [
    "import re\n",
    "from Sastrawi.Stemmer.StemmerFactory import StemmerFactory\n",
    "from nltk.tokenize import RegexpTokenizer\n",
    "from nltk.corpus import stopwords\n",
    "\n",
    "# Inisialisasi hanya sekali\n",
    "factory = StemmerFactory()\n",
    "stemmer = factory.create_stemmer()\n",
    "stpwds_id = set(stopwords.words(\"indonesian\"))\n",
    "tokenizer = RegexpTokenizer(r\"\\b[^\\d\\W]+\\b\")\n",
    "\n",
    "# Kompilasi regex untuk performa\n",
    "re_pattern1 = re.compile(r'(@\\w+|#\\w+|http\\S+|www.\\S+|\\\\n|rt)')\n",
    "re_pattern2 = re.compile(r\"[^a-zA-Z\\s']\")\n",
    "\n",
    "def preprocess_text(teks):\n",
    "    teks = teks.lower()\n",
    "    teks = re_pattern1.sub(' ', teks)\n",
    "    teks = re_pattern2.sub(' ', teks)\n",
    "    tokens = tokenizer.tokenize(teks)\n",
    "    filtered = [t for t in tokens if t not in stpwds_id]\n",
    "    stemmed = stemmer.stem(' '.join(filtered))  # stem sekaligus (lebih cepat!)\n",
    "    return stemmed\n"
   ]
  },
  {
   "cell_type": "code",
   "execution_count": 8,
   "id": "f055a150",
   "metadata": {},
   "outputs": [
    {
     "name": "stderr",
     "output_type": "stream",
     "text": [
      "c:\\Users\\akmal\\anaconda3\\envs\\keras_env\\lib\\site-packages\\tqdm\\auto.py:21: TqdmWarning: IProgress not found. Please update jupyter and ipywidgets. See https://ipywidgets.readthedocs.io/en/stable/user_install.html\n",
      "  from .autonotebook import tqdm as notebook_tqdm\n",
      "Pandas Apply: 100%|██████████| 1633/1633 [09:02<00:00,  3.01it/s]\n"
     ]
    },
    {
     "data": {
      "text/html": [
       "<div>\n",
       "<style scoped>\n",
       "    .dataframe tbody tr th:only-of-type {\n",
       "        vertical-align: middle;\n",
       "    }\n",
       "\n",
       "    .dataframe tbody tr th {\n",
       "        vertical-align: top;\n",
       "    }\n",
       "\n",
       "    .dataframe thead th {\n",
       "        text-align: right;\n",
       "    }\n",
       "</style>\n",
       "<table border=\"1\" class=\"dataframe\">\n",
       "  <thead>\n",
       "    <tr style=\"text-align: right;\">\n",
       "      <th></th>\n",
       "      <th>Unnamed: 0.1</th>\n",
       "      <th>Unnamed: 0</th>\n",
       "      <th>full_text</th>\n",
       "      <th>label</th>\n",
       "      <th>score</th>\n",
       "      <th>label_num</th>\n",
       "      <th>text_processed</th>\n",
       "    </tr>\n",
       "  </thead>\n",
       "  <tbody>\n",
       "    <tr>\n",
       "      <th>0</th>\n",
       "      <td>2</td>\n",
       "      <td>2</td>\n",
       "      <td>@DedynurPalakka Kinerja? Emang pernah dikasih ...</td>\n",
       "      <td>neutral</td>\n",
       "      <td>0.997472</td>\n",
       "      <td>0</td>\n",
       "      <td>kerja emang kasih tugas misi sm prabowo</td>\n",
       "    </tr>\n",
       "    <tr>\n",
       "      <th>1</th>\n",
       "      <td>9</td>\n",
       "      <td>9</td>\n",
       "      <td>@Mdy_Asmara1701 Survey abal-abal; apa kinerja ...</td>\n",
       "      <td>neutral</td>\n",
       "      <td>0.996831</td>\n",
       "      <td>0</td>\n",
       "      <td>survey abal abal kerja prabowo gibran patuh pr...</td>\n",
       "    </tr>\n",
       "    <tr>\n",
       "      <th>2</th>\n",
       "      <td>22</td>\n",
       "      <td>22</td>\n",
       "      <td>@kuatji @pandji Hasan Nasbi mundur sebagai Kep...</td>\n",
       "      <td>positive</td>\n",
       "      <td>0.985921</td>\n",
       "      <td>1</td>\n",
       "      <td>hasan nasbi mundur kepala pco kerja insiden ke...</td>\n",
       "    </tr>\n",
       "    <tr>\n",
       "      <th>3</th>\n",
       "      <td>25</td>\n",
       "      <td>25</td>\n",
       "      <td>@NenkMonica Mending fokus awasi kinerja Pemeri...</td>\n",
       "      <td>positive</td>\n",
       "      <td>0.990633</td>\n",
       "      <td>1</td>\n",
       "      <td>mending fokus awas kerja perintah janji janji ...</td>\n",
       "    </tr>\n",
       "    <tr>\n",
       "      <th>4</th>\n",
       "      <td>26</td>\n",
       "      <td>26</td>\n",
       "      <td>@BANGSAygSUJUD @prabowo @tham878 @romoatheist ...</td>\n",
       "      <td>negative</td>\n",
       "      <td>0.992708</td>\n",
       "      <td>2</td>\n",
       "      <td>kerja perintah prabowo gibran nyata indonesia</td>\n",
       "    </tr>\n",
       "  </tbody>\n",
       "</table>\n",
       "</div>"
      ],
      "text/plain": [
       "   Unnamed: 0.1  Unnamed: 0  \\\n",
       "0             2           2   \n",
       "1             9           9   \n",
       "2            22          22   \n",
       "3            25          25   \n",
       "4            26          26   \n",
       "\n",
       "                                           full_text     label     score  \\\n",
       "0  @DedynurPalakka Kinerja? Emang pernah dikasih ...   neutral  0.997472   \n",
       "1  @Mdy_Asmara1701 Survey abal-abal; apa kinerja ...   neutral  0.996831   \n",
       "2  @kuatji @pandji Hasan Nasbi mundur sebagai Kep...  positive  0.985921   \n",
       "3  @NenkMonica Mending fokus awasi kinerja Pemeri...  positive  0.990633   \n",
       "4  @BANGSAygSUJUD @prabowo @tham878 @romoatheist ...  negative  0.992708   \n",
       "\n",
       "   label_num                                     text_processed  \n",
       "0          0            kerja emang kasih tugas misi sm prabowo  \n",
       "1          0  survey abal abal kerja prabowo gibran patuh pr...  \n",
       "2          1  hasan nasbi mundur kepala pco kerja insiden ke...  \n",
       "3          1  mending fokus awas kerja perintah janji janji ...  \n",
       "4          2      kerja perintah prabowo gibran nyata indonesia  "
      ]
     },
     "execution_count": 8,
     "metadata": {},
     "output_type": "execute_result"
    }
   ],
   "source": [
    "import swifter\n",
    "\n",
    "df['text_processed'] = df['full_text'].swifter.apply(preprocess_text)\n",
    "df.head()"
   ]
  },
  {
   "cell_type": "code",
   "execution_count": 35,
   "id": "5e1fcdc1",
   "metadata": {},
   "outputs": [
    {
     "name": "stdout",
     "output_type": "stream",
     "text": [
      "Jumlah kata unik: 12638\n",
      "MAX_WORDS yang digunakan: 10000\n"
     ]
    }
   ],
   "source": [
    "from tensorflow.keras.preprocessing.text import Tokenizer\n",
    "from tensorflow.keras.preprocessing.sequence import pad_sequences\n",
    "import numpy as np\n",
    "import matplotlib.pyplot as plt\n",
    "\n",
    "# 1. Inisialisasi dan fit tokenizer\n",
    "tokenizer = Tokenizer()\n",
    "tokenizer.fit_on_texts(df['text_processed'])\n",
    "\n",
    "# 2. Tentukan MAX_WORDS berdasarkan jumlah kata unik\n",
    "total_kata_unik = len(tokenizer.word_index)\n",
    "print(\"Jumlah kata unik:\", total_kata_unik)\n",
    "\n",
    "# Atur MAX_WORDS agar tidak terlalu besar\n",
    "if total_kata_unik > 20000:\n",
    "    MAX_WORDS = 15000\n",
    "elif total_kata_unik > 10000:\n",
    "    MAX_WORDS = 10000\n",
    "else:\n",
    "    MAX_WORDS = total_kata_unik\n",
    "\n",
    "print(\"MAX_WORDS yang digunakan:\", MAX_WORDS)"
   ]
  },
  {
   "cell_type": "code",
   "execution_count": 36,
   "id": "8d35aae2",
   "metadata": {},
   "outputs": [
    {
     "data": {
      "image/png": "[encoded data removed]",
      "text/plain": [
       "<Figure size 640x480 with 1 Axes>"
      ]
     },
     "metadata": {},
     "output_type": "display_data"
    },
    {
     "name": "stdout",
     "output_type": "stream",
     "text": [
      "MAX_LEN (persentil 95): 30\n"
     ]
    }
   ],
   "source": [
    "# 3. Hitung panjang tiap kalimat\n",
    "sequences = tokenizer.texts_to_sequences(df['text_processed'])\n",
    "panjang_kalimat = [len(seq) for seq in sequences]\n",
    "\n",
    "# 4. Tentukan MAX_LEN berdasarkan distribusi panjang\n",
    "plt.hist(panjang_kalimat, bins=50)\n",
    "plt.title('Distribusi Panjang Kalimat')\n",
    "plt.xlabel('Jumlah Kata')\n",
    "plt.ylabel('Jumlah Teks')\n",
    "plt.show()\n",
    "\n",
    "MAX_LEN = int(np.percentile(panjang_kalimat, 95))\n",
    "print(\"MAX_LEN (persentil 95):\", MAX_LEN)"
   ]
  },
  {
   "cell_type": "code",
   "execution_count": 37,
   "id": "06da5b6b",
   "metadata": {},
   "outputs": [],
   "source": [
    "# 5. Lakukan ulang tokenizer dengan batasan MAX_WORDS\n",
    "tokenizer = Tokenizer(num_words=MAX_WORDS, oov_token=\"<OOV>\")\n",
    "tokenizer.fit_on_texts(df['text_processed'])\n",
    "sequences = tokenizer.texts_to_sequences(df['text_processed'])\n",
    "\n",
    "# 6. Padding sequences\n",
    "padded = pad_sequences(sequences, maxlen=MAX_LEN, padding='post', truncating='post')"
   ]
  },
  {
   "cell_type": "markdown",
   "id": "e325608f",
   "metadata": {},
   "source": [
    "# Feature Engineering"
   ]
  },
  {
   "cell_type": "code",
   "execution_count": 38,
   "id": "ddea4679",
   "metadata": {},
   "outputs": [
    {
     "data": {
      "text/plain": [
       "(label_num\n",
       " 0    4989\n",
       " 2    1735\n",
       " 1     927\n",
       " Name: count, dtype: int64,\n",
       " label_num\n",
       " 0    2138\n",
       " 2     743\n",
       " 1     398\n",
       " Name: count, dtype: int64)"
      ]
     },
     "execution_count": 38,
     "metadata": {},
     "output_type": "execute_result"
    }
   ],
   "source": [
    "X_train, X_test, y_train, y_test = train_test_split(\n",
    "    padded, df['label_num'], test_size=0.3, random_state=42, stratify=df['label_num']\n",
    ")\n",
    "y_train.value_counts(), y_test.value_counts()"
   ]
  },
  {
   "cell_type": "markdown",
   "id": "7f8e0c8c",
   "metadata": {},
   "source": [
    "# Model Architecture Definition"
   ]
  },
  {
   "cell_type": "markdown",
   "id": "9966967b",
   "metadata": {},
   "source": [
    "# Training Model"
   ]
  },
  {
   "cell_type": "code",
   "execution_count": 39,
   "id": "2c1e976c",
   "metadata": {},
   "outputs": [
    {
     "name": "stdout",
     "output_type": "stream",
     "text": [
      "(array([0, 1, 2], dtype=int64), array([4989,  927, 1735], dtype=int64))\n"
     ]
    }
   ],
   "source": [
    "import numpy as np\n",
    "print(np.unique(y_train, return_counts=True))  # Cek distribusi kelas"
   ]
  },
  {
   "cell_type": "code",
   "execution_count": 40,
   "id": "54f15ff8",
   "metadata": {},
   "outputs": [
    {
     "data": {
      "text/plain": [
       "{0: 0.5111912874991649, 1: 2.751168644372528, 2: 1.4699327569644574}"
      ]
     },
     "execution_count": 40,
     "metadata": {},
     "output_type": "execute_result"
    }
   ],
   "source": [
    "from sklearn.utils.class_weight import compute_class_weight\n",
    "class_weights = compute_class_weight('balanced', classes=np.unique(y_train), y=y_train)\n",
    "class_weights = dict(enumerate(class_weights))\n",
    "class_weights"
   ]
  },
  {
   "cell_type": "code",
   "execution_count": 44,
   "id": "44d628d4",
   "metadata": {},
   "outputs": [
    {
     "name": "stdout",
     "output_type": "stream",
     "text": [
      "Epoch 1/100\n",
      "120/120 [==============================] - 24s 104ms/step - loss: 1.0912 - accuracy: 0.2915 - val_loss: 1.0765 - val_accuracy: 0.2754\n",
      "Epoch 2/100\n",
      "120/120 [==============================] - 10s 82ms/step - loss: 1.0830 - accuracy: 0.2988 - val_loss: 1.1083 - val_accuracy: 0.2120\n",
      "Epoch 3/100\n",
      "120/120 [==============================] - 10s 85ms/step - loss: 1.0817 - accuracy: 0.2922 - val_loss: 1.1226 - val_accuracy: 0.2479\n",
      "Epoch 4/100\n",
      "120/120 [==============================] - 10s 83ms/step - loss: 1.0798 - accuracy: 0.2892 - val_loss: 1.0868 - val_accuracy: 0.2550\n",
      "Epoch 5/100\n",
      "120/120 [==============================] - 10s 83ms/step - loss: 1.0804 - accuracy: 0.2902 - val_loss: 1.1034 - val_accuracy: 0.2507\n",
      "Epoch 6/100\n",
      "120/120 [==============================] - 10s 85ms/step - loss: 1.0790 - accuracy: 0.2922 - val_loss: 1.0932 - val_accuracy: 0.2455\n",
      "Epoch 7/100\n",
      "120/120 [==============================] - 11s 88ms/step - loss: 1.0791 - accuracy: 0.2981 - val_loss: 1.0975 - val_accuracy: 0.3147\n",
      "Epoch 8/100\n",
      "120/120 [==============================] - 12s 100ms/step - loss: 1.0778 - accuracy: 0.3120 - val_loss: 1.0864 - val_accuracy: 0.2790\n",
      "Epoch 9/100\n",
      "120/120 [==============================] - 11s 95ms/step - loss: 1.0791 - accuracy: 0.2862 - val_loss: 1.0793 - val_accuracy: 0.3044\n",
      "Epoch 10/100\n",
      "120/120 [==============================] - 11s 92ms/step - loss: 1.0798 - accuracy: 0.2925 - val_loss: 1.0871 - val_accuracy: 0.2601\n",
      "Epoch 11/100\n",
      "120/120 [==============================] - 11s 89ms/step - loss: 1.0763 - accuracy: 0.2860 - val_loss: 1.0850 - val_accuracy: 0.2912\n"
     ]
    }
   ],
   "source": [
    "from keras.layers import Embedding, LSTM, Dense, Dropout\n",
    "from keras.models import Sequential\n",
    "from keras.layers import Input, Dense, Dropout, LSTM, Bidirectional  \n",
    "from keras import regularizers  \n",
    "from keras.optimizers import Adam\n",
    "from tensorflow.keras.metrics import Recall, Precision\n",
    "from keras.layers import BatchNormalization\n",
    "\n",
    "\n",
    "model = Sequential()\n",
    "# model.add(Embedding(input_dim=MAX_WORDS, output_dim=128, embeddings_initializer=\"uniform\", input_length=MAX_LEN))\n",
    "\n",
    "model.add(LSTM(128, return_sequences=True, input_shape=(MAX_LEN,1)))\n",
    "model.add(Dropout(0.5))\n",
    "model.add(LSTM(128))\n",
    "model.add(Dropout(0.5))\n",
    "\n",
    "model.add(Dense(64, activation='relu'))\n",
    "\n",
    "\n",
    "# Output layer\n",
    "model.add(Dense(3, activation='softmax'))\n",
    "\n",
    "# Kompilasi model dengan learning rate yang lebih kecil\n",
    "model.compile(\n",
    "    loss='sparse_categorical_crossentropy',\n",
    "    optimizer= Adam(learning_rate=0.001),\n",
    "    metrics=['accuracy']\n",
    ")\n",
    "\n",
    "# Callback EarlyStopping\n",
    "early_stopping = EarlyStopping(\n",
    "    monitor='val_loss',\n",
    "    patience=10,  \n",
    "    restore_best_weights=True\n",
    ")\n",
    "history = model.fit(\n",
    "    X_train,\n",
    "    y_train,\n",
    "    epochs=100,\n",
    "    validation_data=(X_test, y_test),\n",
    "    batch_size=64,\n",
    "    callbacks=[early_stopping],\n",
    "    class_weight=class_weights  \n",
    ")"
   ]
  },
  {
   "cell_type": "code",
   "execution_count": 45,
   "id": "d82771eb",
   "metadata": {},
   "outputs": [
    {
     "data": {
      "image/png": "[encoded data removed]",
      "text/plain": [
       "<Figure size 1200x500 with 2 Axes>"
      ]
     },
     "metadata": {},
     "output_type": "display_data"
    }
   ],
   "source": [
    "import matplotlib.pyplot as plt\n",
    "\n",
    "# Ambil data dari history\n",
    "history_dict = history.history\n",
    "\n",
    "# --- Plot Accuracy ---\n",
    "plt.figure(figsize=(12, 5))\n",
    "\n",
    "plt.subplot(1, 2, 1)\n",
    "plt.plot(history_dict['accuracy'], label='Train Accuracy')\n",
    "plt.plot(history_dict['val_accuracy'], label='Val Accuracy')\n",
    "plt.title('Akurasi Training dan Validasi')\n",
    "plt.xlabel('Epoch')\n",
    "plt.ylabel('Akurasi')\n",
    "plt.legend()\n",
    "plt.grid(True)\n",
    "\n",
    "# --- Plot Loss ---\n",
    "plt.subplot(1, 2, 2)\n",
    "plt.plot(history_dict['loss'], label='Train Loss')\n",
    "plt.plot(history_dict['val_loss'], label='Val Loss')\n",
    "plt.title('Loss Training dan Validasi')\n",
    "plt.xlabel('Epoch')\n",
    "plt.ylabel('Loss')\n",
    "plt.legend()\n",
    "plt.grid(True)\n",
    "\n",
    "plt.tight_layout()\n",
    "plt.show()\n"
   ]
  },
  {
   "cell_type": "code",
   "execution_count": 86,
   "id": "4b55d555",
   "metadata": {},
   "outputs": [
    {
     "ename": "ValueError",
     "evalue": "in user code:\n\n    File \"c:\\Users\\akmal\\anaconda3\\envs\\keras_env\\lib\\site-packages\\keras\\engine\\training.py\", line 2041, in predict_function  *\n        return step_function(self, iterator)\n    File \"c:\\Users\\akmal\\anaconda3\\envs\\keras_env\\lib\\site-packages\\keras\\engine\\training.py\", line 2027, in step_function  **\n        outputs = model.distribute_strategy.run(run_step, args=(data,))\n    File \"c:\\Users\\akmal\\anaconda3\\envs\\keras_env\\lib\\site-packages\\keras\\engine\\training.py\", line 2015, in run_step  **\n        outputs = model.predict_step(data)\n    File \"c:\\Users\\akmal\\anaconda3\\envs\\keras_env\\lib\\site-packages\\keras\\engine\\training.py\", line 1983, in predict_step\n        return self(x, training=False)\n    File \"c:\\Users\\akmal\\anaconda3\\envs\\keras_env\\lib\\site-packages\\keras\\utils\\traceback_utils.py\", line 70, in error_handler\n        raise e.with_traceback(filtered_tb) from None\n    File \"c:\\Users\\akmal\\anaconda3\\envs\\keras_env\\lib\\site-packages\\keras\\engine\\input_spec.py\", line 295, in assert_input_compatibility\n        raise ValueError(\n\n    ValueError: Input 0 of layer \"sequential_18\" is incompatible with the layer: expected shape=(None, 31), found shape=(None, 44)\n",
     "output_type": "error",
     "traceback": [
      "\u001b[1;31m---------------------------------------------------------------------------\u001b[0m",
      "\u001b[1;31mValueError\u001b[0m                                Traceback (most recent call last)",
      "Cell \u001b[1;32mIn[86], line 7\u001b[0m\n\u001b[0;32m      4\u001b[0m \u001b[38;5;28;01mimport\u001b[39;00m \u001b[38;5;21;01mnumpy\u001b[39;00m \u001b[38;5;28;01mas\u001b[39;00m \u001b[38;5;21;01mnp\u001b[39;00m\n\u001b[0;32m      6\u001b[0m \u001b[38;5;66;03m# 1. Prediksi\u001b[39;00m\n\u001b[1;32m----> 7\u001b[0m y_pred_probs \u001b[38;5;241m=\u001b[39m \u001b[43mmodel\u001b[49m\u001b[38;5;241;43m.\u001b[39;49m\u001b[43mpredict\u001b[49m\u001b[43m(\u001b[49m\u001b[43mX_test_vectorized\u001b[49m\u001b[43m)\u001b[49m\n\u001b[0;32m      8\u001b[0m y_pred \u001b[38;5;241m=\u001b[39m np\u001b[38;5;241m.\u001b[39margmax(y_pred_probs, axis\u001b[38;5;241m=\u001b[39m\u001b[38;5;241m1\u001b[39m)  \u001b[38;5;66;03m# Mengambil indeks dengan probabilitas tertinggi\u001b[39;00m\n\u001b[0;32m     10\u001b[0m \u001b[38;5;66;03m# 2. Confusion Matrix\u001b[39;00m\n",
      "File \u001b[1;32mc:\\Users\\akmal\\anaconda3\\envs\\keras_env\\lib\\site-packages\\keras\\utils\\traceback_utils.py:70\u001b[0m, in \u001b[0;36mfilter_traceback.<locals>.error_handler\u001b[1;34m(*args, **kwargs)\u001b[0m\n\u001b[0;32m     67\u001b[0m     filtered_tb \u001b[38;5;241m=\u001b[39m _process_traceback_frames(e\u001b[38;5;241m.\u001b[39m__traceback__)\n\u001b[0;32m     68\u001b[0m     \u001b[38;5;66;03m# To get the full stack trace, call:\u001b[39;00m\n\u001b[0;32m     69\u001b[0m     \u001b[38;5;66;03m# `tf.debugging.disable_traceback_filtering()`\u001b[39;00m\n\u001b[1;32m---> 70\u001b[0m     \u001b[38;5;28;01mraise\u001b[39;00m e\u001b[38;5;241m.\u001b[39mwith_traceback(filtered_tb) \u001b[38;5;28;01mfrom\u001b[39;00m \u001b[38;5;28;01mNone\u001b[39;00m\n\u001b[0;32m     71\u001b[0m \u001b[38;5;28;01mfinally\u001b[39;00m:\n\u001b[0;32m     72\u001b[0m     \u001b[38;5;28;01mdel\u001b[39;00m filtered_tb\n",
      "File \u001b[1;32m~\\AppData\\Local\\Temp\\__autograph_generated_filewrmhu_tg.py:15\u001b[0m, in \u001b[0;36mouter_factory.<locals>.inner_factory.<locals>.tf__predict_function\u001b[1;34m(iterator)\u001b[0m\n\u001b[0;32m     13\u001b[0m \u001b[38;5;28;01mtry\u001b[39;00m:\n\u001b[0;32m     14\u001b[0m     do_return \u001b[38;5;241m=\u001b[39m \u001b[38;5;28;01mTrue\u001b[39;00m\n\u001b[1;32m---> 15\u001b[0m     retval_ \u001b[38;5;241m=\u001b[39m ag__\u001b[38;5;241m.\u001b[39mconverted_call(ag__\u001b[38;5;241m.\u001b[39mld(step_function), (ag__\u001b[38;5;241m.\u001b[39mld(\u001b[38;5;28mself\u001b[39m), ag__\u001b[38;5;241m.\u001b[39mld(iterator)), \u001b[38;5;28;01mNone\u001b[39;00m, fscope)\n\u001b[0;32m     16\u001b[0m \u001b[38;5;28;01mexcept\u001b[39;00m:\n\u001b[0;32m     17\u001b[0m     do_return \u001b[38;5;241m=\u001b[39m \u001b[38;5;28;01mFalse\u001b[39;00m\n",
      "\u001b[1;31mValueError\u001b[0m: in user code:\n\n    File \"c:\\Users\\akmal\\anaconda3\\envs\\keras_env\\lib\\site-packages\\keras\\engine\\training.py\", line 2041, in predict_function  *\n        return step_function(self, iterator)\n    File \"c:\\Users\\akmal\\anaconda3\\envs\\keras_env\\lib\\site-packages\\keras\\engine\\training.py\", line 2027, in step_function  **\n        outputs = model.distribute_strategy.run(run_step, args=(data,))\n    File \"c:\\Users\\akmal\\anaconda3\\envs\\keras_env\\lib\\site-packages\\keras\\engine\\training.py\", line 2015, in run_step  **\n        outputs = model.predict_step(data)\n    File \"c:\\Users\\akmal\\anaconda3\\envs\\keras_env\\lib\\site-packages\\keras\\engine\\training.py\", line 1983, in predict_step\n        return self(x, training=False)\n    File \"c:\\Users\\akmal\\anaconda3\\envs\\keras_env\\lib\\site-packages\\keras\\utils\\traceback_utils.py\", line 70, in error_handler\n        raise e.with_traceback(filtered_tb) from None\n    File \"c:\\Users\\akmal\\anaconda3\\envs\\keras_env\\lib\\site-packages\\keras\\engine\\input_spec.py\", line 295, in assert_input_compatibility\n        raise ValueError(\n\n    ValueError: Input 0 of layer \"sequential_18\" is incompatible with the layer: expected shape=(None, 31), found shape=(None, 44)\n"
     ]
    }
   ],
   "source": [
    "from sklearn.metrics import confusion_matrix, classification_report\n",
    "import seaborn as sns\n",
    "import matplotlib.pyplot as plt\n",
    "import numpy as np\n",
    "\n",
    "# 1. Prediksi\n",
    "y_pred_probs = model.predict(X_test_vectorized)\n",
    "y_pred = np.argmax(y_pred_probs, axis=1)  # Mengambil indeks dengan probabilitas tertinggi\n",
    "\n",
    "# 2. Confusion Matrix\n",
    "cm = confusion_matrix(y_test, y_pred)\n",
    "class_names = ['Netral', 'Positif', 'Negatif']\n",
    "\n",
    "# 3. Visualisasi Confusion Matrix\n",
    "plt.figure(figsize=(8, 6))\n",
    "sns.heatmap(cm, annot=True, fmt='d', cmap='Blues', xticklabels=[0,1,2], yticklabels=[0,1,2])\n",
    "plt.xlabel('Predicted Labels')\n",
    "plt.ylabel('True Labels')\n",
    "plt.title('Confusion Matrix')\n",
    "plt.show()\n",
    "\n",
    "# 4. Laporan klasifikasi (opsional tapi berguna)\n",
    "print(classification_report(y_test, y_pred))\n"
   ]
  },
  {
   "cell_type": "code",
   "execution_count": null,
   "id": "3824eff6",
   "metadata": {},
   "outputs": [
    {
     "data": {
      "text/plain": [
       "2251    0\n",
       "226     1\n",
       "3991    0\n",
       "670     0\n",
       "66      1\n",
       "Name: label_num, dtype: int64"
      ]
     },
     "execution_count": 63,
     "metadata": {},
     "output_type": "execute_result"
    }
   ],
   "source": [
    "y_train[:5]"
   ]
  }
 ],
 "metadata": {
  "kernelspec": {
   "display_name": "Python 3",
   "language": "python",
   "name": "python3"
  },
  "language_info": {
   "codemirror_mode": {
    "name": "ipython",
    "version": 3
   },
   "file_extension": ".py",
   "mimetype": "text/x-python",
   "name": "python",
   "nbconvert_exporter": "python",
   "pygments_lexer": "ipython3",
   "version": "3.8.18"
  }
 },
 "nbformat": 4,
 "nbformat_minor": 5
}
