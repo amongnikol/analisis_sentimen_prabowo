{
 "cells": [
  {
   "cell_type": "code",
   "execution_count": 2,
   "id": "22cdf32d",
   "metadata": {},
   "outputs": [
    {
     "name": "stdout",
     "output_type": "stream",
     "text": [
      "<class 'pandas.core.frame.DataFrame'>\n",
      "RangeIndex: 12213 entries, 0 to 12212\n",
      "Data columns (total 16 columns):\n",
      " #   Column                   Non-Null Count  Dtype  \n",
      "---  ------                   --------------  -----  \n",
      " 0   conversation_id_str      8078 non-null   float64\n",
      " 1   created_at               8078 non-null   object \n",
      " 2   favorite_count           8078 non-null   float64\n",
      " 3   full_text                12213 non-null  object \n",
      " 4   id_str                   8078 non-null   float64\n",
      " 5   image_url                1944 non-null   object \n",
      " 6   in_reply_to_screen_name  4076 non-null   object \n",
      " 7   lang                     8078 non-null   object \n",
      " 8   location                 0 non-null      float64\n",
      " 9   quote_count              8078 non-null   float64\n",
      " 10  reply_count              8078 non-null   float64\n",
      " 11  retweet_count            8078 non-null   float64\n",
      " 12  tweet_url                8078 non-null   object \n",
      " 13  user_id_str              8078 non-null   float64\n",
      " 14  username                 0 non-null      float64\n",
      " 15  label                    4135 non-null   object \n",
      "dtypes: float64(9), object(7)\n",
      "memory usage: 1.5+ MB\n"
     ]
    }
   ],
   "source": [
    "import pandas as pd\n",
    "df = pd.read_csv('dataset/prabowo_23-05.csv')\n",
    "df1 = pd.read_csv('dataset/prabowo_23-06.csv')\n",
    "df2 = pd.read_csv('dataset/prabowo_23-07.csv')\n",
    "df3 = pd.read_csv('dataset/prabowo_23-08.csv')\n",
    "df4 = pd.read_csv('prabowo_text.csv')\n",
    "\n",
    "df = pd.concat([df, df1, df2, df3, df4], ignore_index=True)\n",
    "\n",
    "df.info()"
   ]
  },
  {
   "cell_type": "code",
   "execution_count": 6,
   "id": "4956e87a",
   "metadata": {},
   "outputs": [],
   "source": [
    "df = df['full_text']"
   ]
  },
  {
   "cell_type": "code",
   "execution_count": 7,
   "id": "a0939851",
   "metadata": {},
   "outputs": [
    {
     "data": {
      "text/plain": [
       "1282"
      ]
     },
     "execution_count": 7,
     "metadata": {},
     "output_type": "execute_result"
    }
   ],
   "source": [
    "df.duplicated().sum()\n"
   ]
  },
  {
   "cell_type": "code",
   "execution_count": 8,
   "id": "cc975340",
   "metadata": {},
   "outputs": [
    {
     "name": "stdout",
     "output_type": "stream",
     "text": [
      "<class 'pandas.core.series.Series'>\n",
      "RangeIndex: 12213 entries, 0 to 12212\n",
      "Series name: full_text\n",
      "Non-Null Count  Dtype \n",
      "--------------  ----- \n",
      "12213 non-null  object\n",
      "dtypes: object(1)\n",
      "memory usage: 95.5+ KB\n"
     ]
    }
   ],
   "source": [
    "df.info()"
   ]
  },
  {
   "cell_type": "code",
   "execution_count": 9,
   "id": "781e5f98",
   "metadata": {},
   "outputs": [],
   "source": [
    "df = df.drop_duplicates()"
   ]
  },
  {
   "cell_type": "code",
   "execution_count": 11,
   "id": "d8a15317",
   "metadata": {},
   "outputs": [],
   "source": [
    "df.to_csv('dataset/text/prabowo_text11000.csv')"
   ]
  },
  {
   "cell_type": "code",
   "execution_count": 4,
   "id": "bca1370c",
   "metadata": {},
   "outputs": [
    {
     "data": {
      "text/html": [
       "<div>\n",
       "<style scoped>\n",
       "    .dataframe tbody tr th:only-of-type {\n",
       "        vertical-align: middle;\n",
       "    }\n",
       "\n",
       "    .dataframe tbody tr th {\n",
       "        vertical-align: top;\n",
       "    }\n",
       "\n",
       "    .dataframe thead th {\n",
       "        text-align: right;\n",
       "    }\n",
       "</style>\n",
       "<table border=\"1\" class=\"dataframe\">\n",
       "  <thead>\n",
       "    <tr style=\"text-align: right;\">\n",
       "      <th></th>\n",
       "      <th>full_text</th>\n",
       "      <th>text_processed</th>\n",
       "      <th>text_processed1</th>\n",
       "    </tr>\n",
       "  </thead>\n",
       "  <tbody>\n",
       "    <tr>\n",
       "      <th>0</th>\n",
       "      <td>OK gas ...Indonesia Emas nih pak @prabowo @gib...</td>\n",
       "      <td>gas indonesia emas prabowo berkas kerja keras ...</td>\n",
       "      <td>ok gas indonesia emas nih pak prabowo gibran t...</td>\n",
       "    </tr>\n",
       "    <tr>\n",
       "      <th>1</th>\n",
       "      <td>@uglygrunge1798 @Heraloebss @prabowo @gibran_t...</td>\n",
       "      <td>prabowo ngga hubung pilih presiden wapres puas...</td>\n",
       "      <td>uglygrunge heraloebss prabowo gibran tweet ngg...</td>\n",
       "    </tr>\n",
       "    <tr>\n",
       "      <th>2</th>\n",
       "      <td>@DedynurPalakka Kinerja? Emang pernah dikasih ...</td>\n",
       "      <td>kerja emang kasih tugas misi prabowo</td>\n",
       "      <td>dedynurpalakka kinerja emang pernah dikasih tu...</td>\n",
       "    </tr>\n",
       "    <tr>\n",
       "      <th>3</th>\n",
       "      <td>@txtdrimedia Kinerja?? Emang dikasi tugas apa ...</td>\n",
       "      <td>kerja emang kasi tugas prabowo</td>\n",
       "      <td>txtdrimedia kinerja emang dikasi tugas apa sm ...</td>\n",
       "    </tr>\n",
       "    <tr>\n",
       "      <th>4</th>\n",
       "      <td>@uglygrunge1798 @Heraloebss @prabowo @gibran_t...</td>\n",
       "      <td>prabowo demokrasi tupoksi kerja ndasmu pimpin ...</td>\n",
       "      <td>uglygrunge heraloebss prabowo gibran tweet dem...</td>\n",
       "    </tr>\n",
       "  </tbody>\n",
       "</table>\n",
       "</div>"
      ],
      "text/plain": [
       "                                           full_text  \\\n",
       "0  OK gas ...Indonesia Emas nih pak @prabowo @gib...   \n",
       "1  @uglygrunge1798 @Heraloebss @prabowo @gibran_t...   \n",
       "2  @DedynurPalakka Kinerja? Emang pernah dikasih ...   \n",
       "3  @txtdrimedia Kinerja?? Emang dikasi tugas apa ...   \n",
       "4  @uglygrunge1798 @Heraloebss @prabowo @gibran_t...   \n",
       "\n",
       "                                      text_processed  \\\n",
       "0  gas indonesia emas prabowo berkas kerja keras ...   \n",
       "1  prabowo ngga hubung pilih presiden wapres puas...   \n",
       "2               kerja emang kasih tugas misi prabowo   \n",
       "3                     kerja emang kasi tugas prabowo   \n",
       "4  prabowo demokrasi tupoksi kerja ndasmu pimpin ...   \n",
       "\n",
       "                                     text_processed1  \n",
       "0  ok gas indonesia emas nih pak prabowo gibran t...  \n",
       "1  uglygrunge heraloebss prabowo gibran tweet ngg...  \n",
       "2  dedynurpalakka kinerja emang pernah dikasih tu...  \n",
       "3  txtdrimedia kinerja emang dikasi tugas apa sm ...  \n",
       "4  uglygrunge heraloebss prabowo gibran tweet dem...  "
      ]
     },
     "execution_count": 4,
     "metadata": {},
     "output_type": "execute_result"
    }
   ],
   "source": [
    "df = pd.read_csv('dataset/text/prabowo_mdughol.csv')\n",
    "df.drop(columns=['Unnamed: 0', 'label'], inplace=True)\n",
    "df.head()"
   ]
  },
  {
   "cell_type": "code",
   "execution_count": 5,
   "id": "d5599fde",
   "metadata": {},
   "outputs": [
    {
     "data": {
      "text/html": [
       "<div>\n",
       "<style scoped>\n",
       "    .dataframe tbody tr th:only-of-type {\n",
       "        vertical-align: middle;\n",
       "    }\n",
       "\n",
       "    .dataframe tbody tr th {\n",
       "        vertical-align: top;\n",
       "    }\n",
       "\n",
       "    .dataframe thead th {\n",
       "        text-align: right;\n",
       "    }\n",
       "</style>\n",
       "<table border=\"1\" class=\"dataframe\">\n",
       "  <thead>\n",
       "    <tr style=\"text-align: right;\">\n",
       "      <th></th>\n",
       "      <th>full_text</th>\n",
       "      <th>text_processed</th>\n",
       "      <th>text_processed1</th>\n",
       "      <th>label</th>\n",
       "      <th>score</th>\n",
       "    </tr>\n",
       "  </thead>\n",
       "  <tbody>\n",
       "    <tr>\n",
       "      <th>0</th>\n",
       "      <td>OK gas ...Indonesia Emas nih pak @prabowo @gib...</td>\n",
       "      <td>gas indonesia emas prabowo berkas kerja keras ...</td>\n",
       "      <td>ok gas indonesia emas nih pak prabowo gibran t...</td>\n",
       "      <td>neutral</td>\n",
       "      <td>0.963868</td>\n",
       "    </tr>\n",
       "    <tr>\n",
       "      <th>1</th>\n",
       "      <td>@uglygrunge1798 @Heraloebss @prabowo @gibran_t...</td>\n",
       "      <td>prabowo ngga hubung pilih presiden wapres puas...</td>\n",
       "      <td>uglygrunge heraloebss prabowo gibran tweet ngg...</td>\n",
       "      <td>neutral</td>\n",
       "      <td>0.426632</td>\n",
       "    </tr>\n",
       "    <tr>\n",
       "      <th>2</th>\n",
       "      <td>@DedynurPalakka Kinerja? Emang pernah dikasih ...</td>\n",
       "      <td>kerja emang kasih tugas misi prabowo</td>\n",
       "      <td>dedynurpalakka kinerja emang pernah dikasih tu...</td>\n",
       "      <td>neutral</td>\n",
       "      <td>0.994963</td>\n",
       "    </tr>\n",
       "    <tr>\n",
       "      <th>3</th>\n",
       "      <td>@txtdrimedia Kinerja?? Emang dikasi tugas apa ...</td>\n",
       "      <td>kerja emang kasi tugas prabowo</td>\n",
       "      <td>txtdrimedia kinerja emang dikasi tugas apa sm ...</td>\n",
       "      <td>neutral</td>\n",
       "      <td>0.588368</td>\n",
       "    </tr>\n",
       "    <tr>\n",
       "      <th>4</th>\n",
       "      <td>@uglygrunge1798 @Heraloebss @prabowo @gibran_t...</td>\n",
       "      <td>prabowo demokrasi tupoksi kerja ndasmu pimpin ...</td>\n",
       "      <td>uglygrunge heraloebss prabowo gibran tweet dem...</td>\n",
       "      <td>neutral</td>\n",
       "      <td>0.547282</td>\n",
       "    </tr>\n",
       "  </tbody>\n",
       "</table>\n",
       "</div>"
      ],
      "text/plain": [
       "                                           full_text  \\\n",
       "0  OK gas ...Indonesia Emas nih pak @prabowo @gib...   \n",
       "1  @uglygrunge1798 @Heraloebss @prabowo @gibran_t...   \n",
       "2  @DedynurPalakka Kinerja? Emang pernah dikasih ...   \n",
       "3  @txtdrimedia Kinerja?? Emang dikasi tugas apa ...   \n",
       "4  @uglygrunge1798 @Heraloebss @prabowo @gibran_t...   \n",
       "\n",
       "                                      text_processed  \\\n",
       "0  gas indonesia emas prabowo berkas kerja keras ...   \n",
       "1  prabowo ngga hubung pilih presiden wapres puas...   \n",
       "2               kerja emang kasih tugas misi prabowo   \n",
       "3                     kerja emang kasi tugas prabowo   \n",
       "4  prabowo demokrasi tupoksi kerja ndasmu pimpin ...   \n",
       "\n",
       "                                     text_processed1    label     score  \n",
       "0  ok gas indonesia emas nih pak prabowo gibran t...  neutral  0.963868  \n",
       "1  uglygrunge heraloebss prabowo gibran tweet ngg...  neutral  0.426632  \n",
       "2  dedynurpalakka kinerja emang pernah dikasih tu...  neutral  0.994963  \n",
       "3  txtdrimedia kinerja emang dikasi tugas apa sm ...  neutral  0.588368  \n",
       "4  uglygrunge heraloebss prabowo gibran tweet dem...  neutral  0.547282  "
      ]
     },
     "execution_count": 5,
     "metadata": {},
     "output_type": "execute_result"
    }
   ],
   "source": [
    "from transformers import AutoTokenizer, AutoModelForSequenceClassification\n",
    "from transformers import pipeline\n",
    "import pandas as pd\n",
    "\n",
    "# Load model IndoBERT klasifikasi sentimen (pre-trained)\n",
    "model_name = \"indobenchmark/indobert-base-p1\"  # atau model fine-tuned\n",
    "tokenizer = AutoTokenizer.from_pretrained(model_name)\n",
    "model = AutoModelForSequenceClassification.from_pretrained(\"w11wo/indonesian-roberta-base-sentiment-classifier\")  # contoh fine-tuned sentiment model\n",
    "\n",
    "# Buat pipeline klasifikasi\n",
    "nlp = pipeline(\"sentiment-analysis\", model=model, tokenizer=tokenizer)\n",
    "\n",
    "# Prediksi otomatis\n",
    "predictions = df['text_processed1'].apply(lambda x: nlp(x)[0])  # ambil hasil top-1\n",
    "\n",
    "# Tambahkan label ke dataframe\n",
    "df['label'] = predictions.apply(lambda x: x['label'])\n",
    "df['score'] = predictions.apply(lambda x: x['score'])\n",
    "\n",
    "# Simpan hasil\n",
    "df.head()\n"
   ]
  },
  {
   "cell_type": "code",
   "execution_count": 6,
   "id": "aabdc78f",
   "metadata": {},
   "outputs": [
    {
     "data": {
      "text/plain": [
       "label\n",
       "neutral     6197\n",
       "negative    3168\n",
       "positive    1566\n",
       "Name: count, dtype: int64"
      ]
     },
     "execution_count": 6,
     "metadata": {},
     "output_type": "execute_result"
    }
   ],
   "source": [
    "df['label'].value_counts()"
   ]
  },
  {
   "cell_type": "code",
   "execution_count": 7,
   "id": "cbc2fba6",
   "metadata": {},
   "outputs": [
    {
     "data": {
      "text/html": [
       "<div>\n",
       "<style scoped>\n",
       "    .dataframe tbody tr th:only-of-type {\n",
       "        vertical-align: middle;\n",
       "    }\n",
       "\n",
       "    .dataframe tbody tr th {\n",
       "        vertical-align: top;\n",
       "    }\n",
       "\n",
       "    .dataframe thead th {\n",
       "        text-align: right;\n",
       "    }\n",
       "</style>\n",
       "<table border=\"1\" class=\"dataframe\">\n",
       "  <thead>\n",
       "    <tr style=\"text-align: right;\">\n",
       "      <th></th>\n",
       "      <th>score</th>\n",
       "    </tr>\n",
       "  </thead>\n",
       "  <tbody>\n",
       "    <tr>\n",
       "      <th>count</th>\n",
       "      <td>10931.000000</td>\n",
       "    </tr>\n",
       "    <tr>\n",
       "      <th>mean</th>\n",
       "      <td>0.827528</td>\n",
       "    </tr>\n",
       "    <tr>\n",
       "      <th>std</th>\n",
       "      <td>0.172673</td>\n",
       "    </tr>\n",
       "    <tr>\n",
       "      <th>min</th>\n",
       "      <td>0.337372</td>\n",
       "    </tr>\n",
       "    <tr>\n",
       "      <th>25%</th>\n",
       "      <td>0.702148</td>\n",
       "    </tr>\n",
       "    <tr>\n",
       "      <th>50%</th>\n",
       "      <td>0.895057</td>\n",
       "    </tr>\n",
       "    <tr>\n",
       "      <th>75%</th>\n",
       "      <td>0.977465</td>\n",
       "    </tr>\n",
       "    <tr>\n",
       "      <th>max</th>\n",
       "      <td>0.999278</td>\n",
       "    </tr>\n",
       "  </tbody>\n",
       "</table>\n",
       "</div>"
      ],
      "text/plain": [
       "              score\n",
       "count  10931.000000\n",
       "mean       0.827528\n",
       "std        0.172673\n",
       "min        0.337372\n",
       "25%        0.702148\n",
       "50%        0.895057\n",
       "75%        0.977465\n",
       "max        0.999278"
      ]
     },
     "execution_count": 7,
     "metadata": {},
     "output_type": "execute_result"
    }
   ],
   "source": [
    "df.describe()"
   ]
  },
  {
   "cell_type": "code",
   "execution_count": 16,
   "id": "2480beb5",
   "metadata": {},
   "outputs": [
    {
     "name": "stdout",
     "output_type": "stream",
     "text": [
      "<class 'pandas.core.frame.DataFrame'>\n",
      "RangeIndex: 10931 entries, 0 to 10930\n",
      "Data columns (total 4 columns):\n",
      " #   Column      Non-Null Count  Dtype  \n",
      "---  ------      --------------  -----  \n",
      " 0   Unnamed: 0  10931 non-null  int64  \n",
      " 1   full_text   10931 non-null  object \n",
      " 2   label       10931 non-null  object \n",
      " 3   score       10931 non-null  float64\n",
      "dtypes: float64(1), int64(1), object(2)\n",
      "memory usage: 341.7+ KB\n"
     ]
    }
   ],
   "source": [
    "df.info()"
   ]
  },
  {
   "cell_type": "code",
   "execution_count": 8,
   "id": "0c898af9",
   "metadata": {},
   "outputs": [],
   "source": [
    "df.to_csv('dataset/text/prabowo_w11wo.csv', index=False)"
   ]
  },
  {
   "cell_type": "code",
   "execution_count": 26,
   "id": "02ac7291",
   "metadata": {},
   "outputs": [
    {
     "data": {
      "text/plain": [
       "label\n",
       "neutral     4922\n",
       "negative    1275\n",
       "positive     426\n",
       "Name: count, dtype: int64"
      ]
     },
     "execution_count": 26,
     "metadata": {},
     "output_type": "execute_result"
    }
   ],
   "source": [
    "df_copy = df.copy()\n",
    "df_copy = df_copy[df_copy['score'] >= 0.820]\n",
    "df_copy['label'].value_counts()"
   ]
  },
  {
   "cell_type": "code",
   "execution_count": 35,
   "id": "39050ce2",
   "metadata": {},
   "outputs": [
    {
     "data": {
      "text/plain": [
       "label\n",
       "negative    650\n",
       "Name: count, dtype: int64"
      ]
     },
     "execution_count": 35,
     "metadata": {},
     "output_type": "execute_result"
    }
   ],
   "source": [
    "df_copy1 = df.copy()\n",
    "df_copy1 = df_copy1[(df_copy1['score'] >= 0.95) & (df_copy1['label'] == 'negative')]\n",
    "df_copy1['label'].value_counts()"
   ]
  },
  {
   "cell_type": "code",
   "execution_count": 44,
   "id": "245a285d",
   "metadata": {},
   "outputs": [
    {
     "data": {
      "text/plain": [
       "label\n",
       "neutral    557\n",
       "Name: count, dtype: int64"
      ]
     },
     "execution_count": 44,
     "metadata": {},
     "output_type": "execute_result"
    }
   ],
   "source": [
    "df_copy2 = df.copy()\n",
    "df_copy2 = df_copy2[(df_copy2['score'] >= 0.995) & (df_copy2['label'] == 'neutral')]\n",
    "df_copy2['label'].value_counts()"
   ]
  },
  {
   "cell_type": "code",
   "execution_count": 47,
   "id": "3ab5ac45",
   "metadata": {},
   "outputs": [
    {
     "data": {
      "text/plain": [
       "label\n",
       "negative    650\n",
       "neutral     557\n",
       "positive    426\n",
       "Name: count, dtype: int64"
      ]
     },
     "execution_count": 47,
     "metadata": {},
     "output_type": "execute_result"
    }
   ],
   "source": [
    "df_copy = df.copy()\n",
    "df_copy = df_copy[\n",
    "    ((df_copy['label'] == 'negative') & (df_copy['score'] >= 0.95)) |\n",
    "    ((df_copy['label'] == 'neutral') & (df_copy['score'] >= 0.995)) |\n",
    "    ((df_copy['label'] == 'positive') & (df_copy['score'] >= 0.82))\n",
    "]\n",
    "\n",
    "df_copy['label'].value_counts()\n"
   ]
  },
  {
   "cell_type": "code",
   "execution_count": 48,
   "id": "5103d1a9",
   "metadata": {},
   "outputs": [
    {
     "data": {
      "text/html": [
       "<div>\n",
       "<style scoped>\n",
       "    .dataframe tbody tr th:only-of-type {\n",
       "        vertical-align: middle;\n",
       "    }\n",
       "\n",
       "    .dataframe tbody tr th {\n",
       "        vertical-align: top;\n",
       "    }\n",
       "\n",
       "    .dataframe thead th {\n",
       "        text-align: right;\n",
       "    }\n",
       "</style>\n",
       "<table border=\"1\" class=\"dataframe\">\n",
       "  <thead>\n",
       "    <tr style=\"text-align: right;\">\n",
       "      <th></th>\n",
       "      <th>Unnamed: 0</th>\n",
       "      <th>score</th>\n",
       "    </tr>\n",
       "  </thead>\n",
       "  <tbody>\n",
       "    <tr>\n",
       "      <th>count</th>\n",
       "      <td>1633.000000</td>\n",
       "      <td>1633.000000</td>\n",
       "    </tr>\n",
       "    <tr>\n",
       "      <th>mean</th>\n",
       "      <td>6077.633803</td>\n",
       "      <td>0.967817</td>\n",
       "    </tr>\n",
       "    <tr>\n",
       "      <th>std</th>\n",
       "      <td>3436.886165</td>\n",
       "      <td>0.044255</td>\n",
       "    </tr>\n",
       "    <tr>\n",
       "      <th>min</th>\n",
       "      <td>2.000000</td>\n",
       "      <td>0.820064</td>\n",
       "    </tr>\n",
       "    <tr>\n",
       "      <th>25%</th>\n",
       "      <td>3190.000000</td>\n",
       "      <td>0.959729</td>\n",
       "    </tr>\n",
       "    <tr>\n",
       "      <th>50%</th>\n",
       "      <td>6403.000000</td>\n",
       "      <td>0.988456</td>\n",
       "    </tr>\n",
       "    <tr>\n",
       "      <th>75%</th>\n",
       "      <td>8621.000000</td>\n",
       "      <td>0.996301</td>\n",
       "    </tr>\n",
       "    <tr>\n",
       "      <th>max</th>\n",
       "      <td>12211.000000</td>\n",
       "      <td>0.998918</td>\n",
       "    </tr>\n",
       "  </tbody>\n",
       "</table>\n",
       "</div>"
      ],
      "text/plain": [
       "         Unnamed: 0        score\n",
       "count   1633.000000  1633.000000\n",
       "mean    6077.633803     0.967817\n",
       "std     3436.886165     0.044255\n",
       "min        2.000000     0.820064\n",
       "25%     3190.000000     0.959729\n",
       "50%     6403.000000     0.988456\n",
       "75%     8621.000000     0.996301\n",
       "max    12211.000000     0.998918"
      ]
     },
     "execution_count": 48,
     "metadata": {},
     "output_type": "execute_result"
    }
   ],
   "source": [
    "df_copy.describe()"
   ]
  },
  {
   "cell_type": "code",
   "execution_count": 50,
   "id": "59fc4672",
   "metadata": {},
   "outputs": [],
   "source": [
    "df_copy.to_csv('dataset/text/prabowo_text_score82.csv')"
   ]
  }
 ],
 "metadata": {
  "kernelspec": {
   "display_name": "Python 3",
   "language": "python",
   "name": "python3"
  },
  "language_info": {
   "codemirror_mode": {
    "name": "ipython",
    "version": 3
   },
   "file_extension": ".py",
   "mimetype": "text/x-python",
   "name": "python",
   "nbconvert_exporter": "python",
   "pygments_lexer": "ipython3",
   "version": "3.12.3"
  }
 },
 "nbformat": 4,
 "nbformat_minor": 5
}
