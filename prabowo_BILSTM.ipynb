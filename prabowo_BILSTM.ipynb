{
 "cells": [
  {
   "cell_type": "code",
   "execution_count": 20,
   "id": "05ef299a",
   "metadata": {},
   "outputs": [
    {
     "name": "stderr",
     "output_type": "stream",
     "text": [
      "[nltk_data] Downloading package stopwords to\n",
      "[nltk_data]     C:\\Users\\akmal\\AppData\\Roaming\\nltk_data...\n",
      "[nltk_data]   Package stopwords is already up-to-date!\n",
      "[nltk_data] Downloading package punkt to\n",
      "[nltk_data]     C:\\Users\\akmal\\AppData\\Roaming\\nltk_data...\n",
      "[nltk_data]   Package punkt is already up-to-date!\n",
      "[nltk_data] Downloading package punkt_tab to\n",
      "[nltk_data]     C:\\Users\\akmal\\AppData\\Roaming\\nltk_data...\n",
      "[nltk_data]   Package punkt_tab is already up-to-date!\n"
     ]
    }
   ],
   "source": [
    "import nltk\n",
    "import pandas as pd\n",
    "import numpy as np\n",
    "import re\n",
    "\n",
    "import matplotlib.pyplot as plt\n",
    "import seaborn as sns\n",
    "\n",
    "from nltk.corpus import stopwords\n",
    "from nltk.tokenize import word_tokenize\n",
    "from Sastrawi.Stemmer.StemmerFactory import StemmerFactory\n",
    "import string\n",
    "\n",
    "nltk.download('stopwords')\n",
    "nltk.download('punkt')\n",
    "nltk.download('punkt_tab')\n",
    "\n",
    "import tensorflow as tf\n",
    "from sklearn.model_selection import train_test_split\n",
    "from sklearn.feature_extraction.text import CountVectorizer\n",
    "from tensorflow.keras.optimizers import Adam\n",
    "from tensorflow.keras.layers import Input\n",
    "from tensorflow.keras.callbacks import EarlyStopping\n",
    "from tensorflow.keras import regularizers\n",
    "from tensorflow.keras.models import load_model\n",
    "from tensorflow.keras.layers import TextVectorization, Embedding\n",
    "from tensorflow.keras.utils import to_categorical"
   ]
  },
  {
   "cell_type": "code",
   "execution_count": 27,
   "id": "2ee7840a",
   "metadata": {},
   "outputs": [],
   "source": [
    "import pandas as pd\n",
    "\n",
    "pd.set_option('display.max_columns', None)  \n",
    "pd.set_option('display.max_rows', 100)     \n",
    "pd.set_option('display.width', None)       \n",
    "pd.set_option('display.max_colwidth', None) \n"
   ]
  },
  {
   "cell_type": "markdown",
   "id": "c81e0e83",
   "metadata": {},
   "source": [
    "# Text Preprocessing"
   ]
  },
  {
   "cell_type": "code",
   "execution_count": 21,
   "id": "d03153e4",
   "metadata": {},
   "outputs": [
    {
     "name": "stdout",
     "output_type": "stream",
     "text": [
      "<class 'pandas.core.frame.DataFrame'>\n",
      "Index: 8344 entries, 0 to 2781\n",
      "Data columns (total 17 columns):\n",
      " #   Column                   Non-Null Count  Dtype  \n",
      "---  ------                   --------------  -----  \n",
      " 0   conversation_id_str      8344 non-null   int64  \n",
      " 1   created_at               8344 non-null   object \n",
      " 2   favorite_count           8344 non-null   int64  \n",
      " 3   full_text                8344 non-null   object \n",
      " 4   id_str                   8344 non-null   int64  \n",
      " 5   image_url                2141 non-null   object \n",
      " 6   in_reply_to_screen_name  4202 non-null   object \n",
      " 7   lang                     8344 non-null   object \n",
      " 8   location                 0 non-null      float64\n",
      " 9   quote_count              8344 non-null   int64  \n",
      " 10  reply_count              8344 non-null   int64  \n",
      " 11  retweet_count            8344 non-null   int64  \n",
      " 12  tweet_url                8344 non-null   object \n",
      " 13  user_id_str              8344 non-null   int64  \n",
      " 14  username                 2782 non-null   object \n",
      " 15  label                    8344 non-null   object \n",
      " 16  text_processed1          8341 non-null   object \n",
      "dtypes: float64(1), int64(7), object(9)\n",
      "memory usage: 1.1+ MB\n"
     ]
    }
   ],
   "source": [
    "\n",
    "df = pd.read_csv('08_stemmed.csv')\n",
    "df1 = pd.read_csv('2700_stemmed.csv')\n",
    "df = pd.concat([df, df1])\n",
    "df.info()"
   ]
  },
  {
   "cell_type": "code",
   "execution_count": 39,
   "id": "8058b3c5",
   "metadata": {},
   "outputs": [
    {
     "data": {
      "text/plain": [
       "0"
      ]
     },
     "execution_count": 39,
     "metadata": {},
     "output_type": "execute_result"
    }
   ],
   "source": [
    "df.duplicated().sum()"
   ]
  },
  {
   "cell_type": "code",
   "execution_count": 40,
   "id": "7204e30a",
   "metadata": {},
   "outputs": [
    {
     "data": {
      "text/plain": [
       "label\n",
       "positif    3856\n",
       "negatif    2843\n",
       "netral     1644\n",
       "campur        1\n",
       "Name: count, dtype: int64"
      ]
     },
     "execution_count": 40,
     "metadata": {},
     "output_type": "execute_result"
    }
   ],
   "source": [
    "df['label'].value_counts()"
   ]
  },
  {
   "cell_type": "code",
   "execution_count": null,
   "id": "872d82d4",
   "metadata": {},
   "outputs": [
    {
     "name": "stdout",
     "output_type": "stream",
     "text": [
      "label\n",
      "positif    2856\n",
      "negatif    2843\n",
      "netral     1644\n",
      "campur        1\n",
      "Name: count, dtype: int64\n"
     ]
    }
   ],
   "source": [
    "df_negatif = df[df['label'] == 'positif']\n",
    "df_lainnya = df[df['label'] != 'positif']\n",
    "\n",
    "df_negatif_tersisa = df_negatif.sample(n=len(df_negatif) - 1000, random_state=42)\n",
    "\n",
    "df = pd.concat([df_negatif_tersisa, df_lainnya], ignore_index=True)\n",
    "\n",
    "print(df['label'].value_counts())\n"
   ]
  },
  {
   "cell_type": "code",
   "execution_count": null,
   "id": "e37e9260",
   "metadata": {},
   "outputs": [],
   "source": [
    "import re\n",
    "from Sastrawi.Stemmer.StemmerFactory import StemmerFactory\n",
    "from nltk.corpus import stopwords\n",
    "from nltk.tokenize import word_tokenize\n",
    "\n",
    "factory = StemmerFactory()\n",
    "stemmer = factory.create_stemmer()\n",
    "stop_words = set(stopwords.words('indonesian'))\n",
    "\n",
    "mention_whitelist = ['prabowo']\n",
    "\n",
    "normalisasi_kata = {\n",
    "    'gak': 'tidak',\n",
    "    'ga': 'tidak',\n",
    "    'yg': 'yang',\n",
    "    'utk': 'untuk',\n",
    "    'dgn': 'dengan',\n",
    "    'apik': 'baik',\n",
    "    'sdh': 'sudah',\n",
    "    'krn': 'karena',\n",
    "    'apik': 'bagus',\n",
    "    'tdk': 'tidak',\n",
    "    'klo': 'kalo',\n",
    "    'sbg': 'sebagai',\n",
    "    'gue': 'aku',\n",
    "    'dlm': 'dalam',\n",
    "    'jgn': 'jangan',\n",
    "    'jkw': 'jokowi',\n",
    "    'org': 'orang',\n",
    "    'nggak': 'tidak',\n",
    "    'aja': '',\n",
    "    'amp': '',\n",
    "    'nya': '',\n",
    "    'ya': '',\n",
    "    'gitu': '',\n",
    "    'loh': '',\n",
    "    'dong': '',\n",
    "    'sih': '',\n",
    "    'deh': '',\n",
    "    'nih': '',\n",
    "    'kok': '',\n",
    "}\n",
    "\n",
    "def preprocessing(text):\n",
    "    text = re.sub(r'@(\\w+)', lambda m: m.group() if m.group(1).lower() in mention_whitelist else '', text)\n",
    "\n",
    "    text = re.sub(r'http\\S+|www\\S+|<.*?>|#', ' ', text)\n",
    "    \n",
    "    text = re.sub(r'<.*?>', '', text)\n",
    "\n",
    "    text = re.sub(r'[^a-zA-Z\\s]', ' ', text)\n",
    "    \n",
    "    text = text.lower()\n",
    "\n",
    "    tokens = word_tokenize(text)\n",
    "\n",
    "    tokens = [normalisasi_kata.get(word, word) for word in tokens]\n",
    "\n",
    "    tokens = [word for word in tokens if word not in stop_words and len(word) > 2 and word != '']\n",
    "\n",
    "    tokens = [stemmer.stem(word) for word in tokens]\n",
    "    \n",
    "    return ' '.join(tokens)\n"
   ]
  },
  {
   "cell_type": "code",
   "execution_count": null,
   "id": "2a50bde6",
   "metadata": {},
   "outputs": [
    {
     "name": "stdout",
     "output_type": "stream",
     "text": [
      "Processed 50/7344 rows\n",
      "Processed 100/7344 rows\n",
      "Processed 150/7344 rows\n"
     ]
    },
    {
     "ename": "KeyboardInterrupt",
     "evalue": "",
     "output_type": "error",
     "traceback": [
      "\u001b[1;31m---------------------------------------------------------------------------\u001b[0m",
      "\u001b[1;31mKeyboardInterrupt\u001b[0m                         Traceback (most recent call last)",
      "Cell \u001b[1;32mIn[24], line 11\u001b[0m\n\u001b[0;32m      8\u001b[0m     \u001b[38;5;28;01mreturn\u001b[39;00m df\n\u001b[0;32m     10\u001b[0m \u001b[38;5;66;03m# Contoh pemakaian\u001b[39;00m\n\u001b[1;32m---> 11\u001b[0m df \u001b[38;5;241m=\u001b[39m \u001b[43mapply_with_progress\u001b[49m\u001b[43m(\u001b[49m\u001b[43mdf\u001b[49m\u001b[43m,\u001b[49m\u001b[43m \u001b[49m\u001b[43mpreprocessing\u001b[49m\u001b[43m,\u001b[49m\u001b[43m \u001b[49m\u001b[38;5;124;43m'\u001b[39;49m\u001b[38;5;124;43mfull_text\u001b[39;49m\u001b[38;5;124;43m'\u001b[39;49m\u001b[43m,\u001b[49m\u001b[43m \u001b[49m\u001b[38;5;124;43m'\u001b[39;49m\u001b[38;5;124;43mtext_processed\u001b[39;49m\u001b[38;5;124;43m'\u001b[39;49m\u001b[43m)\u001b[49m\n\u001b[0;32m     12\u001b[0m df\u001b[38;5;241m.\u001b[39mhead()\n",
      "Cell \u001b[1;32mIn[24], line 4\u001b[0m, in \u001b[0;36mapply_with_progress\u001b[1;34m(df, func, column, new_column, step)\u001b[0m\n\u001b[0;32m      2\u001b[0m result \u001b[38;5;241m=\u001b[39m []\n\u001b[0;32m      3\u001b[0m \u001b[38;5;28;01mfor\u001b[39;00m i, text \u001b[38;5;129;01min\u001b[39;00m \u001b[38;5;28menumerate\u001b[39m(df[column]):\n\u001b[1;32m----> 4\u001b[0m     result\u001b[38;5;241m.\u001b[39mappend(\u001b[43mfunc\u001b[49m\u001b[43m(\u001b[49m\u001b[43mtext\u001b[49m\u001b[43m)\u001b[49m)\n\u001b[0;32m      5\u001b[0m     \u001b[38;5;28;01mif\u001b[39;00m (i \u001b[38;5;241m+\u001b[39m \u001b[38;5;241m1\u001b[39m) \u001b[38;5;241m%\u001b[39m step \u001b[38;5;241m==\u001b[39m \u001b[38;5;241m0\u001b[39m \u001b[38;5;129;01mor\u001b[39;00m (i \u001b[38;5;241m+\u001b[39m \u001b[38;5;241m1\u001b[39m) \u001b[38;5;241m==\u001b[39m \u001b[38;5;28mlen\u001b[39m(df):\n\u001b[0;32m      6\u001b[0m         \u001b[38;5;28mprint\u001b[39m(\u001b[38;5;124mf\u001b[39m\u001b[38;5;124m\"\u001b[39m\u001b[38;5;124mProcessed \u001b[39m\u001b[38;5;132;01m{\u001b[39;00mi\u001b[38;5;250m \u001b[39m\u001b[38;5;241m+\u001b[39m\u001b[38;5;250m \u001b[39m\u001b[38;5;241m1\u001b[39m\u001b[38;5;132;01m}\u001b[39;00m\u001b[38;5;124m/\u001b[39m\u001b[38;5;132;01m{\u001b[39;00m\u001b[38;5;28mlen\u001b[39m(df)\u001b[38;5;132;01m}\u001b[39;00m\u001b[38;5;124m rows\u001b[39m\u001b[38;5;124m\"\u001b[39m)\n",
      "Cell \u001b[1;32mIn[23], line 72\u001b[0m, in \u001b[0;36mpreprocessing\u001b[1;34m(text)\u001b[0m\n\u001b[0;32m     69\u001b[0m tokens \u001b[38;5;241m=\u001b[39m [word \u001b[38;5;28;01mfor\u001b[39;00m word \u001b[38;5;129;01min\u001b[39;00m tokens \u001b[38;5;28;01mif\u001b[39;00m word \u001b[38;5;129;01mnot\u001b[39;00m \u001b[38;5;129;01min\u001b[39;00m stop_words \u001b[38;5;129;01mand\u001b[39;00m \u001b[38;5;28mlen\u001b[39m(word) \u001b[38;5;241m>\u001b[39m \u001b[38;5;241m2\u001b[39m \u001b[38;5;129;01mand\u001b[39;00m word \u001b[38;5;241m!=\u001b[39m \u001b[38;5;124m'\u001b[39m\u001b[38;5;124m'\u001b[39m]\n\u001b[0;32m     71\u001b[0m \u001b[38;5;66;03m# Stemming\u001b[39;00m\n\u001b[1;32m---> 72\u001b[0m tokens \u001b[38;5;241m=\u001b[39m [stemmer\u001b[38;5;241m.\u001b[39mstem(word) \u001b[38;5;28;01mfor\u001b[39;00m word \u001b[38;5;129;01min\u001b[39;00m tokens]\n\u001b[0;32m     74\u001b[0m \u001b[38;5;66;03m# 11. Gabung kembali jadi string\u001b[39;00m\n\u001b[0;32m     75\u001b[0m \u001b[38;5;28;01mreturn\u001b[39;00m \u001b[38;5;124m'\u001b[39m\u001b[38;5;124m \u001b[39m\u001b[38;5;124m'\u001b[39m\u001b[38;5;241m.\u001b[39mjoin(tokens)\n",
      "Cell \u001b[1;32mIn[23], line 72\u001b[0m, in \u001b[0;36m<listcomp>\u001b[1;34m(.0)\u001b[0m\n\u001b[0;32m     69\u001b[0m tokens \u001b[38;5;241m=\u001b[39m [word \u001b[38;5;28;01mfor\u001b[39;00m word \u001b[38;5;129;01min\u001b[39;00m tokens \u001b[38;5;28;01mif\u001b[39;00m word \u001b[38;5;129;01mnot\u001b[39;00m \u001b[38;5;129;01min\u001b[39;00m stop_words \u001b[38;5;129;01mand\u001b[39;00m \u001b[38;5;28mlen\u001b[39m(word) \u001b[38;5;241m>\u001b[39m \u001b[38;5;241m2\u001b[39m \u001b[38;5;129;01mand\u001b[39;00m word \u001b[38;5;241m!=\u001b[39m \u001b[38;5;124m'\u001b[39m\u001b[38;5;124m'\u001b[39m]\n\u001b[0;32m     71\u001b[0m \u001b[38;5;66;03m# Stemming\u001b[39;00m\n\u001b[1;32m---> 72\u001b[0m tokens \u001b[38;5;241m=\u001b[39m [\u001b[43mstemmer\u001b[49m\u001b[38;5;241;43m.\u001b[39;49m\u001b[43mstem\u001b[49m\u001b[43m(\u001b[49m\u001b[43mword\u001b[49m\u001b[43m)\u001b[49m \u001b[38;5;28;01mfor\u001b[39;00m word \u001b[38;5;129;01min\u001b[39;00m tokens]\n\u001b[0;32m     74\u001b[0m \u001b[38;5;66;03m# 11. Gabung kembali jadi string\u001b[39;00m\n\u001b[0;32m     75\u001b[0m \u001b[38;5;28;01mreturn\u001b[39;00m \u001b[38;5;124m'\u001b[39m\u001b[38;5;124m \u001b[39m\u001b[38;5;124m'\u001b[39m\u001b[38;5;241m.\u001b[39mjoin(tokens)\n",
      "File \u001b[1;32mc:\\Users\\akmal\\anaconda3\\envs\\keras_env\\lib\\site-packages\\Sastrawi\\Stemmer\\CachedStemmer.py:20\u001b[0m, in \u001b[0;36mCachedStemmer.stem\u001b[1;34m(self, text)\u001b[0m\n\u001b[0;32m     18\u001b[0m     stems\u001b[38;5;241m.\u001b[39mappend(\u001b[38;5;28mself\u001b[39m\u001b[38;5;241m.\u001b[39mcache\u001b[38;5;241m.\u001b[39mget(word))\n\u001b[0;32m     19\u001b[0m \u001b[38;5;28;01melse\u001b[39;00m:\n\u001b[1;32m---> 20\u001b[0m     stem \u001b[38;5;241m=\u001b[39m \u001b[38;5;28;43mself\u001b[39;49m\u001b[38;5;241;43m.\u001b[39;49m\u001b[43mdelegatedStemmer\u001b[49m\u001b[38;5;241;43m.\u001b[39;49m\u001b[43mstem\u001b[49m\u001b[43m(\u001b[49m\u001b[43mword\u001b[49m\u001b[43m)\u001b[49m\n\u001b[0;32m     21\u001b[0m     \u001b[38;5;28mself\u001b[39m\u001b[38;5;241m.\u001b[39mcache\u001b[38;5;241m.\u001b[39mset(word, stem)\n\u001b[0;32m     22\u001b[0m     stems\u001b[38;5;241m.\u001b[39mappend(stem)\n",
      "File \u001b[1;32mc:\\Users\\akmal\\anaconda3\\envs\\keras_env\\lib\\site-packages\\Sastrawi\\Stemmer\\Stemmer.py:27\u001b[0m, in \u001b[0;36mStemmer.stem\u001b[1;34m(self, text)\u001b[0m\n\u001b[0;32m     24\u001b[0m stems \u001b[38;5;241m=\u001b[39m []\n\u001b[0;32m     26\u001b[0m \u001b[38;5;28;01mfor\u001b[39;00m word \u001b[38;5;129;01min\u001b[39;00m words:\n\u001b[1;32m---> 27\u001b[0m     stems\u001b[38;5;241m.\u001b[39mappend(\u001b[38;5;28;43mself\u001b[39;49m\u001b[38;5;241;43m.\u001b[39;49m\u001b[43mstem_word\u001b[49m\u001b[43m(\u001b[49m\u001b[43mword\u001b[49m\u001b[43m)\u001b[49m)\n\u001b[0;32m     29\u001b[0m \u001b[38;5;28;01mreturn\u001b[39;00m \u001b[38;5;124m'\u001b[39m\u001b[38;5;124m \u001b[39m\u001b[38;5;124m'\u001b[39m\u001b[38;5;241m.\u001b[39mjoin(stems)\n",
      "File \u001b[1;32mc:\\Users\\akmal\\anaconda3\\envs\\keras_env\\lib\\site-packages\\Sastrawi\\Stemmer\\Stemmer.py:36\u001b[0m, in \u001b[0;36mStemmer.stem_word\u001b[1;34m(self, word)\u001b[0m\n\u001b[0;32m     34\u001b[0m     \u001b[38;5;28;01mreturn\u001b[39;00m \u001b[38;5;28mself\u001b[39m\u001b[38;5;241m.\u001b[39mstem_plural_word(word)\n\u001b[0;32m     35\u001b[0m \u001b[38;5;28;01melse\u001b[39;00m:\n\u001b[1;32m---> 36\u001b[0m     \u001b[38;5;28;01mreturn\u001b[39;00m \u001b[38;5;28;43mself\u001b[39;49m\u001b[38;5;241;43m.\u001b[39;49m\u001b[43mstem_singular_word\u001b[49m\u001b[43m(\u001b[49m\u001b[43mword\u001b[49m\u001b[43m)\u001b[49m\n",
      "File \u001b[1;32mc:\\Users\\akmal\\anaconda3\\envs\\keras_env\\lib\\site-packages\\Sastrawi\\Stemmer\\Stemmer.py:84\u001b[0m, in \u001b[0;36mStemmer.stem_singular_word\u001b[1;34m(self, word)\u001b[0m\n\u001b[0;32m     82\u001b[0m \u001b[38;5;250m\u001b[39m\u001b[38;5;124;03m\"\"\"Stem a singular word to its common stem form.\"\"\"\u001b[39;00m\n\u001b[0;32m     83\u001b[0m context \u001b[38;5;241m=\u001b[39m Context(word, \u001b[38;5;28mself\u001b[39m\u001b[38;5;241m.\u001b[39mdictionary, \u001b[38;5;28mself\u001b[39m\u001b[38;5;241m.\u001b[39mvisitor_provider)\n\u001b[1;32m---> 84\u001b[0m \u001b[43mcontext\u001b[49m\u001b[38;5;241;43m.\u001b[39;49m\u001b[43mexecute\u001b[49m\u001b[43m(\u001b[49m\u001b[43m)\u001b[49m\n\u001b[0;32m     86\u001b[0m \u001b[38;5;28;01mreturn\u001b[39;00m context\u001b[38;5;241m.\u001b[39mresult\n",
      "File \u001b[1;32mc:\\Users\\akmal\\anaconda3\\envs\\keras_env\\lib\\site-packages\\Sastrawi\\Stemmer\\Context\\Context.py:37\u001b[0m, in \u001b[0;36mContext.execute\u001b[1;34m(self)\u001b[0m\n\u001b[0;32m     34\u001b[0m \u001b[38;5;250m\u001b[39m\u001b[38;5;124;03m\"\"\"Execute stemming process; the result can be retrieved with result\"\"\"\u001b[39;00m\n\u001b[0;32m     36\u001b[0m \u001b[38;5;66;03m#step 1 - 5\u001b[39;00m\n\u001b[1;32m---> 37\u001b[0m \u001b[38;5;28;43mself\u001b[39;49m\u001b[38;5;241;43m.\u001b[39;49m\u001b[43mstart_stemming_process\u001b[49m\u001b[43m(\u001b[49m\u001b[43m)\u001b[49m\n\u001b[0;32m     39\u001b[0m \u001b[38;5;66;03m#step 6\u001b[39;00m\n\u001b[0;32m     40\u001b[0m \u001b[38;5;28;01mif\u001b[39;00m \u001b[38;5;28mself\u001b[39m\u001b[38;5;241m.\u001b[39mdictionary\u001b[38;5;241m.\u001b[39mcontains(\u001b[38;5;28mself\u001b[39m\u001b[38;5;241m.\u001b[39mcurrent_word):\n",
      "File \u001b[1;32mc:\\Users\\akmal\\anaconda3\\envs\\keras_env\\lib\\site-packages\\Sastrawi\\Stemmer\\Context\\Context.py:80\u001b[0m, in \u001b[0;36mContext.start_stemming_process\u001b[1;34m(self)\u001b[0m\n\u001b[0;32m     77\u001b[0m     \u001b[38;5;28;01mreturn\u001b[39;00m\n\u001b[0;32m     79\u001b[0m \u001b[38;5;66;03m#step 4, 5\u001b[39;00m\n\u001b[1;32m---> 80\u001b[0m \u001b[38;5;28;43mself\u001b[39;49m\u001b[38;5;241;43m.\u001b[39;49m\u001b[43mremove_prefixes\u001b[49m\u001b[43m(\u001b[49m\u001b[43m)\u001b[49m\n\u001b[0;32m     81\u001b[0m \u001b[38;5;28;01mif\u001b[39;00m \u001b[38;5;28mself\u001b[39m\u001b[38;5;241m.\u001b[39mdictionary\u001b[38;5;241m.\u001b[39mcontains(\u001b[38;5;28mself\u001b[39m\u001b[38;5;241m.\u001b[39mcurrent_word):\n\u001b[0;32m     82\u001b[0m     \u001b[38;5;28;01mreturn\u001b[39;00m\n",
      "File \u001b[1;32mc:\\Users\\akmal\\anaconda3\\envs\\keras_env\\lib\\site-packages\\Sastrawi\\Stemmer\\Context\\Context.py:89\u001b[0m, in \u001b[0;36mContext.remove_prefixes\u001b[1;34m(self)\u001b[0m\n\u001b[0;32m     87\u001b[0m \u001b[38;5;28;01mdef\u001b[39;00m \u001b[38;5;21mremove_prefixes\u001b[39m(\u001b[38;5;28mself\u001b[39m):\n\u001b[0;32m     88\u001b[0m     \u001b[38;5;28;01mfor\u001b[39;00m i \u001b[38;5;129;01min\u001b[39;00m \u001b[38;5;28mrange\u001b[39m(\u001b[38;5;241m3\u001b[39m):\n\u001b[1;32m---> 89\u001b[0m         \u001b[38;5;28;43mself\u001b[39;49m\u001b[38;5;241;43m.\u001b[39;49m\u001b[43maccept_prefix_visitors\u001b[49m\u001b[43m(\u001b[49m\u001b[38;5;28;43mself\u001b[39;49m\u001b[38;5;241;43m.\u001b[39;49m\u001b[43mprefix_pisitors\u001b[49m\u001b[43m)\u001b[49m\n\u001b[0;32m     90\u001b[0m         \u001b[38;5;28;01mif\u001b[39;00m \u001b[38;5;28mself\u001b[39m\u001b[38;5;241m.\u001b[39mdictionary\u001b[38;5;241m.\u001b[39mcontains(\u001b[38;5;28mself\u001b[39m\u001b[38;5;241m.\u001b[39mcurrent_word):\n\u001b[0;32m     91\u001b[0m             \u001b[38;5;28;01mreturn\u001b[39;00m\n",
      "File \u001b[1;32mc:\\Users\\akmal\\anaconda3\\envs\\keras_env\\lib\\site-packages\\Sastrawi\\Stemmer\\Context\\Context.py:110\u001b[0m, in \u001b[0;36mContext.accept_prefix_visitors\u001b[1;34m(self, visitors)\u001b[0m\n\u001b[0;32m    108\u001b[0m removalCount \u001b[38;5;241m=\u001b[39m \u001b[38;5;28mlen\u001b[39m(\u001b[38;5;28mself\u001b[39m\u001b[38;5;241m.\u001b[39mremovals)\n\u001b[0;32m    109\u001b[0m \u001b[38;5;28;01mfor\u001b[39;00m visitor \u001b[38;5;129;01min\u001b[39;00m visitors:\n\u001b[1;32m--> 110\u001b[0m     \u001b[38;5;28;43mself\u001b[39;49m\u001b[38;5;241;43m.\u001b[39;49m\u001b[43maccept\u001b[49m\u001b[43m(\u001b[49m\u001b[43mvisitor\u001b[49m\u001b[43m)\u001b[49m\n\u001b[0;32m    111\u001b[0m     \u001b[38;5;28;01mif\u001b[39;00m \u001b[38;5;28mself\u001b[39m\u001b[38;5;241m.\u001b[39mdictionary\u001b[38;5;241m.\u001b[39mcontains(\u001b[38;5;28mself\u001b[39m\u001b[38;5;241m.\u001b[39mcurrent_word):\n\u001b[0;32m    112\u001b[0m         \u001b[38;5;28;01mreturn\u001b[39;00m \u001b[38;5;28mself\u001b[39m\u001b[38;5;241m.\u001b[39mcurrent_word\n",
      "File \u001b[1;32mc:\\Users\\akmal\\anaconda3\\envs\\keras_env\\lib\\site-packages\\Sastrawi\\Stemmer\\Context\\Context.py:97\u001b[0m, in \u001b[0;36mContext.accept\u001b[1;34m(self, visitor)\u001b[0m\n\u001b[0;32m     96\u001b[0m \u001b[38;5;28;01mdef\u001b[39;00m \u001b[38;5;21maccept\u001b[39m(\u001b[38;5;28mself\u001b[39m, visitor):\n\u001b[1;32m---> 97\u001b[0m     \u001b[43mvisitor\u001b[49m\u001b[38;5;241;43m.\u001b[39;49m\u001b[43mvisit\u001b[49m\u001b[43m(\u001b[49m\u001b[38;5;28;43mself\u001b[39;49m\u001b[43m)\u001b[49m\n",
      "File \u001b[1;32mc:\\Users\\akmal\\anaconda3\\envs\\keras_env\\lib\\site-packages\\Sastrawi\\Stemmer\\Context\\Visitor\\AbstractDisambiguatePrefixRule.py:15\u001b[0m, in \u001b[0;36mAbstractDisambiguatePrefixRule.visit\u001b[1;34m(self, context)\u001b[0m\n\u001b[0;32m     13\u001b[0m \u001b[38;5;28;01mfor\u001b[39;00m disambiguator \u001b[38;5;129;01min\u001b[39;00m \u001b[38;5;28mself\u001b[39m\u001b[38;5;241m.\u001b[39mdisambiguators:\n\u001b[0;32m     14\u001b[0m     result \u001b[38;5;241m=\u001b[39m disambiguator\u001b[38;5;241m.\u001b[39mdisambiguate(context\u001b[38;5;241m.\u001b[39mcurrent_word)\n\u001b[1;32m---> 15\u001b[0m     \u001b[38;5;28;01mif\u001b[39;00m \u001b[43mcontext\u001b[49m\u001b[38;5;241;43m.\u001b[39;49m\u001b[43mdictionary\u001b[49m\u001b[38;5;241;43m.\u001b[39;49m\u001b[43mcontains\u001b[49m\u001b[43m(\u001b[49m\u001b[43mresult\u001b[49m\u001b[43m)\u001b[49m:\n\u001b[0;32m     16\u001b[0m         \u001b[38;5;28;01mbreak\u001b[39;00m\n\u001b[0;32m     18\u001b[0m \u001b[38;5;28;01mif\u001b[39;00m \u001b[38;5;129;01mnot\u001b[39;00m result:\n",
      "\u001b[1;31mKeyboardInterrupt\u001b[0m: "
     ]
    }
   ],
   "source": [
    "def apply_with_progress(df, func, column, new_column, step=50):\n",
    "    result = []\n",
    "    for i, text in enumerate(df[column]):\n",
    "        result.append(func(text))\n",
    "        if (i + 1) % step == 0 or (i + 1) == len(df):\n",
    "            print(f\"Processed {i + 1}/{len(df)} rows\")\n",
    "    df[new_column] = result\n",
    "    return df\n",
    "\n",
    "df = apply_with_progress(df, preprocessing, 'full_text', 'text_processed')\n",
    "df.head()\n"
   ]
  },
  {
   "cell_type": "code",
   "execution_count": null,
   "id": "648d8083",
   "metadata": {},
   "outputs": [
    {
     "name": "stderr",
     "output_type": "stream",
     "text": [
      "\n",
      "KeyboardInterrupt\n",
      "\n"
     ]
    }
   ],
   "source": [
    "from collections import Counter\n",
    "import re\n",
    "\n",
    "df_copy = df.copy()\n",
    "\n",
    "text = ' '.join(df_copy['text_processed'].astype(str))\n",
    "\n",
    "words = re.findall(r'\\b\\w+\\b', text.lower())\n",
    "\n",
    "freq = Counter(words)\n",
    "\n",
    "top_50 = freq.most_common(150)\n",
    "\n",
    "for word, count in top_50:\n",
    "    print(f\"{word}: {count}\")\n"
   ]
  },
  {
   "cell_type": "code",
   "execution_count": 28,
   "id": "d977181b",
   "metadata": {},
   "outputs": [
    {
     "data": {
      "text/html": [
       "<div>\n",
       "<style scoped>\n",
       "    .dataframe tbody tr th:only-of-type {\n",
       "        vertical-align: middle;\n",
       "    }\n",
       "\n",
       "    .dataframe tbody tr th {\n",
       "        vertical-align: top;\n",
       "    }\n",
       "\n",
       "    .dataframe thead th {\n",
       "        text-align: right;\n",
       "    }\n",
       "</style>\n",
       "<table border=\"1\" class=\"dataframe\">\n",
       "  <thead>\n",
       "    <tr style=\"text-align: right;\">\n",
       "      <th></th>\n",
       "      <th>conversation_id_str</th>\n",
       "      <th>created_at</th>\n",
       "      <th>favorite_count</th>\n",
       "      <th>full_text</th>\n",
       "      <th>id_str</th>\n",
       "      <th>image_url</th>\n",
       "      <th>in_reply_to_screen_name</th>\n",
       "      <th>lang</th>\n",
       "      <th>location</th>\n",
       "      <th>quote_count</th>\n",
       "      <th>reply_count</th>\n",
       "      <th>retweet_count</th>\n",
       "      <th>tweet_url</th>\n",
       "      <th>user_id_str</th>\n",
       "      <th>username</th>\n",
       "      <th>label</th>\n",
       "      <th>text_processed1</th>\n",
       "    </tr>\n",
       "  </thead>\n",
       "  <tbody>\n",
       "    <tr>\n",
       "      <th>3191</th>\n",
       "      <td>1909017807389679969</td>\n",
       "      <td>Sun Apr 06 23:09:33 +0000 2025</td>\n",
       "      <td>0</td>\n",
       "      <td>@_arhakim27 Menurut analisis kinerja Prabowo-Gibran sejak Oktober 2024 hingga kini bercampur. Pertumbuhan ekonomi stabil di 5% di bawah target 8% tapi program makan gratis jadi sorotan positif meski ada kekhawatiran soal perencanaan dan keberlanjutan. Publik puas (72 5% di 100 hari</td>\n",
       "      <td>1909020682937065661</td>\n",
       "      <td>NaN</td>\n",
       "      <td>_arhakim27</td>\n",
       "      <td>in</td>\n",
       "      <td>NaN</td>\n",
       "      <td>0</td>\n",
       "      <td>0</td>\n",
       "      <td>0</td>\n",
       "      <td>https://x.com/undefined/status/1909020682937065661</td>\n",
       "      <td>1720665183188922368</td>\n",
       "      <td>NaN</td>\n",
       "      <td>campur</td>\n",
       "      <td>analisis kerja prabowo gibran oktober campur tumbuh ekonomi stabil target program makan gratis sorot positif khawatir rencana lanjut publik puas</td>\n",
       "    </tr>\n",
       "  </tbody>\n",
       "</table>\n",
       "</div>"
      ],
      "text/plain": [
       "      conversation_id_str                      created_at  favorite_count  \\\n",
       "3191  1909017807389679969  Sun Apr 06 23:09:33 +0000 2025               0   \n",
       "\n",
       "                                                                                                                                                                                                                                                                                       full_text  \\\n",
       "3191  @_arhakim27 Menurut analisis kinerja Prabowo-Gibran sejak Oktober 2024 hingga kini bercampur. Pertumbuhan ekonomi stabil di 5% di bawah target 8% tapi program makan gratis jadi sorotan positif meski ada kekhawatiran soal perencanaan dan keberlanjutan. Publik puas (72 5% di 100 hari   \n",
       "\n",
       "                   id_str image_url in_reply_to_screen_name lang  location  \\\n",
       "3191  1909020682937065661       NaN              _arhakim27   in       NaN   \n",
       "\n",
       "      quote_count  reply_count  retweet_count  \\\n",
       "3191            0            0              0   \n",
       "\n",
       "                                               tweet_url          user_id_str  \\\n",
       "3191  https://x.com/undefined/status/1909020682937065661  1720665183188922368   \n",
       "\n",
       "     username   label  \\\n",
       "3191      NaN  campur   \n",
       "\n",
       "                                                                                                                                       text_processed1  \n",
       "3191  analisis kerja prabowo gibran oktober campur tumbuh ekonomi stabil target program makan gratis sorot positif khawatir rencana lanjut publik puas  "
      ]
     },
     "execution_count": 28,
     "metadata": {},
     "output_type": "execute_result"
    }
   ],
   "source": [
    "df[df['label'] == 'campur']"
   ]
  },
  {
   "cell_type": "code",
   "execution_count": 34,
   "id": "b8f21f08",
   "metadata": {},
   "outputs": [
    {
     "name": "stdout",
     "output_type": "stream",
     "text": [
      "<class 'pandas.core.frame.DataFrame'>\n",
      "RangeIndex: 7344 entries, 0 to 7343\n",
      "Data columns (total 18 columns):\n",
      " #   Column                   Non-Null Count  Dtype  \n",
      "---  ------                   --------------  -----  \n",
      " 0   conversation_id_str      7344 non-null   int64  \n",
      " 1   created_at               7344 non-null   object \n",
      " 2   favorite_count           7344 non-null   int64  \n",
      " 3   full_text                7344 non-null   object \n",
      " 4   id_str                   7344 non-null   int64  \n",
      " 5   image_url                1884 non-null   object \n",
      " 6   in_reply_to_screen_name  3803 non-null   object \n",
      " 7   lang                     7344 non-null   object \n",
      " 8   location                 0 non-null      float64\n",
      " 9   quote_count              7344 non-null   int64  \n",
      " 10  reply_count              7344 non-null   int64  \n",
      " 11  retweet_count            7344 non-null   int64  \n",
      " 12  tweet_url                7344 non-null   object \n",
      " 13  user_id_str              7344 non-null   int64  \n",
      " 14  username                 2629 non-null   object \n",
      " 15  label                    7344 non-null   object \n",
      " 16  text_processed           7342 non-null   object \n",
      " 17  label_num                7344 non-null   int64  \n",
      "dtypes: float64(1), int64(8), object(9)\n",
      "memory usage: 1.0+ MB\n"
     ]
    }
   ],
   "source": [
    "df = df.rename(columns={'text_processed1': 'text_processed'})\n",
    "df.info()"
   ]
  },
  {
   "cell_type": "code",
   "execution_count": 30,
   "id": "bb110c56",
   "metadata": {},
   "outputs": [],
   "source": [
    "df.loc[df['label'] == 'campur', 'label'] = 'positif'\n"
   ]
  },
  {
   "cell_type": "code",
   "execution_count": null,
   "id": "b6aed290",
   "metadata": {},
   "outputs": [
    {
     "name": "stdout",
     "output_type": "stream",
     "text": [
      "<class 'pandas.core.frame.DataFrame'>\n",
      "RangeIndex: 7344 entries, 0 to 7343\n",
      "Data columns (total 18 columns):\n",
      " #   Column                   Non-Null Count  Dtype  \n",
      "---  ------                   --------------  -----  \n",
      " 0   conversation_id_str      7344 non-null   int64  \n",
      " 1   created_at               7344 non-null   object \n",
      " 2   favorite_count           7344 non-null   int64  \n",
      " 3   full_text                7344 non-null   object \n",
      " 4   id_str                   7344 non-null   int64  \n",
      " 5   image_url                1884 non-null   object \n",
      " 6   in_reply_to_screen_name  3803 non-null   object \n",
      " 7   lang                     7344 non-null   object \n",
      " 8   location                 0 non-null      float64\n",
      " 9   quote_count              7344 non-null   int64  \n",
      " 10  reply_count              7344 non-null   int64  \n",
      " 11  retweet_count            7344 non-null   int64  \n",
      " 12  tweet_url                7344 non-null   object \n",
      " 13  user_id_str              7344 non-null   int64  \n",
      " 14  username                 2629 non-null   object \n",
      " 15  label                    7344 non-null   object \n",
      " 16  text_processed           7342 non-null   object \n",
      " 17  label_num                7344 non-null   int64  \n",
      "dtypes: float64(1), int64(8), object(9)\n",
      "memory usage: 1.0+ MB\n"
     ]
    }
   ],
   "source": [
    "import pandas as pd\n",
    "\n",
    "df['label_num'] = df['label'].replace({'netral' : 0, 'positif' : 1, 'negatif' : 2})\n",
    "df.info()"
   ]
  },
  {
   "cell_type": "code",
   "execution_count": 32,
   "id": "83480088",
   "metadata": {},
   "outputs": [
    {
     "data": {
      "text/plain": [
       "label_num\n",
       "1    2857\n",
       "2    2843\n",
       "0    1644\n",
       "Name: count, dtype: int64"
      ]
     },
     "execution_count": 32,
     "metadata": {},
     "output_type": "execute_result"
    }
   ],
   "source": [
    "df['label_num'].value_counts()"
   ]
  },
  {
   "cell_type": "code",
   "execution_count": 35,
   "id": "7d98783e",
   "metadata": {},
   "outputs": [],
   "source": [
    "df = df.dropna(subset=['text_processed'])"
   ]
  },
  {
   "cell_type": "code",
   "execution_count": null,
   "id": "5e1fcdc1",
   "metadata": {},
   "outputs": [
    {
     "name": "stdout",
     "output_type": "stream",
     "text": [
      "Jumlah kata unik: 8794\n",
      "MAX_WORDS yang digunakan: 8794\n"
     ]
    }
   ],
   "source": [
    "from tensorflow.keras.preprocessing.text import Tokenizer\n",
    "from tensorflow.keras.preprocessing.sequence import pad_sequences\n",
    "import numpy as np\n",
    "import matplotlib.pyplot as plt\n",
    "\n",
    "tokenizer = Tokenizer()\n",
    "tokenizer.fit_on_texts(df['text_processed'])\n",
    "\n",
    "total_kata_unik = len(tokenizer.word_index)\n",
    "print(\"Jumlah kata unik:\", total_kata_unik)\n",
    "\n",
    "if total_kata_unik > 20000:\n",
    "    MAX_WORDS = 15000\n",
    "elif total_kata_unik > 10000:\n",
    "    MAX_WORDS = total_kata_unik\n",
    "else:\n",
    "    MAX_WORDS = total_kata_unik\n",
    "\n",
    "print(\"MAX_WORDS yang digunakan:\", MAX_WORDS)"
   ]
  },
  {
   "cell_type": "code",
   "execution_count": null,
   "id": "8d35aae2",
   "metadata": {},
   "outputs": [
    {
     "data": {
      "image/png": "[encoded data removed]",
      "text/plain": [
       "<Figure size 640x480 with 1 Axes>"
      ]
     },
     "metadata": {},
     "output_type": "display_data"
    },
    {
     "name": "stdout",
     "output_type": "stream",
     "text": [
      "MAX_LEN (persentil 95): 36\n"
     ]
    }
   ],
   "source": [
    "sequences = tokenizer.texts_to_sequences(df['text_processed'])\n",
    "panjang_kalimat = [len(seq) for seq in sequences]\n",
    "\n",
    "plt.hist(panjang_kalimat, bins=50)\n",
    "plt.title('Distribusi Panjang Kalimat')\n",
    "plt.xlabel('Jumlah Kata')\n",
    "plt.ylabel('Jumlah Teks')\n",
    "plt.show()\n",
    "\n",
    "MAX_LEN = int(np.percentile(panjang_kalimat, 100))\n",
    "print(\"panjang max kalimat:\", MAX_LEN)"
   ]
  },
  {
   "cell_type": "code",
   "execution_count": null,
   "id": "06da5b6b",
   "metadata": {},
   "outputs": [],
   "source": [
    "tokenizer = Tokenizer(num_words=MAX_WORDS, oov_token=\"<OOV>\")\n",
    "tokenizer.fit_on_texts(df['text_processed'])\n",
    "sequences = tokenizer.texts_to_sequences(df['text_processed'])\n",
    "\n",
    "padded = pad_sequences(sequences, maxlen=MAX_LEN, padding='post', truncating='post')"
   ]
  },
  {
   "cell_type": "code",
   "execution_count": 39,
   "id": "a7d17ccb",
   "metadata": {},
   "outputs": [
    {
     "data": {
      "text/plain": [
       "label_num\n",
       "1    2857\n",
       "2    2843\n",
       "0    1642\n",
       "Name: count, dtype: int64"
      ]
     },
     "execution_count": 39,
     "metadata": {},
     "output_type": "execute_result"
    }
   ],
   "source": [
    "df['label_num'].value_counts()"
   ]
  },
  {
   "cell_type": "code",
   "execution_count": 40,
   "id": "ddea4679",
   "metadata": {},
   "outputs": [
    {
     "data": {
      "text/plain": [
       "(label_num\n",
       " 1    2000\n",
       " 2    1990\n",
       " 0    1149\n",
       " Name: count, dtype: int64,\n",
       " label_num\n",
       " 1    857\n",
       " 2    853\n",
       " 0    493\n",
       " Name: count, dtype: int64)"
      ]
     },
     "execution_count": 40,
     "metadata": {},
     "output_type": "execute_result"
    }
   ],
   "source": [
    "X_train, X_test, y_train, y_test = train_test_split(\n",
    "    padded, df['label_num'], test_size=0.3, random_state=42, stratify=df['label_num']\n",
    ")\n",
    "y_train.value_counts(), y_test.value_counts()"
   ]
  },
  {
   "cell_type": "markdown",
   "id": "7f8e0c8c",
   "metadata": {},
   "source": [
    "# Model Architecture Definition"
   ]
  },
  {
   "cell_type": "markdown",
   "id": "9966967b",
   "metadata": {},
   "source": [
    "# Training Model"
   ]
  },
  {
   "cell_type": "code",
   "execution_count": 41,
   "id": "2c1e976c",
   "metadata": {},
   "outputs": [
    {
     "name": "stdout",
     "output_type": "stream",
     "text": [
      "(array([0, 1, 2], dtype=int64), array([1149, 2000, 1990], dtype=int64))\n"
     ]
    }
   ],
   "source": [
    "import numpy as np\n",
    "print(np.unique(y_train, return_counts=True))  # Cek distribusi kelas"
   ]
  },
  {
   "cell_type": "code",
   "execution_count": 42,
   "id": "54f15ff8",
   "metadata": {},
   "outputs": [
    {
     "data": {
      "text/plain": [
       "{0: 1.4908616187989556, 1: 0.8565, 2: 0.8608040201005025}"
      ]
     },
     "execution_count": 42,
     "metadata": {},
     "output_type": "execute_result"
    }
   ],
   "source": [
    "from sklearn.utils.class_weight import compute_class_weight\n",
    "class_weights = compute_class_weight('balanced', classes=np.unique(y_train), y=y_train)\n",
    "class_weights = dict(enumerate(class_weights))\n",
    "class_weights"
   ]
  },
  {
   "cell_type": "code",
   "execution_count": null,
   "id": "b874b0e2",
   "metadata": {},
   "outputs": [],
   "source": [
    "import numpy as np\n",
    "from gensim.models import KeyedVectors\n",
    "\n",
    "fasttext_model = KeyedVectors.load_word2vec_format('cc.id.300.vec', limit=50000)  # optional limit\n",
    "\n",
    "embedding_dim = 300\n",
    "embedding_matrix = np.zeros((MAX_WORDS, embedding_dim))\n",
    "\n",
    "for word, i in tokenizer.word_index.items():\n",
    "    if i < MAX_WORDS:\n",
    "        if word in fasttext_model:\n",
    "            embedding_matrix[i] = fasttext_model[word]\n",
    "        else:\n",
    "            embedding_matrix[i] = np.random.normal(0, 0.1, embedding_dim)  # fallback\n"
   ]
  },
  {
   "cell_type": "code",
   "execution_count": 44,
   "id": "44d628d4",
   "metadata": {},
   "outputs": [
    {
     "name": "stdout",
     "output_type": "stream",
     "text": [
      "Epoch 1/100\n",
      "161/161 [==============================] - ETA: 0s - loss: 18.3419 - accuracy: 0.6877\n",
      "Epoch 1: val_loss improved from inf to 2.23142, saving model to models\\best_model_BILSTM.h5\n",
      "161/161 [==============================] - 47s 158ms/step - loss: 18.3419 - accuracy: 0.6877 - val_loss: 2.2314 - val_accuracy: 0.6468 - lr: 0.0010\n",
      "Epoch 2/100\n",
      "161/161 [==============================] - ETA: 0s - loss: 1.0433 - accuracy: 0.8116\n",
      "Epoch 2: val_loss improved from 2.23142 to 1.09257, saving model to models\\best_model_BILSTM.h5\n",
      "161/161 [==============================] - 22s 137ms/step - loss: 1.0433 - accuracy: 0.8116 - val_loss: 1.0926 - val_accuracy: 0.6818 - lr: 0.0010\n",
      "Epoch 3/100\n",
      "161/161 [==============================] - ETA: 0s - loss: 0.6265 - accuracy: 0.8445\n",
      "Epoch 3: val_loss improved from 1.09257 to 0.66469, saving model to models\\best_model_BILSTM.h5\n",
      "161/161 [==============================] - 22s 136ms/step - loss: 0.6265 - accuracy: 0.8445 - val_loss: 0.6647 - val_accuracy: 0.8189 - lr: 0.0010\n",
      "Epoch 4/100\n",
      "161/161 [==============================] - ETA: 0s - loss: 0.5315 - accuracy: 0.8694\n",
      "Epoch 4: val_loss did not improve from 0.66469\n",
      "161/161 [==============================] - 23s 141ms/step - loss: 0.5315 - accuracy: 0.8694 - val_loss: 0.8166 - val_accuracy: 0.7885 - lr: 0.0010\n",
      "Epoch 5/100\n",
      "161/161 [==============================] - ETA: 0s - loss: 0.4660 - accuracy: 0.8891\n",
      "Epoch 5: val_loss did not improve from 0.66469\n",
      "161/161 [==============================] - 48s 299ms/step - loss: 0.4660 - accuracy: 0.8891 - val_loss: 0.7930 - val_accuracy: 0.7817 - lr: 0.0010\n",
      "Epoch 6/100\n",
      "161/161 [==============================] - ETA: 0s - loss: 0.4431 - accuracy: 0.8982\n",
      "Epoch 6: val_loss did not improve from 0.66469\n",
      "\n",
      "Epoch 6: ReduceLROnPlateau reducing learning rate to 0.00020000000949949026.\n",
      "161/161 [==============================] - 40s 248ms/step - loss: 0.4431 - accuracy: 0.8982 - val_loss: 0.6949 - val_accuracy: 0.8003 - lr: 0.0010\n",
      "Epoch 7/100\n",
      "161/161 [==============================] - ETA: 0s - loss: 0.2838 - accuracy: 0.9321\n",
      "Epoch 7: val_loss improved from 0.66469 to 0.53133, saving model to models\\best_model_BILSTM.h5\n",
      "161/161 [==============================] - 37s 229ms/step - loss: 0.2838 - accuracy: 0.9321 - val_loss: 0.5313 - val_accuracy: 0.8198 - lr: 2.0000e-04\n",
      "Epoch 8/100\n",
      "161/161 [==============================] - ETA: 0s - loss: 0.2186 - accuracy: 0.9484\n",
      "Epoch 8: val_loss did not improve from 0.53133\n",
      "161/161 [==============================] - 38s 233ms/step - loss: 0.2186 - accuracy: 0.9484 - val_loss: 0.5516 - val_accuracy: 0.8257 - lr: 2.0000e-04\n",
      "Epoch 9/100\n",
      "161/161 [==============================] - ETA: 0s - loss: 0.1908 - accuracy: 0.9535\n",
      "Epoch 9: val_loss did not improve from 0.53133\n",
      "161/161 [==============================] - 40s 250ms/step - loss: 0.1908 - accuracy: 0.9535 - val_loss: 0.5765 - val_accuracy: 0.8175 - lr: 2.0000e-04\n",
      "Epoch 10/100\n",
      "161/161 [==============================] - ETA: 0s - loss: 0.1810 - accuracy: 0.9574\n",
      "Epoch 10: val_loss did not improve from 0.53133\n",
      "\n",
      "Epoch 10: ReduceLROnPlateau reducing learning rate to 4.0000001899898055e-05.\n",
      "161/161 [==============================] - 40s 249ms/step - loss: 0.1810 - accuracy: 0.9574 - val_loss: 0.6841 - val_accuracy: 0.8030 - lr: 2.0000e-04\n",
      "Epoch 11/100\n",
      "161/161 [==============================] - ETA: 0s - loss: 0.1454 - accuracy: 0.9675\n",
      "Epoch 11: val_loss did not improve from 0.53133\n",
      "161/161 [==============================] - 35s 217ms/step - loss: 0.1454 - accuracy: 0.9675 - val_loss: 0.6373 - val_accuracy: 0.8184 - lr: 4.0000e-05\n",
      "Epoch 12/100\n",
      "161/161 [==============================] - ETA: 0s - loss: 0.1293 - accuracy: 0.9726\n",
      "Epoch 12: val_loss did not improve from 0.53133\n",
      "161/161 [==============================] - 40s 251ms/step - loss: 0.1293 - accuracy: 0.9726 - val_loss: 0.6557 - val_accuracy: 0.8139 - lr: 4.0000e-05\n",
      "Epoch 13/100\n",
      "161/161 [==============================] - ETA: 0s - loss: 0.1296 - accuracy: 0.9700\n",
      "Epoch 13: val_loss did not improve from 0.53133\n",
      "\n",
      "Epoch 13: ReduceLROnPlateau reducing learning rate to 8.000000525498762e-06.\n",
      "161/161 [==============================] - 37s 229ms/step - loss: 0.1296 - accuracy: 0.9700 - val_loss: 0.6704 - val_accuracy: 0.8153 - lr: 4.0000e-05\n",
      "Epoch 14/100\n",
      "161/161 [==============================] - ETA: 0s - loss: 0.1216 - accuracy: 0.9735\n",
      "Epoch 14: val_loss did not improve from 0.53133\n",
      "161/161 [==============================] - 32s 198ms/step - loss: 0.1216 - accuracy: 0.9735 - val_loss: 0.6832 - val_accuracy: 0.8143 - lr: 8.0000e-06\n",
      "Epoch 15/100\n",
      "161/161 [==============================] - ETA: 0s - loss: 0.1092 - accuracy: 0.9766\n",
      "Epoch 15: val_loss did not improve from 0.53133\n",
      "161/161 [==============================] - 27s 165ms/step - loss: 0.1092 - accuracy: 0.9766 - val_loss: 0.6816 - val_accuracy: 0.8134 - lr: 8.0000e-06\n",
      "Epoch 16/100\n",
      "161/161 [==============================] - ETA: 0s - loss: 0.1108 - accuracy: 0.9765\n",
      "Epoch 16: val_loss did not improve from 0.53133\n",
      "\n",
      "Epoch 16: ReduceLROnPlateau reducing learning rate to 1.6000001778593287e-06.\n",
      "161/161 [==============================] - 27s 165ms/step - loss: 0.1108 - accuracy: 0.9765 - val_loss: 0.6937 - val_accuracy: 0.8125 - lr: 8.0000e-06\n",
      "Epoch 17/100\n",
      "161/161 [==============================] - ETA: 0s - loss: 0.1134 - accuracy: 0.9749\n",
      "Epoch 17: val_loss did not improve from 0.53133\n",
      "161/161 [==============================] - 27s 166ms/step - loss: 0.1134 - accuracy: 0.9749 - val_loss: 0.6876 - val_accuracy: 0.8130 - lr: 1.6000e-06\n"
     ]
    }
   ],
   "source": [
    "# 1\n",
    "\n",
    "from keras.layers import Embedding, LSTM, Dense, Dropout, GRU\n",
    "from keras.models import Sequential\n",
    "from keras.layers import Input, Dense, Dropout, LSTM, Bidirectional  \n",
    "from keras import regularizers  \n",
    "from keras.optimizers import Adam, RMSprop, SGD\n",
    "from tensorflow.keras.metrics import Recall, Precision\n",
    "from keras.layers import BatchNormalization\n",
    "from keras.callbacks import EarlyStopping, ModelCheckpoint, ReduceLROnPlateau\n",
    "\n",
    "\n",
    "model = Sequential()\n",
    "model.add(Embedding(\n",
    "    input_dim=MAX_WORDS,\n",
    "    output_dim=embedding_dim,\n",
    "    input_length=MAX_LEN,\n",
    "    weights=[embedding_matrix],\n",
    "    trainable=True\n",
    "))\n",
    "model.add(BatchNormalization())\n",
    "model.add(Bidirectional(LSTM(64, return_sequences=True, kernel_regularizer=regularizers.l2(0.1))))\n",
    "model.add(Dropout(0.5))\n",
    "model.add(BatchNormalization())\n",
    "\n",
    "model.add(Bidirectional(LSTM(32, kernel_regularizer=regularizers.l2(0.1))))\n",
    "model.add(Dropout(0.5))\n",
    "model.add(BatchNormalization())\n",
    "\n",
    "# Output layer\n",
    "model.add(Dense(3, activation='softmax'))\n",
    "\n",
    "model.compile(\n",
    "    loss='sparse_categorical_crossentropy',\n",
    "    optimizer= RMSprop(learning_rate=0.001),\n",
    "    metrics=['accuracy']\n",
    ")\n",
    "\n",
    "reduce_lr = ReduceLROnPlateau(\n",
    "    monitor='val_loss',\n",
    "    factor=0.2,\n",
    "    patience=3,\n",
    "    min_lr=1e-6,\n",
    "    verbose=1\n",
    ")\n",
    "\n",
    "# Callback ModelCheckpoint\n",
    "model_checkpoint = ModelCheckpoint(\n",
    "    filepath='models/best_model_BILSTM.h5',         \n",
    "    monitor='val_loss',               \n",
    "    save_best_only=True,             \n",
    "    mode='min',                      \n",
    "    verbose=1                       \n",
    ")\n",
    "\n",
    "# Callback EarlyStopping\n",
    "early_stopping = EarlyStopping(\n",
    "    monitor='val_loss',\n",
    "    patience=10,  \n",
    "    restore_best_weights=True\n",
    ")\n",
    "history = model.fit(\n",
    "    X_train,\n",
    "    y_train,\n",
    "    epochs=100,\n",
    "    validation_data=(X_test, y_test),\n",
    "    batch_size=32,\n",
    "    callbacks=[early_stopping, model_checkpoint, reduce_lr],\n",
    "    class_weight=class_weights  \n",
    ")"
   ]
  },
  {
   "cell_type": "code",
   "execution_count": null,
   "id": "d82771eb",
   "metadata": {},
   "outputs": [
    {
     "data": {
      "image/png": "[encoded data removed]",
      "text/plain": [
       "<Figure size 1200x500 with 2 Axes>"
      ]
     },
     "metadata": {},
     "output_type": "display_data"
    }
   ],
   "source": [
    "import matplotlib.pyplot as plt\n",
    "\n",
    "history_dict = history.history\n",
    "\n",
    "plt.figure(figsize=(12, 5))\n",
    "\n",
    "plt.subplot(1, 2, 1)\n",
    "plt.plot(history_dict['accuracy'], label='Train Accuracy')\n",
    "plt.plot(history_dict['val_accuracy'], label='Val Accuracy')\n",
    "plt.title('Akurasi Training dan Validasi')\n",
    "plt.xlabel('Epoch')\n",
    "plt.ylabel('Akurasi')\n",
    "plt.legend()\n",
    "plt.grid(True)\n",
    "\n",
    "plt.subplot(1, 2, 2)\n",
    "plt.plot(history_dict['loss'], label='Train Loss')\n",
    "plt.plot(history_dict['val_loss'], label='Val Loss')\n",
    "plt.title('Loss Training dan Validasi')\n",
    "plt.xlabel('Epoch')\n",
    "plt.ylabel('Loss')\n",
    "plt.legend()\n",
    "plt.grid(True)\n",
    "\n",
    "plt.tight_layout()\n",
    "plt.show()\n"
   ]
  },
  {
   "cell_type": "code",
   "execution_count": null,
   "id": "4b55d555",
   "metadata": {},
   "outputs": [
    {
     "name": "stdout",
     "output_type": "stream",
     "text": [
      "69/69 [==============================] - 7s 32ms/step\n"
     ]
    },
    {
     "data": {
      "image/png": "[encoded data removed]",
      "text/plain": [
       "<Figure size 800x600 with 2 Axes>"
      ]
     },
     "metadata": {},
     "output_type": "display_data"
    },
    {
     "name": "stdout",
     "output_type": "stream",
     "text": [
      "              precision    recall  f1-score   support\n",
      "\n",
      "      Netral       0.66      0.80      0.72       493\n",
      "     Positif       0.89      0.87      0.88       857\n",
      "     Negatif       0.86      0.78      0.82       853\n",
      "\n",
      "    accuracy                           0.82      2203\n",
      "   macro avg       0.81      0.82      0.81      2203\n",
      "weighted avg       0.83      0.82      0.82      2203\n",
      "\n"
     ]
    }
   ],
   "source": [
    "from keras.models import load_model\n",
    "from sklearn.metrics import confusion_matrix, classification_report\n",
    "import seaborn as sns\n",
    "import matplotlib.pyplot as plt\n",
    "import numpy as np\n",
    "\n",
    "best_model = load_model(\"models/best_model_BILSTM.h5\")\n",
    "\n",
    "y_pred_probs = best_model.predict(X_test)\n",
    "y_pred = np.argmax(y_pred_probs, axis=1)\n",
    "\n",
    "cm = confusion_matrix(y_test, y_pred)\n",
    "class_names = ['Netral', 'Positif', 'Negatif']\n",
    "\n",
    "plt.figure(figsize=(8, 6))\n",
    "sns.heatmap(cm, annot=True, fmt='d', cmap='Blues',\n",
    "            xticklabels=class_names, yticklabels=class_names)\n",
    "plt.xlabel('Predicted Labels')\n",
    "plt.ylabel('True Labels')\n",
    "plt.title('Confusion Matrix dari Best Model')\n",
    "plt.show()\n",
    "\n",
    "print(classification_report(y_test, y_pred, target_names=class_names))\n"
   ]
  },
  {
   "cell_type": "code",
   "execution_count": null,
   "id": "fa75ba73",
   "metadata": {},
   "outputs": [],
   "source": [
    "label_map = {0: \"Netral\", 1: \"Positif\", 2: \"Negatif\"}\n",
    "\n",
    "def predict_text(text):\n",
    "    clean_text = preprocessing(text)\n",
    "    sequence = tokenizer.texts_to_sequences([clean_text])\n",
    "    padded = pad_sequences(sequence, maxlen=MAX_LEN, padding='post', truncating='post')\n",
    "    prediction = best_model.predict(padded)\n",
    "    predicted_class = np.argmax(prediction)\n",
    "    \n",
    "    print(f\"Teks: {text}\")\n",
    "    print(f\"Prediksi Kelas: {predicted_class} → {label_map[predicted_class]}\")\n",
    "\n",
    "text = 'prabowo sekarang telah dilantik'\n",
    "predict_text(text)"
   ]
  }
 ],
 "metadata": {
  "kernelspec": {
   "display_name": "Python 3",
   "language": "python",
   "name": "python3"
  },
  "language_info": {
   "codemirror_mode": {
    "name": "ipython",
    "version": 3
   },
   "file_extension": ".py",
   "mimetype": "text/x-python",
   "name": "python",
   "nbconvert_exporter": "python",
   "pygments_lexer": "ipython3",
   "version": "3.8.18"
  }
 },
 "nbformat": 4,
 "nbformat_minor": 5
}
