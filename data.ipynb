{
 "cells": [
  {
   "cell_type": "code",
<<<<<<< HEAD
   "execution_count": 2,
=======
   "execution_count": 19,
>>>>>>> 9175bc88dd49777324fc852eb8f6690dab737c2f
   "id": "d022718c",
   "metadata": {},
   "outputs": [],
   "source": [
    "import pandas as pd\n",
    "\n",
    "pd.set_option('display.max_columns', None)  # Tampilkan semua kolom\n",
    "pd.set_option('display.max_rows', 100)      # Bisa disesuaikan untuk baris\n",
    "pd.set_option('display.width', None)        # Biarkan lebar layar fleksibel\n",
    "pd.set_option('display.max_colwidth', None) # Tampilkan isi kolom panjang\n"
   ]
  },
  {
   "cell_type": "code",
   "execution_count": 29,
   "id": "3120cdac",
   "metadata": {},
   "outputs": [
    {
     "name": "stdout",
     "output_type": "stream",
     "text": [
      "<class 'pandas.core.frame.DataFrame'>\n",
      "RangeIndex: 1000 entries, 0 to 999\n",
      "Data columns (total 2 columns):\n",
      " #   Column  Non-Null Count  Dtype \n",
      "---  ------  --------------  ----- \n",
      " 0   text    1000 non-null   object\n",
      " 1   label   1000 non-null   object\n",
      "dtypes: object(2)\n",
      "memory usage: 15.8+ KB\n"
     ]
    }
   ],
   "source": [
    "import pandas as pd\n",
    "import itertools\n",
    "import random\n",
    "\n",
    "# Daftar kata yang dibutuhkan\n",
    "actions = [\n",
    "    \"berjuang keras\",\n",
    "    \"mendorong perubahan\",\n",
    "    \"memajukan teknologi\",\n",
    "    \"menguatkan sistem\",\n",
    "    \"mengembangkan infrastruktur\",\n",
    "    \"meningkatkan pelayanan publik\",\n",
    "    \"memperkuat ketahanan nasional\",\n",
    "    \"mereformasi birokrasi\",\n",
    "    \"mewujudkan pemerintahan bersih\",\n",
    "    \"menggalakkan inovasi daerah\",\n",
    "    \"mengembangkan sektor strategis\",\n",
    "    \"memperluas akses pendidikan\",\n",
    "    \"mengentaskan kemiskinan\",\n",
    "    \"meningkatkan produktivitas nasional\",\n",
    "    \"mempercepat transformasi digital\",\n",
    "    \"mengembangkan potensi anak muda\",\n",
    "    \"meningkatkan kualitas kesehatan\",\n",
    "    \"memperkuat diplomasi internasional\",\n",
    "    \"menegakkan keadilan sosial\",\n",
    "    \"mengoptimalkan sumber daya alam\"\n",
    "]\n",
    "fields = [\n",
    "    \"ekonomi\",\n",
    "    \"pendidikan\",\n",
    "    \"kesehatan\",\n",
    "    \"pertanian\",\n",
    "    \"energi terbarukan\",\n",
    "    \"infrastruktur\",\n",
    "    \"transportasi\",\n",
    "    \"pariwisata\",\n",
    "    \"lingkungan hidup\",\n",
    "    \"digitalisasi pemerintahan\",\n",
    "    \"perdagangan\",\n",
    "    \"industri kreatif\",\n",
    "    \"ketahanan pangan\",\n",
    "    \"maritim\",\n",
    "    \"keamanan nasional\",\n",
    "    \"keuangan negara\",\n",
    "    \"riset dan inovasi\",\n",
    "    \"pelayanan publik\",\n",
    "    \"ketenagakerjaan\",\n",
    "    \"teknologi informasi\"\n",
    "]\n",
    "verbs = [\n",
    "    \"berinovasi\",\n",
    "    \"berkolaborasi\",\n",
    "    \"mengambil keputusan strategis\",\n",
    "    \"memfokuskan diri\",\n",
    "    \"mengoptimalkan sumber daya\",\n",
    "    \"membangun sinergi\",\n",
    "    \"menggerakkan perubahan\",\n",
    "    \"memimpin dengan bijaksana\",\n",
    "    \"menjawab tantangan global\",\n",
    "    \"mendorong transformasi\",\n",
    "    \"merancang kebijakan efektif\",\n",
    "    \"mengatasi hambatan struktural\",\n",
    "    \"menyatukan berbagai pihak\",\n",
    "    \"mengimplementasikan solusi konkret\",\n",
    "    \"memimpin dengan keberanian\"\n",
    "]\n",
    "sectors = [\n",
    "    \"pertahanan\",\n",
    "    \"pendidikan\",\n",
    "    \"kesehatan masyarakat\",\n",
    "    \"infrastruktur\",\n",
    "    \"teknologi\",\n",
    "    \"sosial\",\n",
    "    \"ekonomi kreatif\",\n",
    "    \"kelautan dan perikanan\",\n",
    "    \"energi\",\n",
    "    \"lingkungan hidup\",\n",
    "    \"perhubungan\",\n",
    "    \"perdagangan internasional\",\n",
    "    \"pertanian dan pangan\",\n",
    "    \"keamanan digital\",\n",
    "    \"ketenagakerjaan\"\n",
    "]\n",
    "aspects = [\n",
    "    \"kesejahteraan rakyat\",\n",
    "    \"pelayanan publik\",\n",
    "    \"stabilitas politik\",\n",
    "    \"pertumbuhan ekonomi\",\n",
    "    \"kualitas pendidikan\",\n",
    "    \"pengembangan teknologi\",\n",
    "    \"keamanan nasional\",\n",
    "    \"ketersediaan lapangan kerja\",\n",
    "    \"pemerataan pembangunan\",\n",
    "    \"transparansi anggaran\",\n",
    "    \"perlindungan sosial\",\n",
    "    \"keadilan hukum\",\n",
    "    \"keberlanjutan lingkungan\",\n",
    "    \"daya saing global\",\n",
    "    \"efisiensi birokrasi\"\n",
    "]\n",
    "topics = [\n",
    "    \"kemajuan teknologi\",\n",
    "    \"pemberdayaan masyarakat\",\n",
    "    \"stabilitas politik\",\n",
    "    \"pembangunan berkelanjutan\",\n",
    "    \"kedaulatan bangsa\",\n",
    "    \"inovasi pendidikan\",\n",
    "    \"ketahanan energi\",\n",
    "    \"transformasi digital\",\n",
    "    \"keamanan siber\",\n",
    "    \"revolusi industri 4.0\",\n",
    "    \"kemandirian ekonomi\",\n",
    "    \"penguatan diplomasi\",\n",
    "    \"peningkatan kualitas hidup\",\n",
    "    \"pengembangan SDM\",\n",
    "    \"akses layanan publik\"\n",
    "]\n",
    "results = [\n",
    "    \"mencapai kemajuan signifikan\",\n",
    "    \"menghasilkan perubahan besar\",\n",
    "    \"mempercepat pembangunan\",\n",
    "    \"meningkatkan daya saing\",\n",
    "    \"menguatkan posisi Indonesia\",\n",
    "    \"mendorong inovasi baru\",\n",
    "    \"memperluas akses publik\",\n",
    "    \"mengurangi angka kemiskinan\",\n",
    "    \"meningkatkan kepuasan masyarakat\",\n",
    "    \"membangun kepercayaan rakyat\",\n",
    "    \"meningkatkan kesejahteraan\",\n",
    "    \"memperkokoh persatuan nasional\",\n",
    "    \"menumbuhkan sektor strategis\",\n",
    "    \"mendorong pertumbuhan ekonomi inklusif\",\n",
    "    \"memperkuat ketahanan nasional\"\n",
    "]\n",
    "issues = [\n",
    "    \"kemiskinan\",\n",
    "    \"pengangguran\",\n",
    "    \"akses pendidikan\",\n",
    "    \"ketimpangan sosial\",\n",
    "    \"perubahan iklim\",\n",
    "    \"kesehatan masyarakat\",\n",
    "    \"krisis energi\",\n",
    "    \"inflasi\",\n",
    "    \"kesenjangan digital\",\n",
    "    \"kerusakan lingkungan\",\n",
    "    \"kekerasan sosial\",\n",
    "    \"akses layanan publik\",\n",
    "    \"ketidakmerataan pembangunan\",\n",
    "    \"korupsi birokrasi\",\n",
    "    \"keterbatasan infrastruktur\"\n",
    "]\n",
    "qualities = [\n",
    "    \"tegas\",\n",
    "    \"visioner\",\n",
    "    \"berintegritas\",\n",
    "    \"bijaksana\",\n",
    "    \"berkomitmen\",\n",
    "    \"inovatif\",\n",
    "    \"rendah hati\",\n",
    "    \"karismatik\",\n",
    "    \"berorientasi hasil\",\n",
    "    \"berani mengambil risiko\",\n",
    "    \"adil\",\n",
    "    \"berempati tinggi\",\n",
    "    \"peduli rakyat\",\n",
    "    \"disiplin\",\n",
    "    \"strategis\"\n",
    "]\n",
    "\n",
    "# Template kalimat\n",
    "templates = [\n",
    "    \"Presiden Prabowo {action} untuk kemajuan bangsa dan negara.\",\n",
    "    \"Kebijakan Prabowo dalam bidang {field} sangat berdampak positif.\",\n",
    "    \"Prabowo terus {verb} demi kesejahteraan rakyat Indonesia.\",\n",
    "    \"Kepemimpinan Presiden Prabowo dalam {sector} sangat diapresiasi.\",\n",
    "    \"Prabowo menunjukkan dedikasi tinggi dalam meningkatkan {aspect}.\",\n",
    "    \"Visi Prabowo tentang {topic} membawa harapan baru.\",\n",
    "    \"Presiden Prabowo berhasil {result} di sektor {sector}.\",\n",
    "    \"Langkah Prabowo dalam {action} memperkuat perekonomian nasional.\",\n",
    "    \"Prabowo sangat peduli dengan isu {issue} di masyarakat.\",\n",
    "    \"Presiden Prabowo dikenal dengan sikapnya yang {quality} dan tegas.\"\n",
    "    \"Rakyat merasakan langsung manfaat program Prabowo di bidang {field}.\",\n",
    "    \"Kinerja Presiden Prabowo dalam bidang {sector} patut diapresiasi.\",\n",
    "    \"Komitmen Prabowo terhadap {aspect} tidak diragukan lagi.\",\n",
    "    \"Program unggulan Prabowo dalam {topic} sangat membantu masyarakat.\",\n",
    "    \"Presiden Prabowo menginspirasi dengan kebijakan {topic}-nya.\",\n",
    "    \"Presiden Prabowo memiliki visi jelas tentang {aspect}.\",\n",
    "    \"Prabowo berhasil mengurangi masalah {issue} melalui programnya.\",\n",
    "    \"Kepemimpinan Prabowo membawa dampak positif di bidang {sector}.\",\n",
    "    \"Prabowo menunjukkan perhatian besar terhadap {issue}.\",\n",
    "    \"Kebijakan Prabowo mendukung kemajuan {field} secara signifikan.\",\n",
    "    \"Langkah tegas Prabowo mengatasi {issue} diapresiasi publik.\",\n",
    "    \"Prabowo sangat aktif dalam meningkatkan {aspect} di seluruh negeri.\",\n",
    "    \"Program Prabowo membantu menyelesaikan masalah {issue}.\",\n",
    "    \"Presiden Prabowo memperjuangkan akses {field} yang lebih baik.\",\n",
    "    \"Prabowo konsisten dalam membangun {aspect}.\",\n",
    "    \"Masyarakat percaya pada visi Prabowo dalam bidang {sector}.\",\n",
    "    \"Prabowo dikenal karena pendekatannya yang {quality} terhadap masalah nasional.\",\n",
    "    \"Kebijakan Prabowo di sektor {sector} memperlihatkan hasil nyata.\",\n",
    "    \"Prabowo memprioritaskan {aspect} dalam setiap kebijakannya.\",\n",
    "    \"Presiden Prabowo meningkatkan kepercayaan publik terhadap {topic}.\",\n",
    "    \"Pemerintahan Prabowo memberikan solusi nyata untuk masalah {issue}.\",\n",
    "    \"Prabowo telah membuktikan komitmennya terhadap {field}.\",\n",
    "    \"Kepemimpinan Prabowo membuat kemajuan pesat dalam sektor {sector}.\",\n",
    "    \"Presiden Prabowo bekerja keras untuk menciptakan perubahan dalam {field}.\",\n",
    "    \"Prabowo terus memberikan dorongan positif bagi {aspect}.\",\n",
    "    \"Kinerja Prabowo dalam {field} mendapatkan banyak pujian.\",\n",
    "    \"Rakyat mendukung penuh langkah-langkah Prabowo di bidang {sector}.\",\n",
    "    \"Prabowo memperlihatkan komitmen kuat terhadap pembangunan {field}.\",\n",
    "    \"Langkah strategis Prabowo berdampak besar pada {aspect}.\",\n",
    "    \"Program Prabowo membawa angin segar dalam bidang {field}.\",\n",
    "    \"Presiden Prabowo mampu memimpin dengan gaya yang {quality}.\",\n",
    "    \"Masyarakat merasakan langsung hasil program {topic} oleh Prabowo.\",\n",
    "    \"Presiden Prabowo menghadirkan solusi terhadap tantangan {issue}.\",\n",
    "    \"Prabowo terbukti mampu membawa perubahan dalam {sector}.\",\n",
    "    \"Kepemimpinan Prabowo menunjukkan hasil di bidang {field}.\",\n",
    "    \"Prabowo adalah pemimpin yang {quality} dan visioner.\",\n",
    "    \"Prabowo mampu mengangkat martabat bangsa lewat {aspect}.\",\n",
    "    \"Program Prabowo dalam {topic} menjawab kebutuhan masyarakat.\",\n",
    "    \"Presiden Prabowo menunjukkan integritas tinggi dalam memimpin.\",\n",
    "    \"Langkah kebijakan Prabowo mempercepat pembangunan {sector}.\",\n",
    "    \"Prabowo membangun masa depan bangsa dengan pendekatan {quality}.\",\n",
    "    \"Prabowo terus mendorong kemajuan dalam sektor {sector}.\",\n",
    "    \"Prabowo menunjukkan keberanian dalam menangani {issue}.\",\n",
    "    \"Keputusan Prabowo dalam {field} menuai pujian luas.\",\n",
    "    \"Presiden Prabowo adalah simbol harapan dalam bidang {aspect}.\",\n",
    "    \"Program Prabowo mencerminkan semangat {quality} bangsa.\",\n",
    "    \"Prabowo meletakkan dasar yang kuat untuk kemajuan {topic}.\",\n",
    "    \"Kebijakan Prabowo menjawab tantangan {issue} dengan bijak.\",\n",
    "    \"Pemerintah Prabowo berhasil membawa perubahan di bidang {field}.\",\n",
    "    \"Prabowo terus {verb} dalam mewujudkan visi pembangunan nasional.\"\n",
    "]\n",
    "\n",
    "# Kombinasi dan generate kalimat unik\n",
    "sentences = set()\n",
    "while len(sentences) < 1000:\n",
    "    template = random.choice(templates)\n",
    "    sentence = template.format(\n",
    "        action=random.choice(actions),\n",
    "        field=random.choice(fields),\n",
    "        verb=random.choice(verbs),\n",
    "        sector=random.choice(sectors),\n",
    "        aspect=random.choice(aspects),\n",
    "        topic=random.choice(topics),\n",
    "        result=random.choice(results),\n",
    "        issue=random.choice(issues),\n",
    "        quality=random.choice(qualities)\n",
    "    )\n",
    "    sentences.add(sentence)\n",
    "\n",
    "# Simpan ke DataFrame\n",
    "df = pd.DataFrame({\n",
    "    \"text\": list(sentences),\n",
    "    \"label\": [\"positive\"] * 1000\n",
    "})\n",
    "\n",
    "df.info()\n",
    "# Simpan ke CSV\n",
    "# df.to_csv(\"dataset_prabowo_positive_1000.csv\", index=False)\n",
    "# print(\"✅ Dataset berhasil disimpan sebagai 'dataset_prabowo_positive_1000.csv'\")\n"
   ]
  },
  {
   "cell_type": "code",
   "execution_count": 30,
   "id": "2ed5ebf7",
   "metadata": {},
   "outputs": [
    {
     "data": {
      "text/html": [
       "<div>\n",
       "<style scoped>\n",
       "    .dataframe tbody tr th:only-of-type {\n",
       "        vertical-align: middle;\n",
       "    }\n",
       "\n",
       "    .dataframe tbody tr th {\n",
       "        vertical-align: top;\n",
       "    }\n",
       "\n",
       "    .dataframe thead th {\n",
       "        text-align: right;\n",
       "    }\n",
       "</style>\n",
       "<table border=\"1\" class=\"dataframe\">\n",
       "  <thead>\n",
       "    <tr style=\"text-align: right;\">\n",
       "      <th></th>\n",
       "      <th>text</th>\n",
       "      <th>label</th>\n",
       "    </tr>\n",
       "  </thead>\n",
       "  <tbody>\n",
       "    <tr>\n",
       "      <th>0</th>\n",
       "      <td>Prabowo menunjukkan keberanian dalam menangani kekerasan sosial.</td>\n",
       "      <td>positive</td>\n",
       "    </tr>\n",
       "    <tr>\n",
       "      <th>1</th>\n",
       "      <td>Prabowo dikenal karena pendekatannya yang tegas terhadap masalah nasional.</td>\n",
       "      <td>positive</td>\n",
       "    </tr>\n",
       "    <tr>\n",
       "      <th>2</th>\n",
       "      <td>Kepemimpinan Prabowo menunjukkan hasil di bidang maritim.</td>\n",
       "      <td>positive</td>\n",
       "    </tr>\n",
       "    <tr>\n",
       "      <th>3</th>\n",
       "      <td>Presiden Prabowo dikenal dengan sikapnya yang visioner dan tegas.Rakyat merasakan langsung manfaat program Prabowo di bidang kesehatan.</td>\n",
       "      <td>positive</td>\n",
       "    </tr>\n",
       "    <tr>\n",
       "      <th>4</th>\n",
       "      <td>Prabowo meletakkan dasar yang kuat untuk kemajuan inovasi pendidikan.</td>\n",
       "      <td>positive</td>\n",
       "    </tr>\n",
       "  </tbody>\n",
       "</table>\n",
       "</div>"
      ],
      "text/plain": [
       "                                                                                                                                      text  \\\n",
       "0                                                                         Prabowo menunjukkan keberanian dalam menangani kekerasan sosial.   \n",
       "1                                                               Prabowo dikenal karena pendekatannya yang tegas terhadap masalah nasional.   \n",
       "2                                                                                Kepemimpinan Prabowo menunjukkan hasil di bidang maritim.   \n",
       "3  Presiden Prabowo dikenal dengan sikapnya yang visioner dan tegas.Rakyat merasakan langsung manfaat program Prabowo di bidang kesehatan.   \n",
       "4                                                                    Prabowo meletakkan dasar yang kuat untuk kemajuan inovasi pendidikan.   \n",
       "\n",
       "      label  \n",
       "0  positive  \n",
       "1  positive  \n",
       "2  positive  \n",
       "3  positive  \n",
       "4  positive  "
<<<<<<< HEAD
      ]
     },
     "execution_count": 30,
     "metadata": {},
     "output_type": "execute_result"
    }
   ],
   "source": [
    "df.head()"
   ]
  },
  {
   "cell_type": "code",
   "execution_count": 31,
   "id": "ef3131e3",
   "metadata": {},
   "outputs": [
    {
     "data": {
      "text/plain": [
       "63"
      ]
     },
     "execution_count": 31,
     "metadata": {},
     "output_type": "execute_result"
    }
   ],
   "source": [
    "(df['text'].str.contains('Rakyat merasakan langsung manfaat program Prabowo')).sum()\n"
   ]
  },
  {
   "cell_type": "code",
   "execution_count": 32,
   "id": "845f4577",
   "metadata": {},
   "outputs": [
    {
     "data": {
      "text/plain": [
       "0"
      ]
     },
     "execution_count": 32,
     "metadata": {},
     "output_type": "execute_result"
    }
   ],
   "source": [
    "df.duplicated().sum()"
   ]
  },
  {
   "cell_type": "code",
   "execution_count": 33,
   "id": "8e9acbc2",
   "metadata": {},
   "outputs": [],
   "source": [
    "df.to_csv('dataset/text/prabowo_text_positive1000.csv')"
   ]
  },
  {
   "cell_type": "code",
   "execution_count": 35,
   "id": "3aa11e63",
   "metadata": {},
   "outputs": [
    {
     "ename": "ImportError",
     "evalue": "\nAutoModelForSequenceClassification requires the PyTorch library but it was not found in your environment.\nHowever, we were able to find a TensorFlow installation. TensorFlow classes begin\nwith \"TF\", but are otherwise identically named to our PyTorch classes. This\nmeans that the TF equivalent of the class you tried to import would be \"TFAutoModelForSequenceClassification\".\nIf you want to use TensorFlow, please use TF classes instead!\n\nIf you really do want to use PyTorch please go to\nhttps://pytorch.org/get-started/locally/ and follow the instructions that\nmatch your environment.\n",
     "output_type": "error",
     "traceback": [
      "\u001b[1;31m---------------------------------------------------------------------------\u001b[0m",
      "\u001b[1;31mImportError\u001b[0m                               Traceback (most recent call last)",
      "Cell \u001b[1;32mIn[35], line 8\u001b[0m\n\u001b[0;32m      6\u001b[0m model_name \u001b[38;5;241m=\u001b[39m \u001b[38;5;124m\"\u001b[39m\u001b[38;5;124mindobenchmark/indobert-base-p1\u001b[39m\u001b[38;5;124m\"\u001b[39m  \u001b[38;5;66;03m# atau model fine-tuned\u001b[39;00m\n\u001b[0;32m      7\u001b[0m tokenizer \u001b[38;5;241m=\u001b[39m AutoTokenizer\u001b[38;5;241m.\u001b[39mfrom_pretrained(model_name)\n\u001b[1;32m----> 8\u001b[0m model \u001b[38;5;241m=\u001b[39m \u001b[43mAutoModelForSequenceClassification\u001b[49m\u001b[38;5;241;43m.\u001b[39;49m\u001b[43mfrom_pretrained\u001b[49m(\u001b[38;5;124m\"\u001b[39m\u001b[38;5;124mw11wo/indonesian-roberta-base-sentiment-classifier\u001b[39m\u001b[38;5;124m\"\u001b[39m)  \u001b[38;5;66;03m# contoh fine-tuned sentiment model\u001b[39;00m\n\u001b[0;32m     10\u001b[0m \u001b[38;5;66;03m# Buat pipeline klasifikasi\u001b[39;00m\n\u001b[0;32m     11\u001b[0m nlp \u001b[38;5;241m=\u001b[39m pipeline(\u001b[38;5;124m\"\u001b[39m\u001b[38;5;124msentiment-analysis\u001b[39m\u001b[38;5;124m\"\u001b[39m, model\u001b[38;5;241m=\u001b[39mmodel, tokenizer\u001b[38;5;241m=\u001b[39mtokenizer)\n",
      "File \u001b[1;32mc:\\Users\\akmal\\anaconda3\\envs\\keras_env\\lib\\site-packages\\transformers\\utils\\import_utils.py:1651\u001b[0m, in \u001b[0;36mDummyObject.__getattribute__\u001b[1;34m(cls, key)\u001b[0m\n\u001b[0;32m   1649\u001b[0m \u001b[38;5;28;01mif\u001b[39;00m key\u001b[38;5;241m.\u001b[39mstartswith(\u001b[38;5;124m\"\u001b[39m\u001b[38;5;124m_\u001b[39m\u001b[38;5;124m\"\u001b[39m) \u001b[38;5;129;01mand\u001b[39;00m key \u001b[38;5;241m!=\u001b[39m \u001b[38;5;124m\"\u001b[39m\u001b[38;5;124m_from_config\u001b[39m\u001b[38;5;124m\"\u001b[39m:\n\u001b[0;32m   1650\u001b[0m     \u001b[38;5;28;01mreturn\u001b[39;00m \u001b[38;5;28msuper\u001b[39m()\u001b[38;5;241m.\u001b[39m\u001b[38;5;21m__getattribute__\u001b[39m(key)\n\u001b[1;32m-> 1651\u001b[0m \u001b[43mrequires_backends\u001b[49m\u001b[43m(\u001b[49m\u001b[38;5;28;43mcls\u001b[39;49m\u001b[43m,\u001b[49m\u001b[43m \u001b[49m\u001b[38;5;28;43mcls\u001b[39;49m\u001b[38;5;241;43m.\u001b[39;49m\u001b[43m_backends\u001b[49m\u001b[43m)\u001b[49m\n",
      "File \u001b[1;32mc:\\Users\\akmal\\anaconda3\\envs\\keras_env\\lib\\site-packages\\transformers\\utils\\import_utils.py:1630\u001b[0m, in \u001b[0;36mrequires_backends\u001b[1;34m(obj, backends)\u001b[0m\n\u001b[0;32m   1628\u001b[0m \u001b[38;5;66;03m# Raise an error for users who might not realize that classes without \"TF\" are torch-only\u001b[39;00m\n\u001b[0;32m   1629\u001b[0m \u001b[38;5;28;01mif\u001b[39;00m \u001b[38;5;124m\"\u001b[39m\u001b[38;5;124mtorch\u001b[39m\u001b[38;5;124m\"\u001b[39m \u001b[38;5;129;01min\u001b[39;00m backends \u001b[38;5;129;01mand\u001b[39;00m \u001b[38;5;124m\"\u001b[39m\u001b[38;5;124mtf\u001b[39m\u001b[38;5;124m\"\u001b[39m \u001b[38;5;129;01mnot\u001b[39;00m \u001b[38;5;129;01min\u001b[39;00m backends \u001b[38;5;129;01mand\u001b[39;00m \u001b[38;5;129;01mnot\u001b[39;00m is_torch_available() \u001b[38;5;129;01mand\u001b[39;00m is_tf_available():\n\u001b[1;32m-> 1630\u001b[0m     \u001b[38;5;28;01mraise\u001b[39;00m \u001b[38;5;167;01mImportError\u001b[39;00m(PYTORCH_IMPORT_ERROR_WITH_TF\u001b[38;5;241m.\u001b[39mformat(name))\n\u001b[0;32m   1632\u001b[0m \u001b[38;5;66;03m# Raise the inverse error for PyTorch users trying to load TF classes\u001b[39;00m\n\u001b[0;32m   1633\u001b[0m \u001b[38;5;28;01mif\u001b[39;00m \u001b[38;5;124m\"\u001b[39m\u001b[38;5;124mtf\u001b[39m\u001b[38;5;124m\"\u001b[39m \u001b[38;5;129;01min\u001b[39;00m backends \u001b[38;5;129;01mand\u001b[39;00m \u001b[38;5;124m\"\u001b[39m\u001b[38;5;124mtorch\u001b[39m\u001b[38;5;124m\"\u001b[39m \u001b[38;5;129;01mnot\u001b[39;00m \u001b[38;5;129;01min\u001b[39;00m backends \u001b[38;5;129;01mand\u001b[39;00m is_torch_available() \u001b[38;5;129;01mand\u001b[39;00m \u001b[38;5;129;01mnot\u001b[39;00m is_tf_available():\n",
      "\u001b[1;31mImportError\u001b[0m: \nAutoModelForSequenceClassification requires the PyTorch library but it was not found in your environment.\nHowever, we were able to find a TensorFlow installation. TensorFlow classes begin\nwith \"TF\", but are otherwise identically named to our PyTorch classes. This\nmeans that the TF equivalent of the class you tried to import would be \"TFAutoModelForSequenceClassification\".\nIf you want to use TensorFlow, please use TF classes instead!\n\nIf you really do want to use PyTorch please go to\nhttps://pytorch.org/get-started/locally/ and follow the instructions that\nmatch your environment.\n"
     ]
    }
   ],
   "source": [
    "from transformers import AutoTokenizer, AutoModelForSequenceClassification\n",
    "from transformers import pipeline\n",
    "import pandas as pd\n",
    "\n",
    "# Load model IndoBERT klasifikasi sentimen (pre-trained)\n",
    "model_name = \"indobenchmark/indobert-base-p1\"  # atau model fine-tuned\n",
    "tokenizer = AutoTokenizer.from_pretrained(model_name)\n",
    "model = AutoModelForSequenceClassification.from_pretrained(\"w11wo/indonesian-roberta-base-sentiment-classifier\")  # contoh fine-tuned sentiment model\n",
    "\n",
    "# Buat pipeline klasifikasi\n",
    "nlp = pipeline(\"sentiment-analysis\", model=model, tokenizer=tokenizer)\n",
    "\n",
    "# Prediksi otomatis\n",
    "predictions = df['text'].apply(lambda x: nlp(x)[0])  # ambil hasil top-1\n",
    "\n",
    "# Tambahkan label ke dataframe\n",
    "df['label_1'] = predictions.apply(lambda x: x['label'])\n",
    "df['score'] = predictions.apply(lambda x: x['score'])\n",
    "\n",
    "# Simpan hasil\n",
    "df.head()\n"
   ]
  },
  {
   "cell_type": "code",
   "execution_count": 10,
   "id": "2d58a4dc",
   "metadata": {},
   "outputs": [
    {
     "data": {
      "text/html": [
       "<div>\n",
       "<style scoped>\n",
       "    .dataframe tbody tr th:only-of-type {\n",
       "        vertical-align: middle;\n",
       "    }\n",
       "\n",
       "    .dataframe tbody tr th {\n",
       "        vertical-align: top;\n",
       "    }\n",
       "\n",
       "    .dataframe thead th {\n",
       "        text-align: right;\n",
       "    }\n",
       "</style>\n",
       "<table border=\"1\" class=\"dataframe\">\n",
       "  <thead>\n",
       "    <tr style=\"text-align: right;\">\n",
       "      <th></th>\n",
       "      <th>full_text</th>\n",
       "      <th>text_processed</th>\n",
       "      <th>text_processed1</th>\n",
       "      <th>label</th>\n",
       "      <th>score</th>\n",
       "    </tr>\n",
       "  </thead>\n",
       "  <tbody>\n",
       "    <tr>\n",
       "      <th>0</th>\n",
       "      <td>OK gas ...Indonesia Emas nih pak @prabowo @gibran_tweet l berkas kerja keras kalian kita memimpin klasemen pengangguran ke 1 di Asean. Kinerja kalian sangat memuaskan mayoritas para pengangguran. Siapa yang yg hendak kalian utus untuk menerima penghargaan ini ?</td>\n",
       "      <td>gas indonesia emas prabowo berkas kerja keras pimpin klasemen anggur asean kerja muas mayoritas anggur utus terima harga</td>\n",
       "      <td>ok gas indonesia emas nih pak prabowo gibran tweet berkas kerja keras kalian kita memimpin klasemen pengangguran ke di asean kinerja kalian sangat memuaskan mayoritas para pengangguran siapa yang yang hendak kalian utus untuk menerima penghargaan ini</td>\n",
       "      <td>neutral</td>\n",
       "      <td>0.963868</td>\n",
       "    </tr>\n",
       "    <tr>\n",
       "      <th>1</th>\n",
       "      <td>@uglygrunge1798 @Heraloebss @prabowo @gibran_tweet Ngga ada hubungannya terpilihnya presiden dan wapres dengan kepuasan setelah mereka terpilih. Emangnya kalo sudah terpilih warga indonesia harus dipaksa puas gitu? Ya ngga lah. Kepuasan itu hubungannya dengan kinerja setelah mereka terpilih. Kamu harus move on dari pemilu!</td>\n",
       "      <td>prabowo ngga hubung pilih presiden wapres puas pilih emang kalo pilih warga indonesia paksa puas ngga puas hubung kerja pilih move milu</td>\n",
       "      <td>uglygrunge heraloebss prabowo gibran tweet ngga ada hubungannya terpilihnya presiden dan wapres dengan kepuasan setelah mereka terpilih emangnya kalo sudah terpilih warga indonesia harus dipaksa puas gitu ya ngga lah kepuasan itu hubungannya dengan kinerja setelah mereka terpilih kamu harus move on dari pemilu</td>\n",
       "      <td>neutral</td>\n",
       "      <td>0.426632</td>\n",
       "    </tr>\n",
       "    <tr>\n",
       "      <th>2</th>\n",
       "      <td>@DedynurPalakka Kinerja? Emang pernah dikasih tugas atau misi apa sm prabowo?</td>\n",
       "      <td>kerja emang kasih tugas misi prabowo</td>\n",
       "      <td>dedynurpalakka kinerja emang pernah dikasih tugas atau misi apa sm prabowo</td>\n",
       "      <td>neutral</td>\n",
       "      <td>0.994963</td>\n",
       "    </tr>\n",
       "    <tr>\n",
       "      <th>3</th>\n",
       "      <td>@txtdrimedia Kinerja?? Emang dikasi tugas apa sm prabowo?</td>\n",
       "      <td>kerja emang kasi tugas prabowo</td>\n",
       "      <td>txtdrimedia kinerja emang dikasi tugas apa sm prabowo</td>\n",
       "      <td>neutral</td>\n",
       "      <td>0.588368</td>\n",
       "    </tr>\n",
       "    <tr>\n",
       "      <th>4</th>\n",
       "      <td>@uglygrunge1798 @Heraloebss @prabowo @gibran_tweet Demokrasi dan tupoksi kinerja NDASMU pemimpin yg tdk bisa me-manage bawahan mk hsl kerja tdk benar</td>\n",
       "      <td>prabowo demokrasi tupoksi kerja ndasmu pimpin tdk manage bawah hsl kerja tdk</td>\n",
       "      <td>uglygrunge heraloebss prabowo gibran tweet demokrasi dan tupoksi kinerja ndasmu pemimpin yang tidak bisa me manage bawahan mk hsl kerja tidak benar</td>\n",
       "      <td>neutral</td>\n",
       "      <td>0.547282</td>\n",
       "    </tr>\n",
       "    <tr>\n",
       "      <th>5</th>\n",
       "      <td>Ini begitu buruknya kinerja gubernur kalimantan selatan bupati @DivHumas_Polri pk @ListyoSigitP DPRD akhirnya ormas grib mewakili karyawan untuk selesaikan kewajiban kep @MahkamahAgung Cc @prabowo @habiburokhman @Yusrilihza_Mhd @bahlillahadalia @msaid_didu @DPR_RI @JimlyAs</td>\n",
       "      <td>buruk kerja gubernur kalimantan selatan bupati dprd ormas grib wakil karyawan selesai wajib kep prabowo</td>\n",
       "      <td>ini begitu buruknya kinerja gubernur kalimantan selatan bupati divhumas polri pk listyosigitp dprd akhirnya ormas grib mewakili karyawan untuk selesaikan kewajiban kep mahkamahagung cc prabowo habiburokhman yusrilihza mhd bahlillahadalia msaid didu dpr ri jimlyas</td>\n",
       "      <td>positive</td>\n",
       "      <td>0.755930</td>\n",
       "    </tr>\n",
       "    <tr>\n",
       "      <th>6</th>\n",
       "      <td>Lembaga riset independen IndoStrategi merilis hasil riset evaluasi kinerja kabinet Prabowo-Gibran dan mengidentifikasi 10 menteri denga performa tertinggi. #kabinetprabowogibran #risetindostrategi https://t.co/aw4DdFvPyW</td>\n",
       "      <td>lembaga riset independen indostrategi rilis hasil riset evaluasi kerja kabinet prabowo gibran identifikasi menteri denga performa tinggi kabinetprabowogibran risetindostrategi</td>\n",
       "      <td>lembaga riset independen indostrategi merilis hasil riset evaluasi kinerja kabinet prabowo gibran dan mengidentifikasi menteri denga performa tertinggi kabinetprabowogibran risetindostrategi</td>\n",
       "      <td>negative</td>\n",
       "      <td>0.803784</td>\n",
       "    </tr>\n",
       "    <tr>\n",
       "      <th>7</th>\n",
       "      <td>@Lembayung071 @gibran_tweet @prabowo @setkabgoid @KemensetnegRI Sy belum lihat apa kinerja gibran</td>\n",
       "      <td>prabowo lihat kerja gibran</td>\n",
       "      <td>lembayung gibran tweet prabowo setkabgoid kemensetnegri sy belum lihat apa kinerja gibran</td>\n",
       "      <td>negative</td>\n",
       "      <td>0.991427</td>\n",
       "    </tr>\n",
       "    <tr>\n",
       "      <th>8</th>\n",
       "      <td>@Mdy_Asmara1701 bukannya seharusnya puas kinerja pak prabowo.. koq jadi agak gimana gitu...</td>\n",
       "      <td>puas kerja prabowo koq gimana</td>\n",
       "      <td>mdy asmara bukannya seharusnya puas kinerja pak prabowo koq jadi agak gimana gitu</td>\n",
       "      <td>neutral</td>\n",
       "      <td>0.958150</td>\n",
       "    </tr>\n",
       "    <tr>\n",
       "      <th>9</th>\n",
       "      <td>@Mdy_Asmara1701 Survey abal-abal; apa kinerja yang sudah dilakukan prabowo gibran selain kepatuhan kepada presiden terdahulu?</td>\n",
       "      <td>survey abal abal kerja prabowo gibran patuh presiden</td>\n",
       "      <td>mdy asmara survey abal abal apa kinerja yang sudah dilakukan prabowo gibran selain kepatuhan kepada presiden terdahulu</td>\n",
       "      <td>neutral</td>\n",
       "      <td>0.954312</td>\n",
       "    </tr>\n",
       "  </tbody>\n",
       "</table>\n",
       "</div>"
      ],
      "text/plain": [
       "                                                                                                                                                                                                                                                                                                                              full_text  \\\n",
       "0                                                                 OK gas ...Indonesia Emas nih pak @prabowo @gibran_tweet l berkas kerja keras kalian kita memimpin klasemen pengangguran ke 1 di Asean. Kinerja kalian sangat memuaskan mayoritas para pengangguran. Siapa yang yg hendak kalian utus untuk menerima penghargaan ini ?   \n",
       "1  @uglygrunge1798 @Heraloebss @prabowo @gibran_tweet Ngga ada hubungannya terpilihnya presiden dan wapres dengan kepuasan setelah mereka terpilih. Emangnya kalo sudah terpilih warga indonesia harus dipaksa puas gitu? Ya ngga lah. Kepuasan itu hubungannya dengan kinerja setelah mereka terpilih. Kamu harus move on dari pemilu!   \n",
       "2                                                                                                                                                                                                                                                         @DedynurPalakka Kinerja? Emang pernah dikasih tugas atau misi apa sm prabowo?   \n",
       "3                                                                                                                                                                                                                                                                             @txtdrimedia Kinerja?? Emang dikasi tugas apa sm prabowo?   \n",
       "4                                                                                                                                                                                 @uglygrunge1798 @Heraloebss @prabowo @gibran_tweet Demokrasi dan tupoksi kinerja NDASMU pemimpin yg tdk bisa me-manage bawahan mk hsl kerja tdk benar   \n",
       "5                                                     Ini begitu buruknya kinerja gubernur kalimantan selatan bupati @DivHumas_Polri pk @ListyoSigitP DPRD akhirnya ormas grib mewakili karyawan untuk selesaikan kewajiban kep @MahkamahAgung Cc @prabowo @habiburokhman @Yusrilihza_Mhd @bahlillahadalia @msaid_didu @DPR_RI @JimlyAs   \n",
       "6                                                                                                          Lembaga riset independen IndoStrategi merilis hasil riset evaluasi kinerja kabinet Prabowo-Gibran dan mengidentifikasi 10 menteri denga performa tertinggi. #kabinetprabowogibran #risetindostrategi https://t.co/aw4DdFvPyW   \n",
       "7                                                                                                                                                                                                                                     @Lembayung071 @gibran_tweet @prabowo @setkabgoid @KemensetnegRI Sy belum lihat apa kinerja gibran   \n",
       "8                                                                                                                                                                                                                                           @Mdy_Asmara1701 bukannya seharusnya puas kinerja pak prabowo.. koq jadi agak gimana gitu...   \n",
       "9                                                                                                                                                                                                         @Mdy_Asmara1701 Survey abal-abal; apa kinerja yang sudah dilakukan prabowo gibran selain kepatuhan kepada presiden terdahulu?   \n",
       "\n",
       "                                                                                                                                                                    text_processed  \\\n",
       "0                                                         gas indonesia emas prabowo berkas kerja keras pimpin klasemen anggur asean kerja muas mayoritas anggur utus terima harga   \n",
       "1                                          prabowo ngga hubung pilih presiden wapres puas pilih emang kalo pilih warga indonesia paksa puas ngga puas hubung kerja pilih move milu   \n",
       "2                                                                                                                                             kerja emang kasih tugas misi prabowo   \n",
       "3                                                                                                                                                   kerja emang kasi tugas prabowo   \n",
       "4                                                                                                     prabowo demokrasi tupoksi kerja ndasmu pimpin tdk manage bawah hsl kerja tdk   \n",
       "5                                                                          buruk kerja gubernur kalimantan selatan bupati dprd ormas grib wakil karyawan selesai wajib kep prabowo   \n",
       "6  lembaga riset independen indostrategi rilis hasil riset evaluasi kerja kabinet prabowo gibran identifikasi menteri denga performa tinggi kabinetprabowogibran risetindostrategi   \n",
       "7                                                                                                                                                       prabowo lihat kerja gibran   \n",
       "8                                                                                                                                                    puas kerja prabowo koq gimana   \n",
       "9                                                                                                                             survey abal abal kerja prabowo gibran patuh presiden   \n",
       "\n",
       "                                                                                                                                                                                                                                                                                                           text_processed1  \\\n",
       "0                                                               ok gas indonesia emas nih pak prabowo gibran tweet berkas kerja keras kalian kita memimpin klasemen pengangguran ke di asean kinerja kalian sangat memuaskan mayoritas para pengangguran siapa yang yang hendak kalian utus untuk menerima penghargaan ini   \n",
       "1  uglygrunge heraloebss prabowo gibran tweet ngga ada hubungannya terpilihnya presiden dan wapres dengan kepuasan setelah mereka terpilih emangnya kalo sudah terpilih warga indonesia harus dipaksa puas gitu ya ngga lah kepuasan itu hubungannya dengan kinerja setelah mereka terpilih kamu harus move on dari pemilu   \n",
       "2                                                                                                                                                                                                                                               dedynurpalakka kinerja emang pernah dikasih tugas atau misi apa sm prabowo   \n",
       "3                                                                                                                                                                                                                                                                    txtdrimedia kinerja emang dikasi tugas apa sm prabowo   \n",
       "4                                                                                                                                                                      uglygrunge heraloebss prabowo gibran tweet demokrasi dan tupoksi kinerja ndasmu pemimpin yang tidak bisa me manage bawahan mk hsl kerja tidak benar   \n",
       "5                                                  ini begitu buruknya kinerja gubernur kalimantan selatan bupati divhumas polri pk listyosigitp dprd akhirnya ormas grib mewakili karyawan untuk selesaikan kewajiban kep mahkamahagung cc prabowo habiburokhman yusrilihza mhd bahlillahadalia msaid didu dpr ri jimlyas   \n",
       "6                                                                                                                           lembaga riset independen indostrategi merilis hasil riset evaluasi kinerja kabinet prabowo gibran dan mengidentifikasi menteri denga performa tertinggi kabinetprabowogibran risetindostrategi   \n",
       "7                                                                                                                                                                                                                                lembayung gibran tweet prabowo setkabgoid kemensetnegri sy belum lihat apa kinerja gibran   \n",
       "8                                                                                                                                                                                                                                        mdy asmara bukannya seharusnya puas kinerja pak prabowo koq jadi agak gimana gitu   \n",
       "9                                                                                                                                                                                                   mdy asmara survey abal abal apa kinerja yang sudah dilakukan prabowo gibran selain kepatuhan kepada presiden terdahulu   \n",
       "\n",
       "      label     score  \n",
       "0   neutral  0.963868  \n",
       "1   neutral  0.426632  \n",
       "2   neutral  0.994963  \n",
       "3   neutral  0.588368  \n",
       "4   neutral  0.547282  \n",
       "5  positive  0.755930  \n",
       "6  negative  0.803784  \n",
       "7  negative  0.991427  \n",
       "8   neutral  0.958150  \n",
       "9   neutral  0.954312  "
      ]
     },
     "execution_count": 10,
=======
      ]
     },
     "execution_count": 30,
>>>>>>> 9175bc88dd49777324fc852eb8f6690dab737c2f
     "metadata": {},
     "output_type": "execute_result"
    }
   ],
   "source": [
<<<<<<< HEAD
    "df = pd.read_csv('dataset/text/prabowo_w11wo.csv')\n",
    "df.head(10)"
=======
    "df.head()"
>>>>>>> 9175bc88dd49777324fc852eb8f6690dab737c2f
   ]
  },
  {
   "cell_type": "code",
<<<<<<< HEAD
   "execution_count": 11,
   "id": "1830876f",
   "metadata": {},
   "outputs": [
    {
     "data": {
      "text/plain": [
       "<Axes: xlabel='panjang', ylabel='Count'>"
      ]
     },
     "execution_count": 11,
     "metadata": {},
     "output_type": "execute_result"
    },
    {
     "data": {
      "image/png": "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",
      "text/plain": [
       "<Figure size 640x480 with 1 Axes>"
      ]
     },
     "metadata": {},
     "output_type": "display_data"
    }
   ],
   "source": [
    "import seaborn as sns\n",
    "import matplotlib.pyplot as plt\n",
    "\n",
    "df['panjang'] = df['text_processed'].apply(lambda x: len(x.split()))\n",
    "sns.histplot(df['panjang'], bins=30)\n"
   ]
  },
  {
   "cell_type": "code",
   "execution_count": 13,
   "id": "d30c7e56",
   "metadata": {},
   "outputs": [
    {
     "data": {
      "image/png": "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",
      "text/plain": [
       "<Figure size 600x400 with 1 Axes>"
      ]
     },
     "metadata": {},
     "output_type": "display_data"
    }
   ],
   "source": [
    "correlation = df[['panjang', 'score']].corr()\n",
    "\n",
    "# Visualisasi scatter plot\n",
    "plt.figure(figsize=(6, 4))\n",
    "sns.boxplot(x='score', y='panjang', data=df)\n",
    "plt.title(\"Distribusi Panjang Teks per Label\")\n",
    "plt.xlabel(\"Label Score \")\n",
    "plt.ylabel(\"Panjang Teks\")\n",
    "plt.tight_layout()\n",
    "plt.show()"
   ]
  },
  {
   "cell_type": "code",
   "execution_count": 15,
   "id": "c85b4fe6",
   "metadata": {},
   "outputs": [
    {
     "data": {
      "text/html": [
       "<div>\n",
       "<style scoped>\n",
       "    .dataframe tbody tr th:only-of-type {\n",
       "        vertical-align: middle;\n",
       "    }\n",
       "\n",
       "    .dataframe tbody tr th {\n",
       "        vertical-align: top;\n",
       "    }\n",
       "\n",
       "    .dataframe thead th {\n",
       "        text-align: right;\n",
       "    }\n",
       "</style>\n",
       "<table border=\"1\" class=\"dataframe\">\n",
       "  <thead>\n",
       "    <tr style=\"text-align: right;\">\n",
       "      <th></th>\n",
       "      <th>panjang</th>\n",
       "      <th>score</th>\n",
       "    </tr>\n",
       "  </thead>\n",
       "  <tbody>\n",
       "    <tr>\n",
       "      <th>panjang</th>\n",
       "      <td>1.000000</td>\n",
       "      <td>0.001557</td>\n",
       "    </tr>\n",
       "    <tr>\n",
       "      <th>score</th>\n",
       "      <td>0.001557</td>\n",
       "      <td>1.000000</td>\n",
       "    </tr>\n",
       "  </tbody>\n",
       "</table>\n",
       "</div>"
      ],
      "text/plain": [
       "          panjang     score\n",
       "panjang  1.000000  0.001557\n",
       "score    0.001557  1.000000"
      ]
     },
     "execution_count": 15,
     "metadata": {},
     "output_type": "execute_result"
    }
   ],
   "source": [
    "correlation"
   ]
  },
  {
   "cell_type": "code",
   "execution_count": 14,
   "id": "7bfd411a",
   "metadata": {},
   "outputs": [
    {
     "data": {
      "text/html": [
       "<div>\n",
       "<style scoped>\n",
       "    .dataframe tbody tr th:only-of-type {\n",
       "        vertical-align: middle;\n",
       "    }\n",
       "\n",
       "    .dataframe tbody tr th {\n",
       "        vertical-align: top;\n",
       "    }\n",
       "\n",
       "    .dataframe thead th {\n",
       "        text-align: right;\n",
       "    }\n",
       "</style>\n",
       "<table border=\"1\" class=\"dataframe\">\n",
       "  <thead>\n",
       "    <tr style=\"text-align: right;\">\n",
       "      <th></th>\n",
       "      <th>score</th>\n",
       "      <th>panjang</th>\n",
       "    </tr>\n",
       "  </thead>\n",
       "  <tbody>\n",
       "    <tr>\n",
       "      <th>count</th>\n",
       "      <td>10931.000000</td>\n",
       "      <td>10931.000000</td>\n",
       "    </tr>\n",
       "    <tr>\n",
       "      <th>mean</th>\n",
       "      <td>0.827528</td>\n",
       "      <td>14.820053</td>\n",
       "    </tr>\n",
       "    <tr>\n",
       "      <th>std</th>\n",
       "      <td>0.172673</td>\n",
       "      <td>6.916791</td>\n",
       "    </tr>\n",
       "    <tr>\n",
       "      <th>min</th>\n",
       "      <td>0.337372</td>\n",
       "      <td>1.000000</td>\n",
       "    </tr>\n",
       "    <tr>\n",
       "      <th>25%</th>\n",
       "      <td>0.702148</td>\n",
       "      <td>9.000000</td>\n",
       "    </tr>\n",
       "    <tr>\n",
       "      <th>50%</th>\n",
       "      <td>0.895057</td>\n",
       "      <td>14.000000</td>\n",
       "    </tr>\n",
       "    <tr>\n",
       "      <th>75%</th>\n",
       "      <td>0.977465</td>\n",
       "      <td>20.000000</td>\n",
       "    </tr>\n",
       "    <tr>\n",
       "      <th>max</th>\n",
       "      <td>0.999278</td>\n",
       "      <td>39.000000</td>\n",
       "    </tr>\n",
       "  </tbody>\n",
       "</table>\n",
       "</div>"
      ],
      "text/plain": [
       "              score       panjang\n",
       "count  10931.000000  10931.000000\n",
       "mean       0.827528     14.820053\n",
       "std        0.172673      6.916791\n",
       "min        0.337372      1.000000\n",
       "25%        0.702148      9.000000\n",
       "50%        0.895057     14.000000\n",
       "75%        0.977465     20.000000\n",
       "max        0.999278     39.000000"
      ]
     },
     "execution_count": 14,
     "metadata": {},
     "output_type": "execute_result"
    }
   ],
   "source": [
    "df.describe()"
   ]
  },
  {
   "cell_type": "code",
   "execution_count": 19,
   "id": "f313a383",
   "metadata": {},
   "outputs": [
    {
     "data": {
      "text/plain": [
       "label\n",
       "neutral     6197\n",
       "negative    3168\n",
       "positive    1566\n",
       "Name: count, dtype: int64"
      ]
     },
     "execution_count": 19,
     "metadata": {},
     "output_type": "execute_result"
    }
   ],
   "source": [
    "df['label'].value_counts()"
   ]
  },
  {
   "cell_type": "code",
   "execution_count": 20,
   "id": "99d97771",
   "metadata": {},
   "outputs": [
    {
     "data": {
      "text/plain": [
       "{0: 1.1501473063973064, 1: 0.5879726749502447, 2: 2.326734780757769}"
      ]
     },
     "execution_count": 20,
     "metadata": {},
     "output_type": "execute_result"
    }
   ],
   "source": [
    "from sklearn.utils.class_weight import compute_class_weight\n",
    "import numpy as np\n",
    "\n",
    "class_weights = compute_class_weight('balanced', classes=np.unique(df['label']), y=df['label'])\n",
    "class_weights = dict(enumerate(class_weights))\n",
    "class_weights"
   ]
  },
  {
   "cell_type": "code",
   "execution_count": 23,
   "id": "76115399",
   "metadata": {},
   "outputs": [
    {
     "data": {
      "text/plain": [
       "label\n",
       "neutral     3547\n",
       "negative    1413\n",
       "positive     415\n",
       "Name: count, dtype: int64"
      ]
     },
     "execution_count": 23,
     "metadata": {},
     "output_type": "execute_result"
    }
   ],
   "source": [
    "df1 = df.copy()\n",
    "df1 = df1[df1['score'] >= 0.90]\n",
    "df1['label'].value_counts()\n"
   ]
  },
  {
   "cell_type": "code",
   "execution_count": 24,
   "id": "a2792d20",
   "metadata": {},
   "outputs": [
    {
     "data": {
      "text/plain": [
       "{0: 1.2679877329558857, 1: 0.5051216990884315, 2: 4.317269076305221}"
      ]
     },
     "execution_count": 24,
     "metadata": {},
     "output_type": "execute_result"
    }
   ],
   "source": [
    "from sklearn.utils.class_weight import compute_class_weight\n",
    "import numpy as np\n",
    "\n",
    "class_weights = compute_class_weight('balanced', classes=np.unique(df1['label']), y=df1['label'])\n",
    "class_weights = dict(enumerate(class_weights))\n",
    "class_weights"
   ]
  },
  {
   "cell_type": "code",
   "execution_count": 25,
   "id": "6011636f",
   "metadata": {},
   "outputs": [
    {
     "data": {
      "text/html": [
       "<div>\n",
       "<style scoped>\n",
       "    .dataframe tbody tr th:only-of-type {\n",
       "        vertical-align: middle;\n",
       "    }\n",
       "\n",
       "    .dataframe tbody tr th {\n",
       "        vertical-align: top;\n",
       "    }\n",
       "\n",
       "    .dataframe thead th {\n",
       "        text-align: right;\n",
       "    }\n",
       "</style>\n",
       "<table border=\"1\" class=\"dataframe\">\n",
       "  <thead>\n",
       "    <tr style=\"text-align: right;\">\n",
       "      <th></th>\n",
       "      <th>score</th>\n",
       "      <th>panjang</th>\n",
       "    </tr>\n",
       "  </thead>\n",
       "  <tbody>\n",
       "    <tr>\n",
       "      <th>count</th>\n",
       "      <td>5375.000000</td>\n",
       "      <td>5375.000000</td>\n",
       "    </tr>\n",
       "    <tr>\n",
       "      <th>mean</th>\n",
       "      <td>0.968602</td>\n",
       "      <td>14.881302</td>\n",
       "    </tr>\n",
       "    <tr>\n",
       "      <th>std</th>\n",
       "      <td>0.027597</td>\n",
       "      <td>6.853839</td>\n",
       "    </tr>\n",
       "    <tr>\n",
       "      <th>min</th>\n",
       "      <td>0.900021</td>\n",
       "      <td>1.000000</td>\n",
       "    </tr>\n",
       "    <tr>\n",
       "      <th>25%</th>\n",
       "      <td>0.950190</td>\n",
       "      <td>9.000000</td>\n",
       "    </tr>\n",
       "    <tr>\n",
       "      <th>50%</th>\n",
       "      <td>0.978225</td>\n",
       "      <td>14.000000</td>\n",
       "    </tr>\n",
       "    <tr>\n",
       "      <th>75%</th>\n",
       "      <td>0.991775</td>\n",
       "      <td>20.500000</td>\n",
       "    </tr>\n",
       "    <tr>\n",
       "      <th>max</th>\n",
       "      <td>0.999278</td>\n",
       "      <td>36.000000</td>\n",
       "    </tr>\n",
       "  </tbody>\n",
       "</table>\n",
       "</div>"
      ],
      "text/plain": [
       "             score      panjang\n",
       "count  5375.000000  5375.000000\n",
       "mean      0.968602    14.881302\n",
       "std       0.027597     6.853839\n",
       "min       0.900021     1.000000\n",
       "25%       0.950190     9.000000\n",
       "50%       0.978225    14.000000\n",
       "75%       0.991775    20.500000\n",
       "max       0.999278    36.000000"
      ]
     },
     "execution_count": 25,
     "metadata": {},
     "output_type": "execute_result"
    }
   ],
   "source": [
    "df1.describe()"
   ]
  },
  {
   "cell_type": "code",
   "execution_count": 26,
   "id": "d913db92",
   "metadata": {},
   "outputs": [
    {
     "data": {
      "text/plain": [
       "<Axes: xlabel='panjang', ylabel='Count'>"
      ]
     },
     "execution_count": 26,
     "metadata": {},
     "output_type": "execute_result"
    },
    {
     "data": {
      "image/png": "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",
      "text/plain": [
       "<Figure size 640x480 with 1 Axes>"
      ]
     },
     "metadata": {},
     "output_type": "display_data"
    }
   ],
   "source": [
    "import seaborn as sns\n",
    "import matplotlib.pyplot as plt\n",
    "\n",
    "df1['panjang'] = df1['text_processed'].apply(lambda x: len(x.split()))\n",
    "sns.histplot(df['panjang'], bins=30)\n"
   ]
  },
  {
   "cell_type": "code",
   "execution_count": 27,
   "id": "5b4526b8",
   "metadata": {},
   "outputs": [
    {
     "data": {
      "text/plain": [
       "label\n",
       "negative    173\n",
       "neutral     116\n",
       "positive      5\n",
       "Name: count, dtype: int64"
      ]
     },
     "execution_count": 27,
     "metadata": {},
     "output_type": "execute_result"
    }
   ],
   "source": [
    "df2 = df1.copy()\n",
    "df2 = df2[df2['panjang'] <= 5]\n",
    "df2['label'].value_counts()"
   ]
  },
  {
   "cell_type": "code",
   "execution_count": 31,
   "id": "db15bd3c",
=======
   "execution_count": 31,
   "id": "ef3131e3",
>>>>>>> 9175bc88dd49777324fc852eb8f6690dab737c2f
   "metadata": {},
   "outputs": [
    {
     "data": {
      "text/plain": [
<<<<<<< HEAD
       "label\n",
       "neutral     3472\n",
       "negative    1377\n",
       "positive     405\n",
       "Name: count, dtype: int64"
=======
       "63"
>>>>>>> 9175bc88dd49777324fc852eb8f6690dab737c2f
      ]
     },
     "execution_count": 31,
     "metadata": {},
     "output_type": "execute_result"
    }
   ],
   "source": [
<<<<<<< HEAD
    "df1.drop_duplicates('text_processed1', inplace=True)\n",
    "df1['label'].value_counts()\n"
=======
    "(df['text'].str.contains('Rakyat merasakan langsung manfaat program Prabowo')).sum()\n"
>>>>>>> 9175bc88dd49777324fc852eb8f6690dab737c2f
   ]
  },
  {
   "cell_type": "code",
   "execution_count": 32,
<<<<<<< HEAD
   "id": "0444a8f1",
   "metadata": {},
   "outputs": [],
   "source": [
    "df1.to_csv('dataset/prabowo_w11wo_90.csv', index=False)"
=======
   "id": "845f4577",
   "metadata": {},
   "outputs": [
    {
     "data": {
      "text/plain": [
       "0"
      ]
     },
     "execution_count": 32,
     "metadata": {},
     "output_type": "execute_result"
    }
   ],
   "source": [
    "df.duplicated().sum()"
   ]
  },
  {
   "cell_type": "code",
   "execution_count": 33,
   "id": "8e9acbc2",
   "metadata": {},
   "outputs": [],
   "source": [
    "df.to_csv('dataset/text/prabowo_text_positive1000.csv')"
>>>>>>> 9175bc88dd49777324fc852eb8f6690dab737c2f
   ]
  },
  {
   "cell_type": "code",
<<<<<<< HEAD
   "execution_count": 6,
   "id": "d479ff2d",
   "metadata": {},
   "outputs": [],
   "source": [
    "import pandas as pd\n",
    "\n",
    "pd.set_option('display.max_columns', None)  # Tampilkan semua kolom\n",
    "pd.set_option('display.max_rows', 100)      # Bisa disesuaikan untuk baris\n",
    "pd.set_option('display.width', None)        # Biarkan lebar layar fleksibel\n",
    "pd.set_option('display.max_colwidth', None) # Tampilkan isi kolom panjang\n"
   ]
  },
  {
   "cell_type": "code",
   "execution_count": 1,
   "id": "5c0cd63a",
   "metadata": {},
   "outputs": [
    {
     "name": "stdout",
     "output_type": "stream",
     "text": [
      "<class 'pandas.core.frame.DataFrame'>\n",
      "Index: 8078 entries, 0 to 5561\n",
      "Data columns (total 15 columns):\n",
      " #   Column                   Non-Null Count  Dtype  \n",
      "---  ------                   --------------  -----  \n",
      " 0   conversation_id_str      8078 non-null   int64  \n",
      " 1   created_at               8078 non-null   object \n",
      " 2   favorite_count           8078 non-null   int64  \n",
      " 3   full_text                8078 non-null   object \n",
      " 4   id_str                   8078 non-null   int64  \n",
      " 5   image_url                1944 non-null   object \n",
      " 6   in_reply_to_screen_name  4076 non-null   object \n",
      " 7   lang                     8078 non-null   object \n",
      " 8   location                 0 non-null      float64\n",
      " 9   quote_count              8078 non-null   int64  \n",
      " 10  reply_count              8078 non-null   int64  \n",
      " 11  retweet_count            8078 non-null   int64  \n",
      " 12  tweet_url                8078 non-null   object \n",
      " 13  user_id_str              8078 non-null   int64  \n",
      " 14  username                 0 non-null      float64\n",
      "dtypes: float64(2), int64(7), object(6)\n",
      "memory usage: 1009.8+ KB\n"
     ]
    }
   ],
   "source": [
    "import pandas as pd\n",
    "\n",
    "df1 = pd.read_csv('dataset/-/prabowo_23-05.csv')\n",
    "df2 = pd.read_csv('dataset/-/prabowo_23-06.csv')\n",
    "df3 = pd.read_csv('dataset/-/prabowo_23-07.csv')\n",
    "df4 = pd.read_csv('dataset/-/prabowo_23-08.csv')\n",
    "\n",
    "df = pd.concat([df1, df2, df3, df4], axis=0)\n",
    "df.info()"
   ]
  },
  {
   "cell_type": "code",
   "execution_count": 8,
   "id": "1ad75896",
   "metadata": {},
   "outputs": [
    {
     "name": "stdout",
     "output_type": "stream",
     "text": [
      "<class 'pandas.core.frame.DataFrame'>\n",
      "Index: 5619 entries, 0 to 5561\n",
      "Data columns (total 15 columns):\n",
      " #   Column                   Non-Null Count  Dtype  \n",
      "---  ------                   --------------  -----  \n",
      " 0   conversation_id_str      5619 non-null   int64  \n",
      " 1   created_at               5619 non-null   object \n",
      " 2   favorite_count           5619 non-null   int64  \n",
      " 3   full_text                5619 non-null   object \n",
      " 4   id_str                   5619 non-null   int64  \n",
      " 5   image_url                1013 non-null   object \n",
      " 6   in_reply_to_screen_name  2921 non-null   object \n",
      " 7   lang                     5619 non-null   object \n",
      " 8   location                 0 non-null      float64\n",
      " 9   quote_count              5619 non-null   int64  \n",
      " 10  reply_count              5619 non-null   int64  \n",
      " 11  retweet_count            5619 non-null   int64  \n",
      " 12  tweet_url                5619 non-null   object \n",
      " 13  user_id_str              5619 non-null   int64  \n",
      " 14  username                 0 non-null      float64\n",
      "dtypes: float64(2), int64(7), object(6)\n",
      "memory usage: 702.4+ KB\n"
     ]
    }
   ],
   "source": [
    "df_ = df.copy()\n",
    "df_ = df_[df_['favorite_count'] == 0]\n",
    "df_.info()"
   ]
  },
  {
   "cell_type": "markdown",
   "id": "ca7eb2e3",
   "metadata": {},
   "source": [
    "# filter like\n"
   ]
  },
  {
   "cell_type": "code",
   "execution_count": 18,
   "id": "0186ae24",
   "metadata": {},
   "outputs": [
    {
     "name": "stdout",
     "output_type": "stream",
     "text": [
      "<class 'pandas.core.frame.DataFrame'>\n",
      "RangeIndex: 12213 entries, 0 to 12212\n",
      "Data columns (total 17 columns):\n",
      " #   Column                                                                                                                                                                                     Non-Null Count  Dtype  \n",
      "---  ------                                                                                                                                                                                     --------------  -----  \n",
      " 0   conversation_id_str;created_at;favorite_count;full_text;id_str;image_url;in_reply_to_screen_name;lang;location;quote_count;reply_count;retweet_count;tweet_url;user_id_str;username        1170 non-null   object \n",
      " 1   conversation_id_str                                                                                                                                                                        10609 non-null  object \n",
      " 2   created_at                                                                                                                                                                                 10609 non-null  object \n",
      " 3   favorite_count                                                                                                                                                                             10609 non-null  float64\n",
      " 4   full_text                                                                                                                                                                                  10609 non-null  object \n",
      " 5   id_str                                                                                                                                                                                     10609 non-null  object \n",
      " 6   image_url                                                                                                                                                                                  3643 non-null   object \n",
      " 7   in_reply_to_screen_name                                                                                                                                                                    4394 non-null   object \n",
      " 8   lang                                                                                                                                                                                       10609 non-null  object \n",
      " 9   location                                                                                                                                                                                   1476 non-null   object \n",
      " 10  quote_count                                                                                                                                                                                10609 non-null  float64\n",
      " 11  reply_count                                                                                                                                                                                10609 non-null  float64\n",
      " 12  retweet_count                                                                                                                                                                              10609 non-null  float64\n",
      " 13  tweet_url                                                                                                                                                                                  10609 non-null  object \n",
      " 14  user_id_str                                                                                                                                                                                10609 non-null  object \n",
      " 15  username                                                                                                                                                                                   2531 non-null   object \n",
      " 16  conversation_id_str;created_at;favorite_count;full_text;id_str;image_url;in_reply_to_screen_name;lang;location;quote_count;reply_count;retweet_count;tweet_url;user_id_str;username;label  434 non-null    object \n",
      "dtypes: float64(4), object(13)\n",
      "memory usage: 1.6+ MB\n"
     ]
    }
   ],
   "source": [
    "import pandas as pd\n",
    "\n",
    "df1 = pd.read_csv('dataset/-/df_prabowo_april_2025.csv')\n",
    "df2 = pd.read_csv('dataset/-/df_prabowo_februari_2025.csv', sep=';')\n",
    "df3 = pd.read_csv('dataset/-/df_prabowo_januari_2025.csv', sep=';')\n",
    "df4 = pd.read_csv('dataset/-/df_prabowo_maret_2025.csv')\n",
    "df5 = pd.read_csv('dataset/-/df_prabowo_desember_2024.csv', delimiter=';')\n",
    "df6 = pd.read_csv('dataset/-/df_prabowo_positive.csv')\n",
    "df7 = pd.read_csv('dataset/-/df_prabowo_positive1.csv')\n",
    "df8 = pd.read_csv('dataset/-/df_prabowo_positive2.csv')\n",
    "df9 = pd.read_csv('dataset/-/df_prabowo_positive3.csv')\n",
    "df10 = pd.read_csv('dataset/-/df_prabowo_positive4.csv')\n",
    "df11 = pd.read_csv('dataset/-/prabowo_23-05.csv')\n",
    "df12 = pd.read_csv('dataset/-/prabowo_23-06.csv')\n",
    "df13 = pd.read_csv('dataset/-/prabowo_23-07.csv')\n",
    "df14 = pd.read_csv('dataset/-/prabowo_23-08.csv')\n",
    "\n",
    "df = pd.concat([\n",
    "    df1, df2, df3, df4, df5, df6, df7,\n",
    "    df8, df9, df10, df11, df12, df13, df14\n",
    "], ignore_index=True)\n",
    "\n",
    "df.info()"
   ]
  },
  {
   "cell_type": "code",
   "execution_count": 19,
   "id": "741ee8f2",
   "metadata": {},
   "outputs": [
    {
     "name": "stdout",
     "output_type": "stream",
     "text": [
      "<class 'pandas.core.frame.DataFrame'>\n",
      "Index: 3254 entries, 456 to 12187\n",
      "Data columns (total 17 columns):\n",
      " #   Column                                                                                                                                                                                     Non-Null Count  Dtype  \n",
      "---  ------                                                                                                                                                                                     --------------  -----  \n",
      " 0   conversation_id_str;created_at;favorite_count;full_text;id_str;image_url;in_reply_to_screen_name;lang;location;quote_count;reply_count;retweet_count;tweet_url;user_id_str;username        0 non-null      object \n",
      " 1   conversation_id_str                                                                                                                                                                        3254 non-null   object \n",
      " 2   created_at                                                                                                                                                                                 3254 non-null   object \n",
      " 3   favorite_count                                                                                                                                                                             3254 non-null   float64\n",
      " 4   full_text                                                                                                                                                                                  3254 non-null   object \n",
      " 5   id_str                                                                                                                                                                                     3254 non-null   object \n",
      " 6   image_url                                                                                                                                                                                  2051 non-null   object \n",
      " 7   in_reply_to_screen_name                                                                                                                                                                    584 non-null    object \n",
      " 8   lang                                                                                                                                                                                       3254 non-null   object \n",
      " 9   location                                                                                                                                                                                   1476 non-null   object \n",
      " 10  quote_count                                                                                                                                                                                3254 non-null   float64\n",
      " 11  reply_count                                                                                                                                                                                3254 non-null   float64\n",
      " 12  retweet_count                                                                                                                                                                              3254 non-null   float64\n",
      " 13  tweet_url                                                                                                                                                                                  3254 non-null   object \n",
      " 14  user_id_str                                                                                                                                                                                3254 non-null   object \n",
      " 15  username                                                                                                                                                                                   2531 non-null   object \n",
      " 16  conversation_id_str;created_at;favorite_count;full_text;id_str;image_url;in_reply_to_screen_name;lang;location;quote_count;reply_count;retweet_count;tweet_url;user_id_str;username;label  0 non-null      object \n",
      "dtypes: float64(4), object(13)\n",
      "memory usage: 457.6+ KB\n"
     ]
    }
   ],
   "source": [
    "df1 = df.copy()\n",
    "df1 = df1[df1['favorite_count'] >= 20]\n",
    "df1.info()"
   ]
  },
  {
   "cell_type": "code",
   "execution_count": 21,
   "id": "a44d8d3a",
   "metadata": {},
   "outputs": [
    {
     "data": {
      "text/html": [
       "<div>\n",
       "<style scoped>\n",
       "    .dataframe tbody tr th:only-of-type {\n",
       "        vertical-align: middle;\n",
       "    }\n",
       "\n",
       "    .dataframe tbody tr th {\n",
       "        vertical-align: top;\n",
       "    }\n",
       "\n",
       "    .dataframe thead th {\n",
       "        text-align: right;\n",
       "    }\n",
       "</style>\n",
       "<table border=\"1\" class=\"dataframe\">\n",
       "  <thead>\n",
       "    <tr style=\"text-align: right;\">\n",
       "      <th></th>\n",
       "      <th>conversation_id_str</th>\n",
       "      <th>created_at</th>\n",
       "      <th>favorite_count</th>\n",
       "      <th>full_text</th>\n",
       "      <th>id_str</th>\n",
       "      <th>image_url</th>\n",
       "      <th>in_reply_to_screen_name</th>\n",
       "      <th>lang</th>\n",
       "      <th>location</th>\n",
       "      <th>quote_count</th>\n",
       "      <th>reply_count</th>\n",
       "      <th>retweet_count</th>\n",
       "      <th>tweet_url</th>\n",
       "      <th>user_id_str</th>\n",
       "      <th>username</th>\n",
       "      <th>conversation_id_str;created_at;favorite_count;full_text;id_str;image_url;in_reply_to_screen_name;lang;location;quote_count;reply_count;retweet_count;tweet_url;user_id_str;username;label</th>\n",
       "    </tr>\n",
       "  </thead>\n",
       "  <tbody>\n",
       "    <tr>\n",
       "      <th>456</th>\n",
       "      <td>1,89525E+18</td>\n",
       "      <td>Thu Feb 27 23:22:00 +0000 2025</td>\n",
       "      <td>700.0</td>\n",
       "      <td>Blm pernah terjadi di dunia sekalipun. 3 Presiden pilihan rakyat begitu asik bernyanyi trio dgn mengenakan seragam militer. @prabowo @jokowi dan @SBYudhoyono . Meskipun Pak Jokowi kurang hapal lagunya https://t.co/FDeXA046JE</td>\n",
       "      <td>1,89525E+18</td>\n",
       "      <td>https://pbs.twimg.com/ext_tw_video_thumb/1895253045224833024/pu/img/WuhA8O50iula-9iM.jpg</td>\n",
       "      <td>NaN</td>\n",
       "      <td>in</td>\n",
       "      <td>DKI Jakarta, Indonesia</td>\n",
       "      <td>41.0</td>\n",
       "      <td>382.0</td>\n",
       "      <td>125.0</td>\n",
       "      <td>https://x.com/Franken_blues/status/1895253077802000606</td>\n",
       "      <td>1,30124E+18</td>\n",
       "      <td>Franken_blues</td>\n",
       "      <td>NaN</td>\n",
       "    </tr>\n",
       "    <tr>\n",
       "      <th>457</th>\n",
       "      <td>1,89525E+18</td>\n",
       "      <td>Thu Feb 27 22:50:59 +0000 2025</td>\n",
       "      <td>121.0</td>\n",
       "      <td>Kesempatan langka Bpk Presiden Prabowo berbicara di hadapan anak bangsa terbaik Anak Bu Mega Anak Pak SBY Anak Pak Jokowi Beliau sendiri mantan menantu Presiden dan anak Menteri Obrolannya msh tentang bergiliran kuasa Di tengah segala masalah bangsa kita ikut tepuk tangan</td>\n",
       "      <td>1,89525E+18</td>\n",
       "      <td>NaN</td>\n",
       "      <td>NaN</td>\n",
       "      <td>in</td>\n",
       "      <td>Sumbermanjing</td>\n",
       "      <td>2.0</td>\n",
       "      <td>3.0</td>\n",
       "      <td>68.0</td>\n",
       "      <td>https://x.com/Outstandjing/status/1895245272172896614</td>\n",
       "      <td>59363362</td>\n",
       "      <td>Outstandjing</td>\n",
       "      <td>NaN</td>\n",
       "    </tr>\n",
       "    <tr>\n",
       "      <th>458</th>\n",
       "      <td>1,89522E+18</td>\n",
       "      <td>Thu Feb 27 21:24:59 +0000 2025</td>\n",
       "      <td>212.0</td>\n",
       "      <td>3 Oktober 2011 dan saat belum berkuasa menjadi Presiden Republik Indonesia bapak @prabowo pernah menyatakan dukungan hukuman mati bagi Koruptor. Kini Saatnya bapak buktikan pada dunia bahwa bapak bukan seorang politikus busuk yang mengoceh saat belum berkuasa namun ketika https://t.co/Oli1AZlXsz</td>\n",
       "      <td>1,89522E+18</td>\n",
       "      <td>https://pbs.twimg.com/media/Gk0v2DBWsAABvzo.jpg</td>\n",
       "      <td>NaN</td>\n",
       "      <td>in</td>\n",
       "      <td>Indonesia</td>\n",
       "      <td>3.0</td>\n",
       "      <td>31.0</td>\n",
       "      <td>98.0</td>\n",
       "      <td>https://x.com/Nicho_Silalahi/status/1895223630050795537</td>\n",
       "      <td>75519742</td>\n",
       "      <td>Nicho_Silalahi</td>\n",
       "      <td>NaN</td>\n",
       "    </tr>\n",
       "    <tr>\n",
       "      <th>459</th>\n",
       "      <td>1,89515E+18</td>\n",
       "      <td>Thu Feb 27 16:36:15 +0000 2025</td>\n",
       "      <td>72.0</td>\n",
       "      <td>Kadrun sudah mulai turun ke jalan artinya Presiden Prabowo sdh di jalan yang benar</td>\n",
       "      <td>1,89515E+18</td>\n",
       "      <td>NaN</td>\n",
       "      <td>NaN</td>\n",
       "      <td>in</td>\n",
       "      <td>di bawah langit tanpa batas</td>\n",
       "      <td>3.0</td>\n",
       "      <td>50.0</td>\n",
       "      <td>17.0</td>\n",
       "      <td>https://x.com/silent_night21/status/1895150965592072438</td>\n",
       "      <td>1,86108E+18</td>\n",
       "      <td>silent_night21</td>\n",
       "      <td>NaN</td>\n",
       "    </tr>\n",
       "    <tr>\n",
       "      <th>460</th>\n",
       "      <td>1,89513E+18</td>\n",
       "      <td>Thu Feb 27 14:59:26 +0000 2025</td>\n",
       "      <td>95.0</td>\n",
       "      <td>Pengelolaan hutan bukan sekadar memiliki izin tetapi tentang tanggung jawab. Dalam Rapat Kerja bersama Komisi IV DPR RI saya menegaskan bahwa @kemenhut_ri akan terus menertibkan dan mencabut PBPH yang tidak menjalankan kewajibannya sesuai perintah Presiden @prabowo. Hingga https://t.co/3vNnmKBebf</td>\n",
       "      <td>1,89513E+18</td>\n",
       "      <td>https://pbs.twimg.com/ext_tw_video_thumb/1895126502640947200/pu/img/nZ267Cg1bZ1CV1H6.jpg</td>\n",
       "      <td>NaN</td>\n",
       "      <td>in</td>\n",
       "      <td>Jakarta</td>\n",
       "      <td>11.0</td>\n",
       "      <td>138.0</td>\n",
       "      <td>25.0</td>\n",
       "      <td>https://x.com/RajaJuliAntoni/status/1895126604118114318</td>\n",
       "      <td>438832278</td>\n",
       "      <td>RajaJuliAntoni</td>\n",
       "      <td>NaN</td>\n",
       "    </tr>\n",
       "  </tbody>\n",
       "</table>\n",
       "</div>"
      ],
      "text/plain": [
       "    conversation_id_str                      created_at  favorite_count  \\\n",
       "456         1,89525E+18  Thu Feb 27 23:22:00 +0000 2025           700.0   \n",
       "457         1,89525E+18  Thu Feb 27 22:50:59 +0000 2025           121.0   \n",
       "458         1,89522E+18  Thu Feb 27 21:24:59 +0000 2025           212.0   \n",
       "459         1,89515E+18  Thu Feb 27 16:36:15 +0000 2025            72.0   \n",
       "460         1,89513E+18  Thu Feb 27 14:59:26 +0000 2025            95.0   \n",
       "\n",
       "                                                                                                                                                                                                                                                                                                     full_text  \\\n",
       "456                                                                           Blm pernah terjadi di dunia sekalipun. 3 Presiden pilihan rakyat begitu asik bernyanyi trio dgn mengenakan seragam militer. @prabowo @jokowi dan @SBYudhoyono . Meskipun Pak Jokowi kurang hapal lagunya https://t.co/FDeXA046JE   \n",
       "457                           Kesempatan langka Bpk Presiden Prabowo berbicara di hadapan anak bangsa terbaik Anak Bu Mega Anak Pak SBY Anak Pak Jokowi Beliau sendiri mantan menantu Presiden dan anak Menteri Obrolannya msh tentang bergiliran kuasa Di tengah segala masalah bangsa kita ikut tepuk tangan   \n",
       "458   3 Oktober 2011 dan saat belum berkuasa menjadi Presiden Republik Indonesia bapak @prabowo pernah menyatakan dukungan hukuman mati bagi Koruptor. Kini Saatnya bapak buktikan pada dunia bahwa bapak bukan seorang politikus busuk yang mengoceh saat belum berkuasa namun ketika https://t.co/Oli1AZlXsz   \n",
       "459                                                                                                                                                                                                                        Kadrun sudah mulai turun ke jalan artinya Presiden Prabowo sdh di jalan yang benar    \n",
       "460  Pengelolaan hutan bukan sekadar memiliki izin tetapi tentang tanggung jawab. Dalam Rapat Kerja bersama Komisi IV DPR RI saya menegaskan bahwa @kemenhut_ri akan terus menertibkan dan mencabut PBPH yang tidak menjalankan kewajibannya sesuai perintah Presiden @prabowo. Hingga https://t.co/3vNnmKBebf   \n",
       "\n",
       "          id_str  \\\n",
       "456  1,89525E+18   \n",
       "457  1,89525E+18   \n",
       "458  1,89522E+18   \n",
       "459  1,89515E+18   \n",
       "460  1,89513E+18   \n",
       "\n",
       "                                                                                    image_url  \\\n",
       "456  https://pbs.twimg.com/ext_tw_video_thumb/1895253045224833024/pu/img/WuhA8O50iula-9iM.jpg   \n",
       "457                                                                                       NaN   \n",
       "458                                           https://pbs.twimg.com/media/Gk0v2DBWsAABvzo.jpg   \n",
       "459                                                                                       NaN   \n",
       "460  https://pbs.twimg.com/ext_tw_video_thumb/1895126502640947200/pu/img/nZ267Cg1bZ1CV1H6.jpg   \n",
       "\n",
       "    in_reply_to_screen_name lang                     location  quote_count  \\\n",
       "456                     NaN   in       DKI Jakarta, Indonesia         41.0   \n",
       "457                     NaN   in                Sumbermanjing          2.0   \n",
       "458                     NaN   in                    Indonesia          3.0   \n",
       "459                     NaN   in  di bawah langit tanpa batas          3.0   \n",
       "460                     NaN   in                      Jakarta         11.0   \n",
       "\n",
       "     reply_count  retweet_count  \\\n",
       "456        382.0          125.0   \n",
       "457          3.0           68.0   \n",
       "458         31.0           98.0   \n",
       "459         50.0           17.0   \n",
       "460        138.0           25.0   \n",
       "\n",
       "                                                   tweet_url  user_id_str  \\\n",
       "456   https://x.com/Franken_blues/status/1895253077802000606  1,30124E+18   \n",
       "457    https://x.com/Outstandjing/status/1895245272172896614     59363362   \n",
       "458  https://x.com/Nicho_Silalahi/status/1895223630050795537     75519742   \n",
       "459  https://x.com/silent_night21/status/1895150965592072438  1,86108E+18   \n",
       "460  https://x.com/RajaJuliAntoni/status/1895126604118114318    438832278   \n",
       "\n",
       "           username  \\\n",
       "456   Franken_blues   \n",
       "457    Outstandjing   \n",
       "458  Nicho_Silalahi   \n",
       "459  silent_night21   \n",
       "460  RajaJuliAntoni   \n",
       "\n",
       "    conversation_id_str;created_at;favorite_count;full_text;id_str;image_url;in_reply_to_screen_name;lang;location;quote_count;reply_count;retweet_count;tweet_url;user_id_str;username;label  \n",
       "456                                                                                                                                                                                       NaN  \n",
       "457                                                                                                                                                                                       NaN  \n",
       "458                                                                                                                                                                                       NaN  \n",
       "459                                                                                                                                                                                       NaN  \n",
       "460                                                                                                                                                                                       NaN  "
      ]
     },
     "execution_count": 21,
     "metadata": {},
     "output_type": "execute_result"
    }
   ],
   "source": [
    "df1.drop(columns='conversation_id_str;created_at;favorite_count;full_text;id_str;image_url;in_reply_to_screen_name;lang;location;quote_count;reply_count;retweet_count;tweet_url;user_id_str;username', inplace=True)\n",
    "df1.head()"
   ]
  },
  {
   "cell_type": "code",
   "execution_count": 26,
   "id": "f937d0de",
   "metadata": {},
   "outputs": [],
   "source": [
    "df1.drop_duplicates(inplace=True)"
   ]
  },
  {
   "cell_type": "code",
   "execution_count": 27,
   "id": "656a3ed1",
   "metadata": {},
   "outputs": [
    {
     "data": {
      "text/plain": [
       "0"
      ]
     },
     "execution_count": 27,
     "metadata": {},
     "output_type": "execute_result"
    }
   ],
   "source": [
    "df1.duplicated().sum()"
   ]
  },
  {
   "cell_type": "code",
   "execution_count": 29,
   "id": "705e4432",
   "metadata": {},
   "outputs": [
    {
     "name": "stdout",
     "output_type": "stream",
     "text": [
      "<class 'pandas.core.frame.DataFrame'>\n",
      "Index: 3213 entries, 456 to 12187\n",
      "Data columns (total 15 columns):\n",
      " #   Column                   Non-Null Count  Dtype  \n",
      "---  ------                   --------------  -----  \n",
      " 0   conversation_id_str      3213 non-null   object \n",
      " 1   created_at               3213 non-null   object \n",
      " 2   favorite_count           3213 non-null   float64\n",
      " 3   full_text                3213 non-null   object \n",
      " 4   id_str                   3213 non-null   object \n",
      " 5   image_url                2029 non-null   object \n",
      " 6   in_reply_to_screen_name  571 non-null    object \n",
      " 7   lang                     3213 non-null   object \n",
      " 8   location                 1476 non-null   object \n",
      " 9   quote_count              3213 non-null   float64\n",
      " 10  reply_count              3213 non-null   float64\n",
      " 11  retweet_count            3213 non-null   float64\n",
      " 12  tweet_url                3213 non-null   object \n",
      " 13  user_id_str              3213 non-null   object \n",
      " 14  username                 2531 non-null   object \n",
      "dtypes: float64(4), object(11)\n",
      "memory usage: 401.6+ KB\n"
     ]
    }
   ],
   "source": [
    "df1.drop(columns='conversation_id_str;created_at;favorite_count;full_text;id_str;image_url;in_reply_to_screen_name;lang;location;quote_count;reply_count;retweet_count;tweet_url;user_id_str;username;label', inplace=True)\n",
    "df1.info()"
   ]
  },
  {
   "cell_type": "code",
   "execution_count": 30,
   "id": "66fb273d",
   "metadata": {},
   "outputs": [],
   "source": [
    "df1.to_csv('dataset/df_20like.csv')"
=======
   "execution_count": 35,
   "id": "3aa11e63",
   "metadata": {},
   "outputs": [
    {
     "ename": "ImportError",
     "evalue": "\nAutoModelForSequenceClassification requires the PyTorch library but it was not found in your environment.\nHowever, we were able to find a TensorFlow installation. TensorFlow classes begin\nwith \"TF\", but are otherwise identically named to our PyTorch classes. This\nmeans that the TF equivalent of the class you tried to import would be \"TFAutoModelForSequenceClassification\".\nIf you want to use TensorFlow, please use TF classes instead!\n\nIf you really do want to use PyTorch please go to\nhttps://pytorch.org/get-started/locally/ and follow the instructions that\nmatch your environment.\n",
     "output_type": "error",
     "traceback": [
      "\u001b[1;31m---------------------------------------------------------------------------\u001b[0m",
      "\u001b[1;31mImportError\u001b[0m                               Traceback (most recent call last)",
      "Cell \u001b[1;32mIn[35], line 8\u001b[0m\n\u001b[0;32m      6\u001b[0m model_name \u001b[38;5;241m=\u001b[39m \u001b[38;5;124m\"\u001b[39m\u001b[38;5;124mindobenchmark/indobert-base-p1\u001b[39m\u001b[38;5;124m\"\u001b[39m  \u001b[38;5;66;03m# atau model fine-tuned\u001b[39;00m\n\u001b[0;32m      7\u001b[0m tokenizer \u001b[38;5;241m=\u001b[39m AutoTokenizer\u001b[38;5;241m.\u001b[39mfrom_pretrained(model_name)\n\u001b[1;32m----> 8\u001b[0m model \u001b[38;5;241m=\u001b[39m \u001b[43mAutoModelForSequenceClassification\u001b[49m\u001b[38;5;241;43m.\u001b[39;49m\u001b[43mfrom_pretrained\u001b[49m(\u001b[38;5;124m\"\u001b[39m\u001b[38;5;124mw11wo/indonesian-roberta-base-sentiment-classifier\u001b[39m\u001b[38;5;124m\"\u001b[39m)  \u001b[38;5;66;03m# contoh fine-tuned sentiment model\u001b[39;00m\n\u001b[0;32m     10\u001b[0m \u001b[38;5;66;03m# Buat pipeline klasifikasi\u001b[39;00m\n\u001b[0;32m     11\u001b[0m nlp \u001b[38;5;241m=\u001b[39m pipeline(\u001b[38;5;124m\"\u001b[39m\u001b[38;5;124msentiment-analysis\u001b[39m\u001b[38;5;124m\"\u001b[39m, model\u001b[38;5;241m=\u001b[39mmodel, tokenizer\u001b[38;5;241m=\u001b[39mtokenizer)\n",
      "File \u001b[1;32mc:\\Users\\akmal\\anaconda3\\envs\\keras_env\\lib\\site-packages\\transformers\\utils\\import_utils.py:1651\u001b[0m, in \u001b[0;36mDummyObject.__getattribute__\u001b[1;34m(cls, key)\u001b[0m\n\u001b[0;32m   1649\u001b[0m \u001b[38;5;28;01mif\u001b[39;00m key\u001b[38;5;241m.\u001b[39mstartswith(\u001b[38;5;124m\"\u001b[39m\u001b[38;5;124m_\u001b[39m\u001b[38;5;124m\"\u001b[39m) \u001b[38;5;129;01mand\u001b[39;00m key \u001b[38;5;241m!=\u001b[39m \u001b[38;5;124m\"\u001b[39m\u001b[38;5;124m_from_config\u001b[39m\u001b[38;5;124m\"\u001b[39m:\n\u001b[0;32m   1650\u001b[0m     \u001b[38;5;28;01mreturn\u001b[39;00m \u001b[38;5;28msuper\u001b[39m()\u001b[38;5;241m.\u001b[39m\u001b[38;5;21m__getattribute__\u001b[39m(key)\n\u001b[1;32m-> 1651\u001b[0m \u001b[43mrequires_backends\u001b[49m\u001b[43m(\u001b[49m\u001b[38;5;28;43mcls\u001b[39;49m\u001b[43m,\u001b[49m\u001b[43m \u001b[49m\u001b[38;5;28;43mcls\u001b[39;49m\u001b[38;5;241;43m.\u001b[39;49m\u001b[43m_backends\u001b[49m\u001b[43m)\u001b[49m\n",
      "File \u001b[1;32mc:\\Users\\akmal\\anaconda3\\envs\\keras_env\\lib\\site-packages\\transformers\\utils\\import_utils.py:1630\u001b[0m, in \u001b[0;36mrequires_backends\u001b[1;34m(obj, backends)\u001b[0m\n\u001b[0;32m   1628\u001b[0m \u001b[38;5;66;03m# Raise an error for users who might not realize that classes without \"TF\" are torch-only\u001b[39;00m\n\u001b[0;32m   1629\u001b[0m \u001b[38;5;28;01mif\u001b[39;00m \u001b[38;5;124m\"\u001b[39m\u001b[38;5;124mtorch\u001b[39m\u001b[38;5;124m\"\u001b[39m \u001b[38;5;129;01min\u001b[39;00m backends \u001b[38;5;129;01mand\u001b[39;00m \u001b[38;5;124m\"\u001b[39m\u001b[38;5;124mtf\u001b[39m\u001b[38;5;124m\"\u001b[39m \u001b[38;5;129;01mnot\u001b[39;00m \u001b[38;5;129;01min\u001b[39;00m backends \u001b[38;5;129;01mand\u001b[39;00m \u001b[38;5;129;01mnot\u001b[39;00m is_torch_available() \u001b[38;5;129;01mand\u001b[39;00m is_tf_available():\n\u001b[1;32m-> 1630\u001b[0m     \u001b[38;5;28;01mraise\u001b[39;00m \u001b[38;5;167;01mImportError\u001b[39;00m(PYTORCH_IMPORT_ERROR_WITH_TF\u001b[38;5;241m.\u001b[39mformat(name))\n\u001b[0;32m   1632\u001b[0m \u001b[38;5;66;03m# Raise the inverse error for PyTorch users trying to load TF classes\u001b[39;00m\n\u001b[0;32m   1633\u001b[0m \u001b[38;5;28;01mif\u001b[39;00m \u001b[38;5;124m\"\u001b[39m\u001b[38;5;124mtf\u001b[39m\u001b[38;5;124m\"\u001b[39m \u001b[38;5;129;01min\u001b[39;00m backends \u001b[38;5;129;01mand\u001b[39;00m \u001b[38;5;124m\"\u001b[39m\u001b[38;5;124mtorch\u001b[39m\u001b[38;5;124m\"\u001b[39m \u001b[38;5;129;01mnot\u001b[39;00m \u001b[38;5;129;01min\u001b[39;00m backends \u001b[38;5;129;01mand\u001b[39;00m is_torch_available() \u001b[38;5;129;01mand\u001b[39;00m \u001b[38;5;129;01mnot\u001b[39;00m is_tf_available():\n",
      "\u001b[1;31mImportError\u001b[0m: \nAutoModelForSequenceClassification requires the PyTorch library but it was not found in your environment.\nHowever, we were able to find a TensorFlow installation. TensorFlow classes begin\nwith \"TF\", but are otherwise identically named to our PyTorch classes. This\nmeans that the TF equivalent of the class you tried to import would be \"TFAutoModelForSequenceClassification\".\nIf you want to use TensorFlow, please use TF classes instead!\n\nIf you really do want to use PyTorch please go to\nhttps://pytorch.org/get-started/locally/ and follow the instructions that\nmatch your environment.\n"
     ]
    }
   ],
   "source": [
    "from transformers import AutoTokenizer, AutoModelForSequenceClassification\n",
    "from transformers import pipeline\n",
    "import pandas as pd\n",
    "\n",
    "# Load model IndoBERT klasifikasi sentimen (pre-trained)\n",
    "model_name = \"indobenchmark/indobert-base-p1\"  # atau model fine-tuned\n",
    "tokenizer = AutoTokenizer.from_pretrained(model_name)\n",
    "model = AutoModelForSequenceClassification.from_pretrained(\"w11wo/indonesian-roberta-base-sentiment-classifier\")  # contoh fine-tuned sentiment model\n",
    "\n",
    "# Buat pipeline klasifikasi\n",
    "nlp = pipeline(\"sentiment-analysis\", model=model, tokenizer=tokenizer)\n",
    "\n",
    "# Prediksi otomatis\n",
    "predictions = df['text'].apply(lambda x: nlp(x)[0])  # ambil hasil top-1\n",
    "\n",
    "# Tambahkan label ke dataframe\n",
    "df['label_1'] = predictions.apply(lambda x: x['label'])\n",
    "df['score'] = predictions.apply(lambda x: x['score'])\n",
    "\n",
    "# Simpan hasil\n",
    "df.head()\n"
>>>>>>> 9175bc88dd49777324fc852eb8f6690dab737c2f
   ]
  }
 ],
 "metadata": {
  "kernelspec": {
   "display_name": "Python 3",
   "language": "python",
   "name": "python3"
  },
  "language_info": {
   "codemirror_mode": {
    "name": "ipython",
    "version": 3
   },
   "file_extension": ".py",
   "mimetype": "text/x-python",
   "name": "python",
   "nbconvert_exporter": "python",
   "pygments_lexer": "ipython3",
   "version": "3.8.18"
  }
 },
 "nbformat": 4,
 "nbformat_minor": 5
}
