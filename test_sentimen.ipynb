{
 "cells": [
  {
   "cell_type": "code",
   "execution_count": 1,
   "id": "d2994888",
   "metadata": {},
   "outputs": [],
   "source": [
    "import re\n",
    "from Sastrawi.Stemmer.StemmerFactory import StemmerFactory\n",
    "from nltk.corpus import stopwords\n",
    "from nltk.tokenize import word_tokenize\n",
    "\n",
    "factory = StemmerFactory()\n",
    "stemmer = factory.create_stemmer()\n",
    "stop_words = set(stopwords.words('indonesian'))\n",
    "\n",
    "mention_whitelist = ['prabowo']\n",
    "\n",
    "normalisasi_kata = {'gak': 'tidak','ga': 'tidak','yg': 'yang','utk': 'untuk',\n",
    "    'dgn': 'dengan','apik': 'baik','sdh': 'sudah','krn': 'karena',\n",
    "    'apik': 'bagus','tdk': 'tidak','klo': 'kalo','sbg': 'sebagai',\n",
    "    'gue': 'aku','dlm': 'dalam','jgn': 'jangan','jkw': 'jokowi','org': 'orang',\n",
    "    'nggak': 'tidak','aja': '','amp': '','nya': '','ya': '','gitu': '','loh': '',\n",
    "    'dong': '','sih': '','deh': '','nih': '','kok': '',\n",
    "}\n",
    "\n",
    "def preprocessing(text):\n",
    "    text = re.sub(r'@(\\w+)', lambda m: m.group() if m.group(1).lower() in mention_whitelist else '', text)\n",
    "\n",
    "    text = re.sub(r'http\\S+|www\\S+|<.*?>|#', ' ', text)\n",
    "    \n",
    "    text = re.sub(r'<.*?>', '', text)\n",
    "\n",
    "    # non-huruf (angka, simbol)\n",
    "    text = re.sub(r'[^a-zA-Z\\s]', ' ', text)\n",
    "    \n",
    "    text = text.lower()\n",
    "\n",
    "    # Tokenisasi\n",
    "    tokens = word_tokenize(text)\n",
    "\n",
    "    # Normalisasi kata informal\n",
    "    tokens = [normalisasi_kata.get(word, word) for word in tokens]\n",
    "\n",
    "    tokens = [word for word in tokens if word not in stop_words and len(word) > 2 and word != '']\n",
    "\n",
    "    tokens = [stemmer.stem(word) for word in tokens]\n",
    "    \n",
    "    return ' '.join(tokens)\n"
   ]
  },
  {
   "cell_type": "code",
   "execution_count": 2,
   "id": "5486a304",
   "metadata": {},
   "outputs": [],
   "source": [
    "import pickle\n",
    "with open(\"sentiment_app/tokenizer.pkl\", \"rb\") as f:\n",
    "    tokenizer = pickle.load(f)"
   ]
  },
  {
   "cell_type": "code",
   "execution_count": 5,
   "id": "d6d271aa",
   "metadata": {},
   "outputs": [
    {
     "name": "stdout",
     "output_type": "stream",
     "text": [
      "1/1 [==============================] - 3s 3s/step\n",
      "Teks: prabowo kinerjanya bagus, ia akan menjadi presiden terbaik\n",
      "Prediksi Kelas: 1 → Positif\n"
     ]
    }
   ],
   "source": [
    "import numpy as np\n",
    "from tensorflow.keras.models import load_model\n",
    "from tensorflow.keras.preprocessing.sequence import pad_sequences\n",
    "\n",
    "label_map = {0: \"Netral\", 1: \"Positif\", 2: \"Negatif\"}\n",
    "best_model = load_model(\"models/best_model_LSTM.h5\")\n",
    "\n",
    "MAX_LEN = 36\n",
    "\n",
    "def predict_text(text):\n",
    "    clean_text = preprocessing(text)\n",
    "    sequence = tokenizer.texts_to_sequences([clean_text])\n",
    "    padded = pad_sequences(sequence, maxlen=MAX_LEN, padding='post', truncating='post')\n",
    "    prediction = best_model.predict(padded)\n",
    "    predicted_class = np.argmax(prediction)\n",
    "    \n",
    "    print(f\"Teks: {text}\")\n",
    "    print(f\"Prediksi Kelas: {predicted_class} → {label_map[predicted_class]}\")\n",
    "\n",
    "text = 'prabowo kinerjanya bagus, ia akan menjadi presiden terbaik' \n",
    "predict_text(text)"
   ]
  }
 ],
 "metadata": {
  "kernelspec": {
   "display_name": "keras_env",
   "language": "python",
   "name": "python3"
  },
  "language_info": {
   "codemirror_mode": {
    "name": "ipython",
    "version": 3
   },
   "file_extension": ".py",
   "mimetype": "text/x-python",
   "name": "python",
   "nbconvert_exporter": "python",
   "pygments_lexer": "ipython3",
   "version": "3.8.18"
  }
 },
 "nbformat": 4,
 "nbformat_minor": 5
}
