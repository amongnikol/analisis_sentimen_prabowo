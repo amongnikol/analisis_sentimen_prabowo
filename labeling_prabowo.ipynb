{
 "cells": [
  {
   "cell_type": "code",
   "execution_count": 19,
   "id": "22cdf32d",
   "metadata": {},
   "outputs": [
    {
     "data": {
      "text/html": [
       "<div>\n",
       "<style scoped>\n",
       "    .dataframe tbody tr th:only-of-type {\n",
       "        vertical-align: middle;\n",
       "    }\n",
       "\n",
       "    .dataframe tbody tr th {\n",
       "        vertical-align: top;\n",
       "    }\n",
       "\n",
       "    .dataframe thead th {\n",
       "        text-align: right;\n",
       "    }\n",
       "</style>\n",
       "<table border=\"1\" class=\"dataframe\">\n",
       "  <thead>\n",
       "    <tr style=\"text-align: right;\">\n",
       "      <th></th>\n",
       "      <th>full_text</th>\n",
       "      <th>label</th>\n",
       "    </tr>\n",
       "  </thead>\n",
       "  <tbody>\n",
       "    <tr>\n",
       "      <th>0</th>\n",
       "      <td>So sweet Pak Prabowo dapat hadiah patung kucin...</td>\n",
       "      <td>positive</td>\n",
       "    </tr>\n",
       "    <tr>\n",
       "      <th>1</th>\n",
       "      <td>@jilulisme Dari pas doi dki 1 udah kerasa pend...</td>\n",
       "      <td>positive</td>\n",
       "    </tr>\n",
       "    <tr>\n",
       "      <th>2</th>\n",
       "      <td>@AnKiiim_ Mohon Perhatiannya Pak @prabowo Bang...</td>\n",
       "      <td>positive</td>\n",
       "    </tr>\n",
       "    <tr>\n",
       "      <th>3</th>\n",
       "      <td>@prabowo Kami senang-bangga Bpk Presiden di sa...</td>\n",
       "      <td>positive</td>\n",
       "    </tr>\n",
       "    <tr>\n",
       "      <th>4</th>\n",
       "      <td>@hipohan Kami sbg warga Jabar masih percaya ko...</td>\n",
       "      <td>positive</td>\n",
       "    </tr>\n",
       "  </tbody>\n",
       "</table>\n",
       "</div>"
      ],
      "text/plain": [
       "                                           full_text     label\n",
       "0  So sweet Pak Prabowo dapat hadiah patung kucin...  positive\n",
       "1  @jilulisme Dari pas doi dki 1 udah kerasa pend...  positive\n",
       "2  @AnKiiim_ Mohon Perhatiannya Pak @prabowo Bang...  positive\n",
       "3  @prabowo Kami senang-bangga Bpk Presiden di sa...  positive\n",
       "4  @hipohan Kami sbg warga Jabar masih percaya ko...  positive"
      ]
     },
     "execution_count": 19,
     "metadata": {},
     "output_type": "execute_result"
    }
   ],
   "source": [
    "import pandas as pd\n",
    "df = pd.read_csv('prabowo_text.csv')\n",
    "df.head()"
   ]
  },
  {
   "cell_type": "code",
   "execution_count": 20,
   "id": "a0939851",
   "metadata": {},
   "outputs": [
    {
     "name": "stdout",
     "output_type": "stream",
     "text": [
      "<class 'pandas.core.frame.DataFrame'>\n",
      "RangeIndex: 4135 entries, 0 to 4134\n",
      "Data columns (total 2 columns):\n",
      " #   Column     Non-Null Count  Dtype \n",
      "---  ------     --------------  ----- \n",
      " 0   full_text  4135 non-null   object\n",
      " 1   label      4135 non-null   object\n",
      "dtypes: object(2)\n",
      "memory usage: 64.7+ KB\n"
     ]
    }
   ],
   "source": [
    "df.info()"
   ]
  },
  {
   "cell_type": "code",
   "execution_count": 21,
   "id": "d5599fde",
   "metadata": {},
   "outputs": [
    {
     "data": {
      "text/html": [
       "<div>\n",
       "<style scoped>\n",
       "    .dataframe tbody tr th:only-of-type {\n",
       "        vertical-align: middle;\n",
       "    }\n",
       "\n",
       "    .dataframe tbody tr th {\n",
       "        vertical-align: top;\n",
       "    }\n",
       "\n",
       "    .dataframe thead th {\n",
       "        text-align: right;\n",
       "    }\n",
       "</style>\n",
       "<table border=\"1\" class=\"dataframe\">\n",
       "  <thead>\n",
       "    <tr style=\"text-align: right;\">\n",
       "      <th></th>\n",
       "      <th>full_text</th>\n",
       "      <th>label</th>\n",
       "    </tr>\n",
       "  </thead>\n",
       "  <tbody>\n",
       "    <tr>\n",
       "      <th>0</th>\n",
       "      <td>So sweet Pak Prabowo dapat hadiah patung kucin...</td>\n",
       "      <td>LABEL_0</td>\n",
       "    </tr>\n",
       "    <tr>\n",
       "      <th>1</th>\n",
       "      <td>@jilulisme Dari pas doi dki 1 udah kerasa pend...</td>\n",
       "      <td>LABEL_0</td>\n",
       "    </tr>\n",
       "    <tr>\n",
       "      <th>2</th>\n",
       "      <td>@AnKiiim_ Mohon Perhatiannya Pak @prabowo Bang...</td>\n",
       "      <td>LABEL_0</td>\n",
       "    </tr>\n",
       "    <tr>\n",
       "      <th>3</th>\n",
       "      <td>@prabowo Kami senang-bangga Bpk Presiden di sa...</td>\n",
       "      <td>LABEL_0</td>\n",
       "    </tr>\n",
       "    <tr>\n",
       "      <th>4</th>\n",
       "      <td>@hipohan Kami sbg warga Jabar masih percaya ko...</td>\n",
       "      <td>LABEL_0</td>\n",
       "    </tr>\n",
       "  </tbody>\n",
       "</table>\n",
       "</div>"
      ],
      "text/plain": [
       "                                           full_text    label\n",
       "0  So sweet Pak Prabowo dapat hadiah patung kucin...  LABEL_0\n",
       "1  @jilulisme Dari pas doi dki 1 udah kerasa pend...  LABEL_0\n",
       "2  @AnKiiim_ Mohon Perhatiannya Pak @prabowo Bang...  LABEL_0\n",
       "3  @prabowo Kami senang-bangga Bpk Presiden di sa...  LABEL_0\n",
       "4  @hipohan Kami sbg warga Jabar masih percaya ko...  LABEL_0"
      ]
     },
     "execution_count": 21,
     "metadata": {},
     "output_type": "execute_result"
    }
   ],
   "source": [
    "from transformers import AutoTokenizer, AutoModelForSequenceClassification, pipeline\n",
    "import torch\n",
    "\n",
    "model_name = \"mdhugol/indonesia-bert-sentiment-classification\"\n",
    "tokenizer = AutoTokenizer.from_pretrained(model_name)\n",
    "model = AutoModelForSequenceClassification.from_pretrained(model_name)\n",
    "\n",
    "sentiment_pipeline = pipeline(\"sentiment-analysis\", model=model, tokenizer=tokenizer)\n",
    "\n",
    "# Labelkan datanya\n",
    "df['label'] = df['full_text'].apply(lambda x: sentiment_pipeline(x)[0]['label'])\n",
    "\n",
    "df.head()\n"
   ]
  },
  {
   "cell_type": "code",
   "execution_count": 6,
   "id": "f775055c",
   "metadata": {},
   "outputs": [
    {
     "data": {
      "text/html": [
       "<div>\n",
       "<style scoped>\n",
       "    .dataframe tbody tr th:only-of-type {\n",
       "        vertical-align: middle;\n",
       "    }\n",
       "\n",
       "    .dataframe tbody tr th {\n",
       "        vertical-align: top;\n",
       "    }\n",
       "\n",
       "    .dataframe thead th {\n",
       "        text-align: right;\n",
       "    }\n",
       "</style>\n",
       "<table border=\"1\" class=\"dataframe\">\n",
       "  <thead>\n",
       "    <tr style=\"text-align: right;\">\n",
       "      <th></th>\n",
       "      <th>full_text</th>\n",
       "      <th>label</th>\n",
       "    </tr>\n",
       "  </thead>\n",
       "  <tbody>\n",
       "    <tr>\n",
       "      <th>0</th>\n",
       "      <td>Anggota DPR Komisi II Komarudin WatoBun menila...</td>\n",
       "      <td>neutral</td>\n",
       "    </tr>\n",
       "    <tr>\n",
       "      <th>1</th>\n",
       "      <td>Senin sore (28/4) saya menghadiri undangan per...</td>\n",
       "      <td>neutral</td>\n",
       "    </tr>\n",
       "    <tr>\n",
       "      <th>2</th>\n",
       "      <td>Dulu LBP bgitu kejam ke Presiden @prabowo bahk...</td>\n",
       "      <td>negative</td>\n",
       "    </tr>\n",
       "    <tr>\n",
       "      <th>3</th>\n",
       "      <td>Karena saya cinta Polri makanya saya kritik. U...</td>\n",
       "      <td>neutral</td>\n",
       "    </tr>\n",
       "    <tr>\n",
       "      <th>4</th>\n",
       "      <td>Setuju untuk mas Angga Raka Prabowo menjadi Ju...</td>\n",
       "      <td>positive</td>\n",
       "    </tr>\n",
       "  </tbody>\n",
       "</table>\n",
       "</div>"
      ],
      "text/plain": [
       "                                           full_text     label\n",
       "0  Anggota DPR Komisi II Komarudin WatoBun menila...   neutral\n",
       "1  Senin sore (28/4) saya menghadiri undangan per...   neutral\n",
       "2  Dulu LBP bgitu kejam ke Presiden @prabowo bahk...  negative\n",
       "3  Karena saya cinta Polri makanya saya kritik. U...   neutral\n",
       "4  Setuju untuk mas Angga Raka Prabowo menjadi Ju...  positive"
      ]
     },
     "execution_count": 6,
     "metadata": {},
     "output_type": "execute_result"
    }
   ],
   "source": [
    "label_mapping = {'LABEL_0': 'positive', 'LABEL_1': 'neutral', 'LABEL_2': 'negative'}\n",
    "df['label'] = df['label'].map(label_mapping)\n",
    "df.head()\n",
    "\n"
   ]
  },
  {
   "cell_type": "code",
   "execution_count": 7,
   "id": "5df630cb",
   "metadata": {},
   "outputs": [
    {
     "data": {
      "text/plain": [
       "label\n",
       "neutral     1971\n",
       "negative    1450\n",
       "positive     280\n",
       "Name: count, dtype: int64"
      ]
     },
     "execution_count": 7,
     "metadata": {},
     "output_type": "execute_result"
    }
   ],
   "source": [
    "df['label'].value_counts()"
   ]
  },
  {
   "cell_type": "code",
   "execution_count": 8,
   "id": "0cb480ef",
   "metadata": {},
   "outputs": [],
   "source": [
    "df.to_csv(\"dataset/prabowo_text_labeled.csv\", index=False)"
   ]
  },
  {
   "cell_type": "code",
   "execution_count": 14,
   "id": "5fce6dc5",
   "metadata": {},
   "outputs": [
    {
     "name": "stdout",
     "output_type": "stream",
     "text": [
      "<class 'pandas.core.frame.DataFrame'>\n",
      "RangeIndex: 3701 entries, 0 to 3700\n",
      "Data columns (total 2 columns):\n",
      " #   Column     Non-Null Count  Dtype \n",
      "---  ------     --------------  ----- \n",
      " 0   full_text  3701 non-null   object\n",
      " 1   label      3701 non-null   object\n",
      "dtypes: object(2)\n",
      "memory usage: 58.0+ KB\n"
     ]
    }
   ],
   "source": [
    "df_prabowo1 = pd.read_csv('dataset/prabowo_text_labeled.csv')\n",
    "df_prabowo1.info()"
   ]
  },
  {
   "cell_type": "code",
   "execution_count": 15,
   "id": "0ec2d017",
   "metadata": {},
   "outputs": [
    {
     "name": "stdout",
     "output_type": "stream",
     "text": [
      "<class 'pandas.core.frame.DataFrame'>\n",
      "RangeIndex: 434 entries, 0 to 433\n",
      "Data columns (total 16 columns):\n",
      " #   Column                   Non-Null Count  Dtype  \n",
      "---  ------                   --------------  -----  \n",
      " 0   conversation_id_str      434 non-null    int64  \n",
      " 1   created_at               434 non-null    object \n",
      " 2   favorite_count           434 non-null    int64  \n",
      " 3   full_text                434 non-null    object \n",
      " 4   id_str                   434 non-null    int64  \n",
      " 5   image_url                86 non-null     object \n",
      " 6   in_reply_to_screen_name  293 non-null    object \n",
      " 7   lang                     434 non-null    object \n",
      " 8   location                 0 non-null      float64\n",
      " 9   quote_count              434 non-null    int64  \n",
      " 10  reply_count              434 non-null    int64  \n",
      " 11  retweet_count            434 non-null    int64  \n",
      " 12  tweet_url                434 non-null    object \n",
      " 13  user_id_str              434 non-null    int64  \n",
      " 14  username                 434 non-null    object \n",
      " 15  label                    434 non-null    object \n",
      "dtypes: float64(1), int64(7), object(8)\n",
      "memory usage: 54.4+ KB\n"
     ]
    }
   ],
   "source": [
    "df_p = pd.read_csv('dataset/df_prabowo_positive.csv', sep=';')\n",
    "df_p1 = pd.read_csv('dataset/df_prabowo_positive1.csv', sep=';')\n",
    "df_p2 = pd.read_csv('dataset/df_prabowo_positive2.csv', sep=';')\n",
    "df_p3 = pd.read_csv('dataset/df_prabowo_positive3.csv', sep=';')\n",
    "df_p4 = pd.read_csv('dataset/df_prabowo_positive4.csv', sep=';')\n",
    "\n",
    "df_prabowo = pd.concat([df_p, df_p1, df_p2, df_p3, df_p4], ignore_index=True)\n",
    "df_prabowo.info()"
   ]
  },
  {
   "cell_type": "code",
   "execution_count": 16,
   "id": "1d70e7f8",
   "metadata": {},
   "outputs": [
    {
     "data": {
      "text/html": [
       "<div>\n",
       "<style scoped>\n",
       "    .dataframe tbody tr th:only-of-type {\n",
       "        vertical-align: middle;\n",
       "    }\n",
       "\n",
       "    .dataframe tbody tr th {\n",
       "        vertical-align: top;\n",
       "    }\n",
       "\n",
       "    .dataframe thead th {\n",
       "        text-align: right;\n",
       "    }\n",
       "</style>\n",
       "<table border=\"1\" class=\"dataframe\">\n",
       "  <thead>\n",
       "    <tr style=\"text-align: right;\">\n",
       "      <th></th>\n",
       "      <th>full_text</th>\n",
       "      <th>label</th>\n",
       "    </tr>\n",
       "  </thead>\n",
       "  <tbody>\n",
       "    <tr>\n",
       "      <th>0</th>\n",
       "      <td>So sweet Pak Prabowo dapat hadiah patung kucin...</td>\n",
       "      <td>positive</td>\n",
       "    </tr>\n",
       "    <tr>\n",
       "      <th>1</th>\n",
       "      <td>@jilulisme Dari pas doi dki 1 udah kerasa pend...</td>\n",
       "      <td>positive</td>\n",
       "    </tr>\n",
       "    <tr>\n",
       "      <th>2</th>\n",
       "      <td>@AnKiiim_ Mohon Perhatiannya Pak @prabowo Bang...</td>\n",
       "      <td>positive</td>\n",
       "    </tr>\n",
       "    <tr>\n",
       "      <th>3</th>\n",
       "      <td>@prabowo Kami senang-bangga Bpk Presiden di sa...</td>\n",
       "      <td>positive</td>\n",
       "    </tr>\n",
       "    <tr>\n",
       "      <th>4</th>\n",
       "      <td>@hipohan Kami sbg warga Jabar masih percaya ko...</td>\n",
       "      <td>positive</td>\n",
       "    </tr>\n",
       "  </tbody>\n",
       "</table>\n",
       "</div>"
      ],
      "text/plain": [
       "                                           full_text     label\n",
       "0  So sweet Pak Prabowo dapat hadiah patung kucin...  positive\n",
       "1  @jilulisme Dari pas doi dki 1 udah kerasa pend...  positive\n",
       "2  @AnKiiim_ Mohon Perhatiannya Pak @prabowo Bang...  positive\n",
       "3  @prabowo Kami senang-bangga Bpk Presiden di sa...  positive\n",
       "4  @hipohan Kami sbg warga Jabar masih percaya ko...  positive"
      ]
     },
     "execution_count": 16,
     "metadata": {},
     "output_type": "execute_result"
    }
   ],
   "source": [
    "df_prabowo = df_prabowo[['full_text', 'label']]\n",
    "df_prabowo.head()"
   ]
  },
  {
   "cell_type": "code",
   "execution_count": 17,
   "id": "e3ef454b",
   "metadata": {},
   "outputs": [
    {
     "name": "stdout",
     "output_type": "stream",
     "text": [
      "<class 'pandas.core.frame.DataFrame'>\n",
      "Index: 4135 entries, 0 to 3700\n",
      "Data columns (total 2 columns):\n",
      " #   Column     Non-Null Count  Dtype \n",
      "---  ------     --------------  ----- \n",
      " 0   full_text  4135 non-null   object\n",
      " 1   label      4135 non-null   object\n",
      "dtypes: object(2)\n",
      "memory usage: 96.9+ KB\n"
     ]
    }
   ],
   "source": [
    "df_prabowo = pd.concat([df_prabowo, df_prabowo1])\n",
    "df_prabowo.info()"
   ]
  },
  {
   "cell_type": "code",
   "execution_count": 18,
   "id": "74fca201",
   "metadata": {},
   "outputs": [],
   "source": [
    "df_prabowo.to_csv(\"prabowo_text.csv\", index=False)"
   ]
  }
 ],
 "metadata": {
  "kernelspec": {
   "display_name": "Python 3",
   "language": "python",
   "name": "python3"
  },
  "language_info": {
   "codemirror_mode": {
    "name": "ipython",
    "version": 3
   },
   "file_extension": ".py",
   "mimetype": "text/x-python",
   "name": "python",
   "nbconvert_exporter": "python",
   "pygments_lexer": "ipython3",
   "version": "3.12.3"
  }
 },
 "nbformat": 4,
 "nbformat_minor": 5
}
